{
 "cells": [
  {
   "cell_type": "code",
   "execution_count": 1,
   "id": "9c0205d5-71a8-4569-b07b-b1b43d9464ae",
   "metadata": {},
   "outputs": [],
   "source": [
    "class Person:\n",
    "    pass"
   ]
  },
  {
   "cell_type": "code",
   "execution_count": 3,
   "id": "e8c1f8b8-7b87-4596-98d1-b935c1ce5ad5",
   "metadata": {},
   "outputs": [
    {
     "data": {
      "text/plain": [
       "type"
      ]
     },
     "execution_count": 3,
     "metadata": {},
     "output_type": "execute_result"
    }
   ],
   "source": [
    "type(Person)"
   ]
  },
  {
   "cell_type": "code",
   "execution_count": 4,
   "id": "c024b5f0-7229-4f3c-9f75-f77ba4b5630a",
   "metadata": {},
   "outputs": [
    {
     "data": {
      "text/plain": [
       "type"
      ]
     },
     "execution_count": 4,
     "metadata": {},
     "output_type": "execute_result"
    }
   ],
   "source": [
    "type(type)"
   ]
  },
  {
   "cell_type": "code",
   "execution_count": 5,
   "id": "23184c68-d343-4198-9484-b18abe4f7f74",
   "metadata": {},
   "outputs": [
    {
     "data": {
      "text/plain": [
       "'Person'"
      ]
     },
     "execution_count": 5,
     "metadata": {},
     "output_type": "execute_result"
    }
   ],
   "source": [
    "Person.__name__"
   ]
  },
  {
   "cell_type": "code",
   "execution_count": 6,
   "id": "8b150327-c2d0-41ed-a050-8f283af7270f",
   "metadata": {},
   "outputs": [],
   "source": [
    "p=Person()"
   ]
  },
  {
   "cell_type": "code",
   "execution_count": 7,
   "id": "f3a1bd84-71c6-45fd-80a4-bf22df53e6a4",
   "metadata": {},
   "outputs": [
    {
     "data": {
      "text/plain": [
       "__main__.Person"
      ]
     },
     "execution_count": 7,
     "metadata": {},
     "output_type": "execute_result"
    }
   ],
   "source": [
    "type(p)"
   ]
  },
  {
   "cell_type": "code",
   "execution_count": 8,
   "id": "e66cc3a9-61f8-4351-9e20-bca321d384a6",
   "metadata": {},
   "outputs": [
    {
     "data": {
      "text/plain": [
       "__main__.Person"
      ]
     },
     "execution_count": 8,
     "metadata": {},
     "output_type": "execute_result"
    }
   ],
   "source": [
    "p.__class__"
   ]
  },
  {
   "cell_type": "code",
   "execution_count": 9,
   "id": "83678ae2-ed24-4abe-ae96-5d0a5171f3d9",
   "metadata": {},
   "outputs": [
    {
     "data": {
      "text/plain": [
       "True"
      ]
     },
     "execution_count": 9,
     "metadata": {},
     "output_type": "execute_result"
    }
   ],
   "source": [
    "type(p) is p.__class__"
   ]
  },
  {
   "cell_type": "code",
   "execution_count": 10,
   "id": "a4362c43-bf8f-45e0-beca-b17ccf6d9c12",
   "metadata": {},
   "outputs": [
    {
     "data": {
      "text/plain": [
       "True"
      ]
     },
     "execution_count": 10,
     "metadata": {},
     "output_type": "execute_result"
    }
   ],
   "source": [
    "isinstance(p,Person)"
   ]
  },
  {
   "cell_type": "code",
   "execution_count": 11,
   "id": "77d56245-394a-4656-ad54-79071cb67be1",
   "metadata": {},
   "outputs": [
    {
     "data": {
      "text/plain": [
       "True"
      ]
     },
     "execution_count": 11,
     "metadata": {},
     "output_type": "execute_result"
    }
   ],
   "source": [
    "isinstance('hello',str)"
   ]
  },
  {
   "cell_type": "markdown",
   "id": "91c1478b-35cb-4ca5-8be5-24b4c348dc90",
   "metadata": {},
   "source": [
    "### Class Attribute Lecture\n",
    "\n",
    "#### getattr"
   ]
  },
  {
   "cell_type": "code",
   "execution_count": 12,
   "id": "f26a5079-9f0f-4d67-877f-e9caaa949037",
   "metadata": {},
   "outputs": [],
   "source": [
    "class MyClass:\n",
    "    language = 'Python'\n",
    "    version='3.8'"
   ]
  },
  {
   "cell_type": "code",
   "execution_count": 15,
   "id": "0b361730-5ba7-46e5-bf76-4c0e5cb80574",
   "metadata": {},
   "outputs": [
    {
     "data": {
      "text/plain": [
       "'Python'"
      ]
     },
     "execution_count": 15,
     "metadata": {},
     "output_type": "execute_result"
    }
   ],
   "source": [
    "getattr(MyClass,'language')"
   ]
  },
  {
   "cell_type": "code",
   "execution_count": 16,
   "id": "ad2e3b2f-1360-4696-a05f-b027fb8bff58",
   "metadata": {},
   "outputs": [
    {
     "ename": "AttributeError",
     "evalue": "type object 'MyClass' has no attribute 'x'",
     "output_type": "error",
     "traceback": [
      "\u001b[1;31m---------------------------------------------------------------------------\u001b[0m",
      "\u001b[1;31mAttributeError\u001b[0m                            Traceback (most recent call last)",
      "Cell \u001b[1;32mIn[16], line 1\u001b[0m\n\u001b[1;32m----> 1\u001b[0m \u001b[38;5;28;43mgetattr\u001b[39;49m\u001b[43m(\u001b[49m\u001b[43mMyClass\u001b[49m\u001b[43m,\u001b[49m\u001b[38;5;124;43m'\u001b[39;49m\u001b[38;5;124;43mx\u001b[39;49m\u001b[38;5;124;43m'\u001b[39;49m\u001b[43m)\u001b[49m\n",
      "\u001b[1;31mAttributeError\u001b[0m: type object 'MyClass' has no attribute 'x'"
     ]
    }
   ],
   "source": [
    "getattr(MyClass,'x')"
   ]
  },
  {
   "cell_type": "code",
   "execution_count": 17,
   "id": "8055ff48-72a0-4650-8593-f5eb4c5b6485",
   "metadata": {},
   "outputs": [
    {
     "data": {
      "text/plain": [
       "'N/A'"
      ]
     },
     "execution_count": 17,
     "metadata": {},
     "output_type": "execute_result"
    }
   ],
   "source": [
    "getattr(MyClass,'x','N/A')"
   ]
  },
  {
   "cell_type": "code",
   "execution_count": 18,
   "id": "b7606cbf-052a-4e54-a2a1-80c857ab6e68",
   "metadata": {},
   "outputs": [
    {
     "data": {
      "text/plain": [
       "'Python'"
      ]
     },
     "execution_count": 18,
     "metadata": {},
     "output_type": "execute_result"
    }
   ],
   "source": [
    "MyClass.language"
   ]
  },
  {
   "cell_type": "markdown",
   "id": "37e90e22-45d2-4a1e-83ae-355efa4fa281",
   "metadata": {},
   "source": [
    "## setattr"
   ]
  },
  {
   "cell_type": "code",
   "execution_count": 19,
   "id": "a608290d-8b2e-4a8c-ab42-3ffca74fd938",
   "metadata": {},
   "outputs": [],
   "source": [
    "setattr(MyClass,'version','3.7')"
   ]
  },
  {
   "cell_type": "code",
   "execution_count": 21,
   "id": "6a0fbc31-53c6-40e6-a0f7-eb109189ad00",
   "metadata": {},
   "outputs": [
    {
     "data": {
      "text/plain": [
       "'3.7'"
      ]
     },
     "execution_count": 21,
     "metadata": {},
     "output_type": "execute_result"
    }
   ],
   "source": [
    "MyClass.version"
   ]
  },
  {
   "cell_type": "code",
   "execution_count": 22,
   "id": "50ff8a13-a9f6-4ca3-9dcb-4f4c4d0e8345",
   "metadata": {},
   "outputs": [
    {
     "data": {
      "text/plain": [
       "'3.7'"
      ]
     },
     "execution_count": 22,
     "metadata": {},
     "output_type": "execute_result"
    }
   ],
   "source": [
    "getattr(MyClass,'version')"
   ]
  },
  {
   "cell_type": "code",
   "execution_count": 23,
   "id": "8bd549ed-857f-4e48-baad-0db1d3b54a00",
   "metadata": {},
   "outputs": [],
   "source": [
    "#What happens if we call setattr for an attribute we didnot define in our class\n",
    "#Python is dynamic language -> can modify our class at runtime\n",
    "\n",
    "setattr(MyClass,'x',100)"
   ]
  },
  {
   "cell_type": "code",
   "execution_count": 25,
   "id": "9c7e5c47-7ed5-459b-93f1-0e36c9d200cc",
   "metadata": {},
   "outputs": [
    {
     "data": {
      "text/plain": [
       "100"
      ]
     },
     "execution_count": 25,
     "metadata": {},
     "output_type": "execute_result"
    }
   ],
   "source": [
    "MyClass.x"
   ]
  },
  {
   "cell_type": "code",
   "execution_count": 26,
   "id": "615ff40d-7e97-4bfa-853a-858f50fd34c6",
   "metadata": {},
   "outputs": [
    {
     "data": {
      "text/plain": [
       "100"
      ]
     },
     "execution_count": 26,
     "metadata": {},
     "output_type": "execute_result"
    }
   ],
   "source": [
    "getattr(MyClass,'x')"
   ]
  },
  {
   "cell_type": "code",
   "execution_count": 27,
   "id": "80d80cf2-b804-4df8-932a-047293af6d2c",
   "metadata": {},
   "outputs": [],
   "source": [
    "## Where is state stored. State os stored in dictionary"
   ]
  },
  {
   "cell_type": "code",
   "execution_count": 28,
   "id": "ba164231-1d62-43cf-be64-db767b13b4ce",
   "metadata": {},
   "outputs": [
    {
     "data": {
      "text/plain": [
       "mappingproxy({'__module__': '__main__',\n",
       "              'language': 'Python',\n",
       "              'version': '3.7',\n",
       "              '__dict__': <attribute '__dict__' of 'MyClass' objects>,\n",
       "              '__weakref__': <attribute '__weakref__' of 'MyClass' objects>,\n",
       "              '__doc__': None,\n",
       "              'x': 100})"
      ]
     },
     "execution_count": 28,
     "metadata": {},
     "output_type": "execute_result"
    }
   ],
   "source": [
    "MyClass.__dict__"
   ]
  },
  {
   "cell_type": "code",
   "execution_count": 29,
   "id": "aebb1627-dfbf-41b3-8587-34774bf6bf54",
   "metadata": {},
   "outputs": [],
   "source": [
    "#Attribute names are considered as string in python\n",
    "#not directly mutable dictionary but setattr can\n",
    "#Ensures keys are Strings\n",
    "# We can remove attribute as well"
   ]
  },
  {
   "cell_type": "markdown",
   "id": "bf74bfd9-ba21-4cff-9396-40779fc12fe5",
   "metadata": {},
   "source": [
    "## delattr"
   ]
  },
  {
   "cell_type": "code",
   "execution_count": 30,
   "id": "4a978c73-34ac-447d-8039-15eac6602034",
   "metadata": {},
   "outputs": [],
   "source": [
    "delattr(MyClass,'x')"
   ]
  },
  {
   "cell_type": "code",
   "execution_count": 31,
   "id": "e5f2e13f-be30-4665-9918-b83130ee8d4c",
   "metadata": {},
   "outputs": [
    {
     "data": {
      "text/plain": [
       "mappingproxy({'__module__': '__main__',\n",
       "              'language': 'Python',\n",
       "              'version': '3.7',\n",
       "              '__dict__': <attribute '__dict__' of 'MyClass' objects>,\n",
       "              '__weakref__': <attribute '__weakref__' of 'MyClass' objects>,\n",
       "              '__doc__': None})"
      ]
     },
     "execution_count": 31,
     "metadata": {},
     "output_type": "execute_result"
    }
   ],
   "source": [
    "MyClass.__dict__"
   ]
  },
  {
   "cell_type": "code",
   "execution_count": 32,
   "id": "66c69c06-2146-4f14-aa85-820f46a89232",
   "metadata": {},
   "outputs": [
    {
     "data": {
      "text/plain": [
       "'Python'"
      ]
     },
     "execution_count": 32,
     "metadata": {},
     "output_type": "execute_result"
    }
   ],
   "source": [
    "MyClass.__dict__['language']"
   ]
  },
  {
   "cell_type": "markdown",
   "id": "85d143b3-98d5-45e1-ae5a-07a24a96165d",
   "metadata": {},
   "source": [
    "# Hands-On"
   ]
  },
  {
   "cell_type": "code",
   "execution_count": 33,
   "id": "5e3d418d-efed-45f2-8d02-720589c5f61f",
   "metadata": {},
   "outputs": [],
   "source": [
    "#Class Attributes\n",
    "class Person:\n",
    "    pass"
   ]
  },
  {
   "cell_type": "code",
   "execution_count": 34,
   "id": "bef5e60c-edd8-49b3-8cbd-44ca0e74fb7e",
   "metadata": {},
   "outputs": [
    {
     "data": {
      "text/plain": [
       "'Person'"
      ]
     },
     "execution_count": 34,
     "metadata": {},
     "output_type": "execute_result"
    }
   ],
   "source": [
    "Person.__name__"
   ]
  },
  {
   "cell_type": "code",
   "execution_count": 3,
   "id": "b8e7006a-166d-425c-af8e-3580bd4f0b1a",
   "metadata": {},
   "outputs": [],
   "source": [
    "class Program:\n",
    "    language=\"Python\"\n",
    "    version= '3.6'"
   ]
  },
  {
   "cell_type": "code",
   "execution_count": 4,
   "id": "be54d394-17d1-4ca8-8e3a-6beab6408911",
   "metadata": {},
   "outputs": [
    {
     "data": {
      "text/plain": [
       "'Program'"
      ]
     },
     "execution_count": 4,
     "metadata": {},
     "output_type": "execute_result"
    }
   ],
   "source": [
    "Program.__name__"
   ]
  },
  {
   "cell_type": "code",
   "execution_count": 5,
   "id": "a21d8274-098b-498d-b27e-2fbf3d7d1f71",
   "metadata": {},
   "outputs": [
    {
     "data": {
      "text/plain": [
       "type"
      ]
     },
     "execution_count": 5,
     "metadata": {},
     "output_type": "execute_result"
    }
   ],
   "source": [
    "type(Program)"
   ]
  },
  {
   "cell_type": "code",
   "execution_count": 6,
   "id": "e64f2985-7bc0-4d50-b104-befc23b68696",
   "metadata": {},
   "outputs": [
    {
     "data": {
      "text/plain": [
       "'Python'"
      ]
     },
     "execution_count": 6,
     "metadata": {},
     "output_type": "execute_result"
    }
   ],
   "source": [
    "Program.language"
   ]
  },
  {
   "cell_type": "code",
   "execution_count": 7,
   "id": "1be74b89-c70d-4464-a337-d4e9f16c17e5",
   "metadata": {},
   "outputs": [
    {
     "data": {
      "text/plain": [
       "'3.6'"
      ]
     },
     "execution_count": 7,
     "metadata": {},
     "output_type": "execute_result"
    }
   ],
   "source": [
    "Program.version"
   ]
  },
  {
   "cell_type": "code",
   "execution_count": 8,
   "id": "14f98d0c-1357-4a7b-b51b-9c86b4b48cc8",
   "metadata": {},
   "outputs": [
    {
     "data": {
      "text/plain": [
       "'Python'"
      ]
     },
     "execution_count": 8,
     "metadata": {},
     "output_type": "execute_result"
    }
   ],
   "source": [
    "getattr(Program,'language')\n",
    "#specify in string"
   ]
  },
  {
   "cell_type": "code",
   "execution_count": 9,
   "id": "66c61f5d-0e2a-41eb-af96-f63cd1728441",
   "metadata": {},
   "outputs": [],
   "source": [
    "setattr(Program,'version','3.1')"
   ]
  },
  {
   "cell_type": "code",
   "execution_count": 10,
   "id": "82f2b0b1-ea7d-4373-802f-f7b380c59446",
   "metadata": {},
   "outputs": [
    {
     "data": {
      "text/plain": [
       "'3.1'"
      ]
     },
     "execution_count": 10,
     "metadata": {},
     "output_type": "execute_result"
    }
   ],
   "source": [
    "Program.version"
   ]
  },
  {
   "cell_type": "code",
   "execution_count": 11,
   "id": "4c5d6bc5-1f94-46d6-87b5-564d65a8251e",
   "metadata": {},
   "outputs": [
    {
     "data": {
      "text/plain": [
       "'N/A'"
      ]
     },
     "execution_count": 11,
     "metadata": {},
     "output_type": "execute_result"
    }
   ],
   "source": [
    "getattr(Program,'x','N/A')"
   ]
  },
  {
   "cell_type": "code",
   "execution_count": 12,
   "id": "9fe04122-1a90-476a-b89d-b0caac53ad2a",
   "metadata": {},
   "outputs": [
    {
     "data": {
      "text/plain": [
       "'n/a'"
      ]
     },
     "execution_count": 12,
     "metadata": {},
     "output_type": "execute_result"
    }
   ],
   "source": [
    "getattr('hello','x','n/a')"
   ]
  },
  {
   "cell_type": "code",
   "execution_count": 13,
   "id": "a75790a9-094d-48c5-a607-efd5bedfd2f9",
   "metadata": {},
   "outputs": [],
   "source": [
    "Program.x=100"
   ]
  },
  {
   "cell_type": "code",
   "execution_count": 14,
   "id": "8afa9d53-6ff0-42da-9702-60846dfac98f",
   "metadata": {},
   "outputs": [
    {
     "data": {
      "text/plain": [
       "(100, 100)"
      ]
     },
     "execution_count": 14,
     "metadata": {},
     "output_type": "execute_result"
    }
   ],
   "source": [
    "Program.x,getattr(Program,'x')"
   ]
  },
  {
   "cell_type": "code",
   "execution_count": 15,
   "id": "092825ab-0bb7-42f8-9994-be5ac88e6c04",
   "metadata": {},
   "outputs": [
    {
     "data": {
      "text/plain": [
       "mappingproxy({'__module__': '__main__',\n",
       "              'language': 'Python',\n",
       "              'version': '3.1',\n",
       "              '__dict__': <attribute '__dict__' of 'Program' objects>,\n",
       "              '__weakref__': <attribute '__weakref__' of 'Program' objects>,\n",
       "              '__doc__': None,\n",
       "              'x': 100})"
      ]
     },
     "execution_count": 15,
     "metadata": {},
     "output_type": "execute_result"
    }
   ],
   "source": [
    "Program.__dict__"
   ]
  },
  {
   "cell_type": "code",
   "execution_count": 16,
   "id": "246575eb-3ac1-44af-a974-76939de65f54",
   "metadata": {},
   "outputs": [],
   "source": [
    "setattr(Program,'x',-100)"
   ]
  },
  {
   "cell_type": "code",
   "execution_count": null,
   "id": "96b321d6-01d2-46c1-b535-136b5ae8e800",
   "metadata": {},
   "outputs": [],
   "source": []
  }
 ],
 "metadata": {
  "kernelspec": {
   "display_name": "Python 3 (ipykernel)",
   "language": "python",
   "name": "python3"
  },
  "language_info": {
   "codemirror_mode": {
    "name": "ipython",
    "version": 3
   },
   "file_extension": ".py",
   "mimetype": "text/x-python",
   "name": "python",
   "nbconvert_exporter": "python",
   "pygments_lexer": "ipython3",
   "version": "3.10.0"
  }
 },
 "nbformat": 4,
 "nbformat_minor": 5
}
