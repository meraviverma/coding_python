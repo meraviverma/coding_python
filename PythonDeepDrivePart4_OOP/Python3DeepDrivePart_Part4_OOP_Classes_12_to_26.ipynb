{
 "cells": [
  {
   "cell_type": "markdown",
   "id": "d433300b-4a1b-4e71-90ae-4295d0f70441",
   "metadata": {},
   "source": [
    "## Initializing class Instance"
   ]
  },
  {
   "cell_type": "code",
   "execution_count": 2,
   "id": "5ffba04c-c66d-4266-92ac-d89aa841f764",
   "metadata": {},
   "outputs": [],
   "source": [
    "class Person:\n",
    "    def __init__(self):\n",
    "        print(f'Initilize a new Person object: {self}')"
   ]
  },
  {
   "cell_type": "code",
   "execution_count": 3,
   "id": "969a7b7f-64a2-49cc-965a-f03444448fe3",
   "metadata": {},
   "outputs": [
    {
     "name": "stdout",
     "output_type": "stream",
     "text": [
      "Initilize a new Person object: <__main__.Person object at 0x0000020A0C0FBBB0>\n"
     ]
    }
   ],
   "source": [
    "p = Person()"
   ]
  },
  {
   "cell_type": "code",
   "execution_count": 4,
   "id": "f19aeb49-6fcb-4583-a2ab-d9e4f37defe2",
   "metadata": {},
   "outputs": [
    {
     "data": {
      "text/plain": [
       "'0x20a0c0fbbb0'"
      ]
     },
     "execution_count": 4,
     "metadata": {},
     "output_type": "execute_result"
    }
   ],
   "source": [
    "hex(id(p))"
   ]
  },
  {
   "cell_type": "code",
   "execution_count": 5,
   "id": "9619d6de-fdaa-468d-a0bb-89501d63fae1",
   "metadata": {},
   "outputs": [],
   "source": [
    "class Person:\n",
    "    def __init__(self,name):\n",
    "        self.name=name"
   ]
  },
  {
   "cell_type": "code",
   "execution_count": 6,
   "id": "d5b2aa65-4a97-4b89-b6c8-1eef30e53efe",
   "metadata": {},
   "outputs": [],
   "source": [
    "p=Person('Eric')"
   ]
  },
  {
   "cell_type": "code",
   "execution_count": 7,
   "id": "089d6df1-aa9e-44db-a3d2-32d05653627f",
   "metadata": {},
   "outputs": [
    {
     "data": {
      "text/plain": [
       "{'name': 'Eric'}"
      ]
     },
     "execution_count": 7,
     "metadata": {},
     "output_type": "execute_result"
    }
   ],
   "source": [
    "p.__dict__"
   ]
  },
  {
   "cell_type": "code",
   "execution_count": 8,
   "id": "b3a60535-5840-474e-9367-55f7a0df6f5d",
   "metadata": {},
   "outputs": [],
   "source": [
    "class Person:\n",
    "    def init(self,name):\n",
    "        self.name=name"
   ]
  },
  {
   "cell_type": "code",
   "execution_count": 9,
   "id": "6b4ca59d-6c82-4265-a860-1d88da2aadec",
   "metadata": {},
   "outputs": [],
   "source": [
    "p=Person()"
   ]
  },
  {
   "cell_type": "code",
   "execution_count": 10,
   "id": "94ddc347-facd-4714-9334-934fa7206b1a",
   "metadata": {},
   "outputs": [
    {
     "data": {
      "text/plain": [
       "{}"
      ]
     },
     "execution_count": 10,
     "metadata": {},
     "output_type": "execute_result"
    }
   ],
   "source": [
    "p.__dict__"
   ]
  },
  {
   "cell_type": "code",
   "execution_count": 11,
   "id": "6924fd19-3d30-45c7-a882-fd4cc4011522",
   "metadata": {},
   "outputs": [],
   "source": [
    "p.init('Eric')"
   ]
  },
  {
   "cell_type": "code",
   "execution_count": 12,
   "id": "65b6ce40-de65-4f04-90ce-417499de648e",
   "metadata": {},
   "outputs": [
    {
     "data": {
      "text/plain": [
       "{'name': 'Eric'}"
      ]
     },
     "execution_count": 12,
     "metadata": {},
     "output_type": "execute_result"
    }
   ],
   "source": [
    "p.__dict__"
   ]
  },
  {
   "cell_type": "markdown",
   "id": "9d2f6bdb-fae7-48c4-97ba-9bf506844279",
   "metadata": {},
   "source": [
    "## Creating attribute at runtime"
   ]
  },
  {
   "cell_type": "code",
   "execution_count": 13,
   "id": "b6e45b31-787c-4466-be8f-eea064e3cbf3",
   "metadata": {},
   "outputs": [],
   "source": [
    "class MyClass:\n",
    "    language = 'Python'"
   ]
  },
  {
   "cell_type": "code",
   "execution_count": 14,
   "id": "0b894c6a-3c88-4800-a67b-e38eaed94d1a",
   "metadata": {},
   "outputs": [],
   "source": [
    "obj=MyClass()"
   ]
  },
  {
   "cell_type": "code",
   "execution_count": 15,
   "id": "f7e06ddf-1414-41c3-be94-8e757f5841e3",
   "metadata": {},
   "outputs": [
    {
     "data": {
      "text/plain": [
       "{}"
      ]
     },
     "execution_count": 15,
     "metadata": {},
     "output_type": "execute_result"
    }
   ],
   "source": [
    "obj.__dict__"
   ]
  },
  {
   "cell_type": "code",
   "execution_count": 16,
   "id": "502a7204-6bd6-46e0-ba95-d256678a803c",
   "metadata": {},
   "outputs": [],
   "source": [
    "obj.version='3.7'"
   ]
  },
  {
   "cell_type": "code",
   "execution_count": 18,
   "id": "6f3b2576-b780-4a19-b0cb-05cee2496038",
   "metadata": {},
   "outputs": [
    {
     "data": {
      "text/plain": [
       "{'version': '3.7'}"
      ]
     },
     "execution_count": 18,
     "metadata": {},
     "output_type": "execute_result"
    }
   ],
   "source": [
    "obj.__dict__"
   ]
  },
  {
   "cell_type": "code",
   "execution_count": 19,
   "id": "be00562c-586f-40d7-bc86-1e4b132df2ff",
   "metadata": {},
   "outputs": [
    {
     "data": {
      "text/plain": [
       "mappingproxy({'__module__': '__main__',\n",
       "              'language': 'Python',\n",
       "              '__dict__': <attribute '__dict__' of 'MyClass' objects>,\n",
       "              '__weakref__': <attribute '__weakref__' of 'MyClass' objects>,\n",
       "              '__doc__': None})"
      ]
     },
     "execution_count": 19,
     "metadata": {},
     "output_type": "execute_result"
    }
   ],
   "source": [
    "MyClass.__dict__"
   ]
  },
  {
   "cell_type": "code",
   "execution_count": 21,
   "id": "cd376bbe-0ee6-47d7-b387-9fda2490beb3",
   "metadata": {},
   "outputs": [],
   "source": [
    "obj.say_hello =  lambda: 'Hello World!'"
   ]
  },
  {
   "cell_type": "code",
   "execution_count": 22,
   "id": "4e13d334-daf9-4e15-af7c-92b1f890032d",
   "metadata": {},
   "outputs": [
    {
     "data": {
      "text/plain": [
       "'Hello World!'"
      ]
     },
     "execution_count": 22,
     "metadata": {},
     "output_type": "execute_result"
    }
   ],
   "source": [
    "obj.say_hello()"
   ]
  },
  {
   "cell_type": "code",
   "execution_count": 23,
   "id": "42f19bb7-62c2-449e-8b00-e07b524490b6",
   "metadata": {},
   "outputs": [
    {
     "data": {
      "text/plain": [
       "{'version': '3.7', 'say_hello': <function __main__.<lambda>()>}"
      ]
     },
     "execution_count": 23,
     "metadata": {},
     "output_type": "execute_result"
    }
   ],
   "source": [
    "obj.__dict__"
   ]
  },
  {
   "cell_type": "markdown",
   "id": "e1ff12ac-2be5-4392-bad2-0f7cf40507a2",
   "metadata": {},
   "source": [
    "## Can we create and bind a method to an instance at runtime?"
   ]
  },
  {
   "cell_type": "markdown",
   "id": "1fb113da-8530-4b8c-9f91-5433074a6706",
   "metadata": {},
   "source": [
    "## Creating Attributes at runtime"
   ]
  },
  {
   "cell_type": "code",
   "execution_count": 33,
   "id": "986e461b-20f2-4b6e-8350-aafb670a4bc9",
   "metadata": {},
   "outputs": [],
   "source": [
    "class Person:\n",
    "    pass"
   ]
  },
  {
   "cell_type": "code",
   "execution_count": 34,
   "id": "939d6e01-aed2-4cce-b2ba-1c8cae4e6b61",
   "metadata": {},
   "outputs": [],
   "source": [
    "p1=Person()"
   ]
  },
  {
   "cell_type": "code",
   "execution_count": 35,
   "id": "409f7c1b-1813-4b69-a07d-eb14ecbaed91",
   "metadata": {},
   "outputs": [],
   "source": [
    "p2=Person()"
   ]
  },
  {
   "cell_type": "code",
   "execution_count": 36,
   "id": "ebd9208e-dda2-47ac-9e5b-157a406e7254",
   "metadata": {},
   "outputs": [],
   "source": [
    "p1.name='ALex'"
   ]
  },
  {
   "cell_type": "code",
   "execution_count": 37,
   "id": "c8c85c63-edc4-4f73-8185-12c93aaf183c",
   "metadata": {},
   "outputs": [
    {
     "data": {
      "text/plain": [
       "{'name': 'ALex'}"
      ]
     },
     "execution_count": 37,
     "metadata": {},
     "output_type": "execute_result"
    }
   ],
   "source": [
    "p1.__dict__"
   ]
  },
  {
   "cell_type": "code",
   "execution_count": 38,
   "id": "ea6f619d-6f59-46e3-8dc7-86c2ceaf7f22",
   "metadata": {},
   "outputs": [
    {
     "data": {
      "text/plain": [
       "{}"
      ]
     },
     "execution_count": 38,
     "metadata": {},
     "output_type": "execute_result"
    }
   ],
   "source": [
    "p2.__dict__"
   ]
  },
  {
   "cell_type": "code",
   "execution_count": 39,
   "id": "0e26997f-fde3-472c-9568-8ed8097bd7e3",
   "metadata": {},
   "outputs": [],
   "source": [
    "p1.say_hello=lambda:'Hello'"
   ]
  },
  {
   "cell_type": "code",
   "execution_count": 40,
   "id": "274a5e9b-9b3a-4e74-b9e3-55b7263f0fdd",
   "metadata": {},
   "outputs": [
    {
     "data": {
      "text/plain": [
       "<function __main__.<lambda>()>"
      ]
     },
     "execution_count": 40,
     "metadata": {},
     "output_type": "execute_result"
    }
   ],
   "source": [
    "p1.say_hello"
   ]
  },
  {
   "cell_type": "code",
   "execution_count": 41,
   "id": "a76861f8-a0bf-44ea-a754-fc4db92781ca",
   "metadata": {},
   "outputs": [
    {
     "data": {
      "text/plain": [
       "{'name': 'ALex', 'say_hello': <function __main__.<lambda>()>}"
      ]
     },
     "execution_count": 41,
     "metadata": {},
     "output_type": "execute_result"
    }
   ],
   "source": [
    "p1.__dict__"
   ]
  },
  {
   "cell_type": "code",
   "execution_count": 42,
   "id": "16870579-f9df-4a49-8c2d-56ac10bf7104",
   "metadata": {},
   "outputs": [
    {
     "data": {
      "text/plain": [
       "{}"
      ]
     },
     "execution_count": 42,
     "metadata": {},
     "output_type": "execute_result"
    }
   ],
   "source": [
    "p2.__dict__"
   ]
  },
  {
   "cell_type": "code",
   "execution_count": 43,
   "id": "fe197ca1-6d2d-47c8-b88b-c1ad598284d8",
   "metadata": {},
   "outputs": [],
   "source": [
    "from types import MethodType"
   ]
  },
  {
   "cell_type": "code",
   "execution_count": 44,
   "id": "3abac4c3-0fa0-4f87-9195-1072af2bfe2d",
   "metadata": {},
   "outputs": [],
   "source": [
    "class Person:\n",
    "    def __init__(self,name):\n",
    "        self.name=name"
   ]
  },
  {
   "cell_type": "code",
   "execution_count": 45,
   "id": "6328cb85-1bd7-4640-a6f3-1510d9dcf26f",
   "metadata": {},
   "outputs": [],
   "source": [
    "p1=Person('Eric')\n",
    "p2=Person('Alex')"
   ]
  },
  {
   "cell_type": "code",
   "execution_count": 46,
   "id": "fbabd18a-62ab-4089-b2ff-675a1f5b21dd",
   "metadata": {},
   "outputs": [
    {
     "data": {
      "text/plain": [
       "({'name': 'Eric'}, {'name': 'Alex'})"
      ]
     },
     "execution_count": 46,
     "metadata": {},
     "output_type": "execute_result"
    }
   ],
   "source": [
    "p1.__dict__,p2.__dict__"
   ]
  },
  {
   "cell_type": "code",
   "execution_count": 47,
   "id": "9e6f2e75-058e-4ffa-98b4-3f6cb253efb9",
   "metadata": {},
   "outputs": [],
   "source": [
    "def say_hello(self):\n",
    "    return f'{self.name} says hello!'"
   ]
  },
  {
   "cell_type": "code",
   "execution_count": 48,
   "id": "a5f56724-50fd-4b43-befa-6795cc4a687d",
   "metadata": {},
   "outputs": [
    {
     "data": {
      "text/plain": [
       "'Eric says hello!'"
      ]
     },
     "execution_count": 48,
     "metadata": {},
     "output_type": "execute_result"
    }
   ],
   "source": [
    "say_hello(p1)"
   ]
  },
  {
   "cell_type": "code",
   "execution_count": 50,
   "id": "6e5f902a-abe7-4d8c-8948-adb89c7ba69a",
   "metadata": {},
   "outputs": [],
   "source": [
    "p1_say_hello = MethodType(say_hello,p1)"
   ]
  },
  {
   "cell_type": "code",
   "execution_count": 51,
   "id": "a4682c92-9567-4b21-941b-3080be92c84f",
   "metadata": {},
   "outputs": [
    {
     "data": {
      "text/plain": [
       "<bound method say_hello of <__main__.Person object at 0x0000020A0D394550>>"
      ]
     },
     "execution_count": 51,
     "metadata": {},
     "output_type": "execute_result"
    }
   ],
   "source": [
    "p1_say_hello"
   ]
  },
  {
   "cell_type": "code",
   "execution_count": 52,
   "id": "16c833fd-706a-45bd-bed6-dfcccf72f7de",
   "metadata": {},
   "outputs": [
    {
     "ename": "AttributeError",
     "evalue": "'Person' object has no attribute 'p1_say_hello'",
     "output_type": "error",
     "traceback": [
      "\u001b[1;31m---------------------------------------------------------------------------\u001b[0m",
      "\u001b[1;31mAttributeError\u001b[0m                            Traceback (most recent call last)",
      "Cell \u001b[1;32mIn[52], line 1\u001b[0m\n\u001b[1;32m----> 1\u001b[0m \u001b[43mp1\u001b[49m\u001b[38;5;241;43m.\u001b[39;49m\u001b[43mp1_say_hello\u001b[49m\n",
      "\u001b[1;31mAttributeError\u001b[0m: 'Person' object has no attribute 'p1_say_hello'"
     ]
    }
   ],
   "source": [
    "p1.p1_say_hello"
   ]
  },
  {
   "cell_type": "code",
   "execution_count": 53,
   "id": "0e9ab39b-8b9b-43c2-a716-99bd1c660b01",
   "metadata": {},
   "outputs": [
    {
     "data": {
      "text/plain": [
       "{'name': 'Eric'}"
      ]
     },
     "execution_count": 53,
     "metadata": {},
     "output_type": "execute_result"
    }
   ],
   "source": [
    "p1.__dict__"
   ]
  },
  {
   "cell_type": "code",
   "execution_count": 54,
   "id": "954d25e1-7ce5-463b-936b-fdba5758a412",
   "metadata": {},
   "outputs": [],
   "source": [
    "p1.say_hello=p1_say_hello"
   ]
  },
  {
   "cell_type": "code",
   "execution_count": 68,
   "id": "649cd667-1997-4e1c-a861-6bd63cf2cb3c",
   "metadata": {},
   "outputs": [
    {
     "data": {
      "text/plain": [
       "{'name': 'Eric',\n",
       " 'say_hello': <bound method say_hello of <__main__.Person object at 0x0000020A0D394550>>}"
      ]
     },
     "execution_count": 68,
     "metadata": {},
     "output_type": "execute_result"
    }
   ],
   "source": [
    "p1.__dict__"
   ]
  },
  {
   "cell_type": "code",
   "execution_count": 71,
   "id": "5b9f17b3-fc54-463a-9689-6477e6faa98d",
   "metadata": {},
   "outputs": [
    {
     "data": {
      "text/plain": [
       "<bound method say_hello of <__main__.Person object at 0x0000020A0D394550>>"
      ]
     },
     "execution_count": 71,
     "metadata": {},
     "output_type": "execute_result"
    }
   ],
   "source": [
    "p1.say_hello"
   ]
  },
  {
   "cell_type": "code",
   "execution_count": 70,
   "id": "f781cd45-619b-4b98-bd3a-fb7006d611d5",
   "metadata": {},
   "outputs": [
    {
     "data": {
      "text/plain": [
       "'Eric says hello!'"
      ]
     },
     "execution_count": 70,
     "metadata": {},
     "output_type": "execute_result"
    }
   ],
   "source": [
    "p1.say_hello()"
   ]
  },
  {
   "cell_type": "code",
   "execution_count": 80,
   "id": "4a73bf33-8fad-4e6d-83d7-90d3d82fa7c6",
   "metadata": {},
   "outputs": [],
   "source": [
    "class Person:\n",
    "    def __init__(self,name):\n",
    "        self.name=name\n",
    "    def register_do_work(self,func):\n",
    "        setattr(self,'_do_work',MethodType(func,self))\n",
    "    def do_work(self):\n",
    "        do_work_method=getattr(self,'_do_work',None)\n",
    "\n",
    "        if do_work_method:\n",
    "            return do_work_method()\n",
    "        else:\n",
    "            raise AttributeError('You must register a do_work method.')"
   ]
  },
  {
   "cell_type": "code",
   "execution_count": 81,
   "id": "18c9c922-866c-43e0-8f6b-056268741a2e",
   "metadata": {},
   "outputs": [],
   "source": [
    "math_teacher=Person('Eric')\n",
    "english_teacher=Person('john')"
   ]
  },
  {
   "cell_type": "code",
   "execution_count": 82,
   "id": "3a54f608-edac-4f76-88cc-33c465ca1960",
   "metadata": {},
   "outputs": [
    {
     "ename": "AttributeError",
     "evalue": "You must register a do_work method.",
     "output_type": "error",
     "traceback": [
      "\u001b[1;31m---------------------------------------------------------------------------\u001b[0m",
      "\u001b[1;31mAttributeError\u001b[0m                            Traceback (most recent call last)",
      "Cell \u001b[1;32mIn[82], line 1\u001b[0m\n\u001b[1;32m----> 1\u001b[0m \u001b[43mmath_teacher\u001b[49m\u001b[38;5;241;43m.\u001b[39;49m\u001b[43mdo_work\u001b[49m\u001b[43m(\u001b[49m\u001b[43m)\u001b[49m\n",
      "Cell \u001b[1;32mIn[80], line 12\u001b[0m, in \u001b[0;36mPerson.do_work\u001b[1;34m(self)\u001b[0m\n\u001b[0;32m     10\u001b[0m     \u001b[38;5;28;01mreturn\u001b[39;00m do_work_method()\n\u001b[0;32m     11\u001b[0m \u001b[38;5;28;01melse\u001b[39;00m:\n\u001b[1;32m---> 12\u001b[0m     \u001b[38;5;28;01mraise\u001b[39;00m \u001b[38;5;167;01mAttributeError\u001b[39;00m(\u001b[38;5;124m'\u001b[39m\u001b[38;5;124mYou must register a do_work method.\u001b[39m\u001b[38;5;124m'\u001b[39m)\n",
      "\u001b[1;31mAttributeError\u001b[0m: You must register a do_work method."
     ]
    }
   ],
   "source": [
    "math_teacher.do_work()"
   ]
  },
  {
   "cell_type": "code",
   "execution_count": 83,
   "id": "70af16a0-5dec-4494-a94a-cb17f07afaff",
   "metadata": {},
   "outputs": [],
   "source": [
    "def work_math(self):\n",
    "    return f'{self.name} will teach differntials today.'"
   ]
  },
  {
   "cell_type": "code",
   "execution_count": 86,
   "id": "dd471767-e370-4fcc-9937-541aa21752dd",
   "metadata": {},
   "outputs": [],
   "source": [
    "math_teacher.register_do_work(work_math)"
   ]
  },
  {
   "cell_type": "code",
   "execution_count": 87,
   "id": "c55a46a7-f6a1-4f05-9bb9-3a3f080b2988",
   "metadata": {},
   "outputs": [
    {
     "data": {
      "text/plain": [
       "{'name': 'Eric',\n",
       " '_do_work': <bound method work_math of <__main__.Person object at 0x0000020A0D2728C0>>}"
      ]
     },
     "execution_count": 87,
     "metadata": {},
     "output_type": "execute_result"
    }
   ],
   "source": [
    "math_teacher.__dict__"
   ]
  },
  {
   "cell_type": "code",
   "execution_count": 88,
   "id": "64df4a2f-5656-43af-9690-b4b16817b111",
   "metadata": {},
   "outputs": [
    {
     "data": {
      "text/plain": [
       "'Eric will teach differntials today.'"
      ]
     },
     "execution_count": 88,
     "metadata": {},
     "output_type": "execute_result"
    }
   ],
   "source": [
    "math_teacher.do_work()"
   ]
  },
  {
   "cell_type": "code",
   "execution_count": 90,
   "id": "a074bc31-6b53-42e9-8b36-9af4e522c08c",
   "metadata": {},
   "outputs": [],
   "source": [
    "def work_english(self):\n",
    "    return f'{self.name} will analyze Hamelt today'"
   ]
  },
  {
   "cell_type": "code",
   "execution_count": 91,
   "id": "de06c2e8-1f30-4d7a-908f-35dbfa5153ee",
   "metadata": {},
   "outputs": [],
   "source": [
    "english_teacher.register_do_work(work_english)"
   ]
  },
  {
   "cell_type": "code",
   "execution_count": 92,
   "id": "7ffe22cf-a04c-441b-a1c1-202c6afbe756",
   "metadata": {},
   "outputs": [
    {
     "data": {
      "text/plain": [
       "{'name': 'john',\n",
       " '_do_work': <bound method work_english of <__main__.Person object at 0x0000020A0D4AA3E0>>}"
      ]
     },
     "execution_count": 92,
     "metadata": {},
     "output_type": "execute_result"
    }
   ],
   "source": [
    "english_teacher.__dict__"
   ]
  },
  {
   "cell_type": "code",
   "execution_count": 93,
   "id": "44f9dc49-d931-4658-89d9-2485fb8c7d75",
   "metadata": {},
   "outputs": [
    {
     "data": {
      "text/plain": [
       "'john will analyze Hamelt today'"
      ]
     },
     "execution_count": 93,
     "metadata": {},
     "output_type": "execute_result"
    }
   ],
   "source": [
    "english_teacher.do_work()"
   ]
  },
  {
   "cell_type": "code",
   "execution_count": 95,
   "id": "146db08b-15de-4a05-8903-5a3c1a079dbc",
   "metadata": {},
   "outputs": [],
   "source": [
    "persons =[math_teacher,english_teacher]"
   ]
  },
  {
   "cell_type": "code",
   "execution_count": 96,
   "id": "a692b80e-7463-4dcd-9ec4-00e1536198e1",
   "metadata": {},
   "outputs": [
    {
     "name": "stdout",
     "output_type": "stream",
     "text": [
      "Eric will teach differntials today.\n",
      "john will analyze Hamelt today\n"
     ]
    }
   ],
   "source": [
    "for p in persons:\n",
    "    print(p.do_work())"
   ]
  },
  {
   "cell_type": "markdown",
   "id": "1b3cfae4-79a9-42a0-be50-abf117e199b6",
   "metadata": {},
   "source": [
    "# getattr"
   ]
  },
  {
   "cell_type": "code",
   "execution_count": 56,
   "id": "6778bd31-698d-4a8e-ad14-7bd6be26b410",
   "metadata": {},
   "outputs": [],
   "source": [
    "class MyClass:\n",
    "    language=\"Python\""
   ]
  },
  {
   "cell_type": "code",
   "execution_count": 57,
   "id": "9a230582-7306-4fe0-879b-35b79240b85e",
   "metadata": {},
   "outputs": [],
   "source": [
    "obj=MyClass()"
   ]
  },
  {
   "cell_type": "code",
   "execution_count": 59,
   "id": "bcbb34bf-d14d-4bc4-b28b-287fc57c9aea",
   "metadata": {},
   "outputs": [
    {
     "name": "stdout",
     "output_type": "stream",
     "text": [
      "Python\n"
     ]
    }
   ],
   "source": [
    "print(getattr(obj,\"language\"))"
   ]
  },
  {
   "cell_type": "code",
   "execution_count": 60,
   "id": "61c0de4b-9c8b-4ddb-b1fe-984247b18859",
   "metadata": {},
   "outputs": [
    {
     "data": {
      "text/plain": [
       "'Python'"
      ]
     },
     "execution_count": 60,
     "metadata": {},
     "output_type": "execute_result"
    }
   ],
   "source": [
    "getattr(obj,\"language\")"
   ]
  },
  {
   "cell_type": "code",
   "execution_count": 61,
   "id": "d76c7280-4675-4060-b3c0-9d69014806e9",
   "metadata": {},
   "outputs": [
    {
     "data": {
      "text/plain": [
       "'Python'"
      ]
     },
     "execution_count": 61,
     "metadata": {},
     "output_type": "execute_result"
    }
   ],
   "source": [
    "obj.language"
   ]
  },
  {
   "cell_type": "code",
   "execution_count": 62,
   "id": "b7820a46-3cc6-421d-94a5-6c475ce33861",
   "metadata": {},
   "outputs": [
    {
     "ename": "AttributeError",
     "evalue": "'MyClass' object has no attribute 'spanish'",
     "output_type": "error",
     "traceback": [
      "\u001b[1;31m---------------------------------------------------------------------------\u001b[0m",
      "\u001b[1;31mAttributeError\u001b[0m                            Traceback (most recent call last)",
      "Cell \u001b[1;32mIn[62], line 1\u001b[0m\n\u001b[1;32m----> 1\u001b[0m \u001b[43mobj\u001b[49m\u001b[38;5;241;43m.\u001b[39;49m\u001b[43mspanish\u001b[49m\n",
      "\u001b[1;31mAttributeError\u001b[0m: 'MyClass' object has no attribute 'spanish'"
     ]
    }
   ],
   "source": [
    "obj.spanish"
   ]
  },
  {
   "cell_type": "code",
   "execution_count": 63,
   "id": "238d12fd-5f62-4433-b58e-41986fbd1b17",
   "metadata": {},
   "outputs": [
    {
     "data": {
      "text/plain": [
       "'unknown'"
      ]
     },
     "execution_count": 63,
     "metadata": {},
     "output_type": "execute_result"
    }
   ],
   "source": [
    "getattr(obj,\"spanish\",\"unknown\")"
   ]
  },
  {
   "cell_type": "code",
   "execution_count": 64,
   "id": "25c09618-2310-4f4a-90ad-0e555017c21d",
   "metadata": {},
   "outputs": [
    {
     "ename": "AttributeError",
     "evalue": "'MyClass' object has no attribute 'grench'",
     "output_type": "error",
     "traceback": [
      "\u001b[1;31m---------------------------------------------------------------------------\u001b[0m",
      "\u001b[1;31mAttributeError\u001b[0m                            Traceback (most recent call last)",
      "Cell \u001b[1;32mIn[64], line 1\u001b[0m\n\u001b[1;32m----> 1\u001b[0m \u001b[38;5;28;43mgetattr\u001b[39;49m\u001b[43m(\u001b[49m\u001b[43mobj\u001b[49m\u001b[43m,\u001b[49m\u001b[38;5;124;43m\"\u001b[39;49m\u001b[38;5;124;43mgrench\u001b[39;49m\u001b[38;5;124;43m\"\u001b[39;49m\u001b[43m)\u001b[49m\n",
      "\u001b[1;31mAttributeError\u001b[0m: 'MyClass' object has no attribute 'grench'"
     ]
    }
   ],
   "source": [
    "getattr(obj,\"grench\")"
   ]
  },
  {
   "cell_type": "code",
   "execution_count": 65,
   "id": "1de69e5b-1b87-4445-9cf6-ce384950f356",
   "metadata": {},
   "outputs": [],
   "source": [
    "attr_name=\"language\""
   ]
  },
  {
   "cell_type": "code",
   "execution_count": 66,
   "id": "53478963-fe70-45d1-a44f-41d1e8a835f4",
   "metadata": {},
   "outputs": [
    {
     "data": {
      "text/plain": [
       "'Python'"
      ]
     },
     "execution_count": 66,
     "metadata": {},
     "output_type": "execute_result"
    }
   ],
   "source": [
    "getattr(obj,attr_name)"
   ]
  },
  {
   "cell_type": "code",
   "execution_count": 67,
   "id": "64a1848f-0ba9-419e-ba98-e93d47cdcf2e",
   "metadata": {},
   "outputs": [
    {
     "ename": "AttributeError",
     "evalue": "'MyClass' object has no attribute 'attr_name'",
     "output_type": "error",
     "traceback": [
      "\u001b[1;31m---------------------------------------------------------------------------\u001b[0m",
      "\u001b[1;31mAttributeError\u001b[0m                            Traceback (most recent call last)",
      "Cell \u001b[1;32mIn[67], line 1\u001b[0m\n\u001b[1;32m----> 1\u001b[0m \u001b[43mobj\u001b[49m\u001b[38;5;241;43m.\u001b[39;49m\u001b[43mattr_name\u001b[49m\n",
      "\u001b[1;31mAttributeError\u001b[0m: 'MyClass' object has no attribute 'attr_name'"
     ]
    }
   ],
   "source": [
    "obj.attr_name"
   ]
  },
  {
   "cell_type": "code",
   "execution_count": null,
   "id": "e3457a5e-f04d-493a-9bef-a4c6579c75e9",
   "metadata": {},
   "outputs": [],
   "source": []
  }
 ],
 "metadata": {
  "kernelspec": {
   "display_name": "Python 3 (ipykernel)",
   "language": "python",
   "name": "python3"
  },
  "language_info": {
   "codemirror_mode": {
    "name": "ipython",
    "version": 3
   },
   "file_extension": ".py",
   "mimetype": "text/x-python",
   "name": "python",
   "nbconvert_exporter": "python",
   "pygments_lexer": "ipython3",
   "version": "3.10.0"
  }
 },
 "nbformat": 4,
 "nbformat_minor": 5
}
