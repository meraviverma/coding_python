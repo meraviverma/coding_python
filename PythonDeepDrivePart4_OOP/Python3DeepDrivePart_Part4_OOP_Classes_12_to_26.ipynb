{
 "cells": [
  {
   "cell_type": "markdown",
   "id": "d433300b-4a1b-4e71-90ae-4295d0f70441",
   "metadata": {},
   "source": [
    "## Initializing class Instance"
   ]
  },
  {
   "cell_type": "code",
   "execution_count": 2,
   "id": "5ffba04c-c66d-4266-92ac-d89aa841f764",
   "metadata": {},
   "outputs": [],
   "source": [
    "class Person:\n",
    "    def __init__(self):\n",
    "        print(f'Initilize a new Person object: {self}')"
   ]
  },
  {
   "cell_type": "code",
   "execution_count": 3,
   "id": "969a7b7f-64a2-49cc-965a-f03444448fe3",
   "metadata": {},
   "outputs": [
    {
     "name": "stdout",
     "output_type": "stream",
     "text": [
      "Initilize a new Person object: <__main__.Person object at 0x0000020A0C0FBBB0>\n"
     ]
    }
   ],
   "source": [
    "p = Person()"
   ]
  },
  {
   "cell_type": "code",
   "execution_count": 4,
   "id": "f19aeb49-6fcb-4583-a2ab-d9e4f37defe2",
   "metadata": {},
   "outputs": [
    {
     "data": {
      "text/plain": [
       "'0x20a0c0fbbb0'"
      ]
     },
     "execution_count": 4,
     "metadata": {},
     "output_type": "execute_result"
    }
   ],
   "source": [
    "hex(id(p))"
   ]
  },
  {
   "cell_type": "code",
   "execution_count": 5,
   "id": "9619d6de-fdaa-468d-a0bb-89501d63fae1",
   "metadata": {},
   "outputs": [],
   "source": [
    "class Person:\n",
    "    def __init__(self,name):\n",
    "        self.name=name"
   ]
  },
  {
   "cell_type": "code",
   "execution_count": 6,
   "id": "d5b2aa65-4a97-4b89-b6c8-1eef30e53efe",
   "metadata": {},
   "outputs": [],
   "source": [
    "p=Person('Eric')"
   ]
  },
  {
   "cell_type": "code",
   "execution_count": 7,
   "id": "089d6df1-aa9e-44db-a3d2-32d05653627f",
   "metadata": {},
   "outputs": [
    {
     "data": {
      "text/plain": [
       "{'name': 'Eric'}"
      ]
     },
     "execution_count": 7,
     "metadata": {},
     "output_type": "execute_result"
    }
   ],
   "source": [
    "p.__dict__"
   ]
  },
  {
   "cell_type": "code",
   "execution_count": 8,
   "id": "b3a60535-5840-474e-9367-55f7a0df6f5d",
   "metadata": {},
   "outputs": [],
   "source": [
    "class Person:\n",
    "    def init(self,name):\n",
    "        self.name=name"
   ]
  },
  {
   "cell_type": "code",
   "execution_count": 9,
   "id": "6b4ca59d-6c82-4265-a860-1d88da2aadec",
   "metadata": {},
   "outputs": [],
   "source": [
    "p=Person()"
   ]
  },
  {
   "cell_type": "code",
   "execution_count": 10,
   "id": "94ddc347-facd-4714-9334-934fa7206b1a",
   "metadata": {},
   "outputs": [
    {
     "data": {
      "text/plain": [
       "{}"
      ]
     },
     "execution_count": 10,
     "metadata": {},
     "output_type": "execute_result"
    }
   ],
   "source": [
    "p.__dict__"
   ]
  },
  {
   "cell_type": "code",
   "execution_count": 11,
   "id": "6924fd19-3d30-45c7-a882-fd4cc4011522",
   "metadata": {},
   "outputs": [],
   "source": [
    "p.init('Eric')"
   ]
  },
  {
   "cell_type": "code",
   "execution_count": 12,
   "id": "65b6ce40-de65-4f04-90ce-417499de648e",
   "metadata": {},
   "outputs": [
    {
     "data": {
      "text/plain": [
       "{'name': 'Eric'}"
      ]
     },
     "execution_count": 12,
     "metadata": {},
     "output_type": "execute_result"
    }
   ],
   "source": [
    "p.__dict__"
   ]
  },
  {
   "cell_type": "markdown",
   "id": "9d2f6bdb-fae7-48c4-97ba-9bf506844279",
   "metadata": {},
   "source": [
    "## Creating attribute at runtime"
   ]
  },
  {
   "cell_type": "code",
   "execution_count": 13,
   "id": "b6e45b31-787c-4466-be8f-eea064e3cbf3",
   "metadata": {},
   "outputs": [],
   "source": [
    "class MyClass:\n",
    "    language = 'Python'"
   ]
  },
  {
   "cell_type": "code",
   "execution_count": 14,
   "id": "0b894c6a-3c88-4800-a67b-e38eaed94d1a",
   "metadata": {},
   "outputs": [],
   "source": [
    "obj=MyClass()"
   ]
  },
  {
   "cell_type": "code",
   "execution_count": 15,
   "id": "f7e06ddf-1414-41c3-be94-8e757f5841e3",
   "metadata": {},
   "outputs": [
    {
     "data": {
      "text/plain": [
       "{}"
      ]
     },
     "execution_count": 15,
     "metadata": {},
     "output_type": "execute_result"
    }
   ],
   "source": [
    "obj.__dict__"
   ]
  },
  {
   "cell_type": "code",
   "execution_count": 16,
   "id": "502a7204-6bd6-46e0-ba95-d256678a803c",
   "metadata": {},
   "outputs": [],
   "source": [
    "obj.version='3.7'"
   ]
  },
  {
   "cell_type": "code",
   "execution_count": 18,
   "id": "6f3b2576-b780-4a19-b0cb-05cee2496038",
   "metadata": {},
   "outputs": [
    {
     "data": {
      "text/plain": [
       "{'version': '3.7'}"
      ]
     },
     "execution_count": 18,
     "metadata": {},
     "output_type": "execute_result"
    }
   ],
   "source": [
    "obj.__dict__"
   ]
  },
  {
   "cell_type": "code",
   "execution_count": 19,
   "id": "be00562c-586f-40d7-bc86-1e4b132df2ff",
   "metadata": {},
   "outputs": [
    {
     "data": {
      "text/plain": [
       "mappingproxy({'__module__': '__main__',\n",
       "              'language': 'Python',\n",
       "              '__dict__': <attribute '__dict__' of 'MyClass' objects>,\n",
       "              '__weakref__': <attribute '__weakref__' of 'MyClass' objects>,\n",
       "              '__doc__': None})"
      ]
     },
     "execution_count": 19,
     "metadata": {},
     "output_type": "execute_result"
    }
   ],
   "source": [
    "MyClass.__dict__"
   ]
  },
  {
   "cell_type": "code",
   "execution_count": 21,
   "id": "cd376bbe-0ee6-47d7-b387-9fda2490beb3",
   "metadata": {},
   "outputs": [],
   "source": [
    "obj.say_hello =  lambda: 'Hello World!'"
   ]
  },
  {
   "cell_type": "code",
   "execution_count": 22,
   "id": "4e13d334-daf9-4e15-af7c-92b1f890032d",
   "metadata": {},
   "outputs": [
    {
     "data": {
      "text/plain": [
       "'Hello World!'"
      ]
     },
     "execution_count": 22,
     "metadata": {},
     "output_type": "execute_result"
    }
   ],
   "source": [
    "obj.say_hello()"
   ]
  },
  {
   "cell_type": "code",
   "execution_count": 23,
   "id": "42f19bb7-62c2-449e-8b00-e07b524490b6",
   "metadata": {},
   "outputs": [
    {
     "data": {
      "text/plain": [
       "{'version': '3.7', 'say_hello': <function __main__.<lambda>()>}"
      ]
     },
     "execution_count": 23,
     "metadata": {},
     "output_type": "execute_result"
    }
   ],
   "source": [
    "obj.__dict__"
   ]
  },
  {
   "cell_type": "markdown",
   "id": "e1ff12ac-2be5-4392-bad2-0f7cf40507a2",
   "metadata": {},
   "source": [
    "## Can we create and bind a method to an instance at runtime?"
   ]
  },
  {
   "cell_type": "markdown",
   "id": "1fb113da-8530-4b8c-9f91-5433074a6706",
   "metadata": {},
   "source": [
    "## Creating Attributes at runtime"
   ]
  },
  {
   "cell_type": "code",
   "execution_count": 33,
   "id": "986e461b-20f2-4b6e-8350-aafb670a4bc9",
   "metadata": {},
   "outputs": [],
   "source": [
    "class Person:\n",
    "    pass"
   ]
  },
  {
   "cell_type": "code",
   "execution_count": 34,
   "id": "939d6e01-aed2-4cce-b2ba-1c8cae4e6b61",
   "metadata": {},
   "outputs": [],
   "source": [
    "p1=Person()"
   ]
  },
  {
   "cell_type": "code",
   "execution_count": 35,
   "id": "409f7c1b-1813-4b69-a07d-eb14ecbaed91",
   "metadata": {},
   "outputs": [],
   "source": [
    "p2=Person()"
   ]
  },
  {
   "cell_type": "code",
   "execution_count": 36,
   "id": "ebd9208e-dda2-47ac-9e5b-157a406e7254",
   "metadata": {},
   "outputs": [],
   "source": [
    "p1.name='ALex'"
   ]
  },
  {
   "cell_type": "code",
   "execution_count": 37,
   "id": "c8c85c63-edc4-4f73-8185-12c93aaf183c",
   "metadata": {},
   "outputs": [
    {
     "data": {
      "text/plain": [
       "{'name': 'ALex'}"
      ]
     },
     "execution_count": 37,
     "metadata": {},
     "output_type": "execute_result"
    }
   ],
   "source": [
    "p1.__dict__"
   ]
  },
  {
   "cell_type": "code",
   "execution_count": 38,
   "id": "ea6f619d-6f59-46e3-8dc7-86c2ceaf7f22",
   "metadata": {},
   "outputs": [
    {
     "data": {
      "text/plain": [
       "{}"
      ]
     },
     "execution_count": 38,
     "metadata": {},
     "output_type": "execute_result"
    }
   ],
   "source": [
    "p2.__dict__"
   ]
  },
  {
   "cell_type": "code",
   "execution_count": 39,
   "id": "0e26997f-fde3-472c-9568-8ed8097bd7e3",
   "metadata": {},
   "outputs": [],
   "source": [
    "p1.say_hello=lambda:'Hello'"
   ]
  },
  {
   "cell_type": "code",
   "execution_count": 40,
   "id": "274a5e9b-9b3a-4e74-b9e3-55b7263f0fdd",
   "metadata": {},
   "outputs": [
    {
     "data": {
      "text/plain": [
       "<function __main__.<lambda>()>"
      ]
     },
     "execution_count": 40,
     "metadata": {},
     "output_type": "execute_result"
    }
   ],
   "source": [
    "p1.say_hello"
   ]
  },
  {
   "cell_type": "code",
   "execution_count": 41,
   "id": "a76861f8-a0bf-44ea-a754-fc4db92781ca",
   "metadata": {},
   "outputs": [
    {
     "data": {
      "text/plain": [
       "{'name': 'ALex', 'say_hello': <function __main__.<lambda>()>}"
      ]
     },
     "execution_count": 41,
     "metadata": {},
     "output_type": "execute_result"
    }
   ],
   "source": [
    "p1.__dict__"
   ]
  },
  {
   "cell_type": "code",
   "execution_count": 42,
   "id": "16870579-f9df-4a49-8c2d-56ac10bf7104",
   "metadata": {},
   "outputs": [
    {
     "data": {
      "text/plain": [
       "{}"
      ]
     },
     "execution_count": 42,
     "metadata": {},
     "output_type": "execute_result"
    }
   ],
   "source": [
    "p2.__dict__"
   ]
  },
  {
   "cell_type": "code",
   "execution_count": 43,
   "id": "fe197ca1-6d2d-47c8-b88b-c1ad598284d8",
   "metadata": {},
   "outputs": [],
   "source": [
    "from types import MethodType"
   ]
  },
  {
   "cell_type": "code",
   "execution_count": 44,
   "id": "3abac4c3-0fa0-4f87-9195-1072af2bfe2d",
   "metadata": {},
   "outputs": [],
   "source": [
    "class Person:\n",
    "    def __init__(self,name):\n",
    "        self.name=name"
   ]
  },
  {
   "cell_type": "code",
   "execution_count": 45,
   "id": "6328cb85-1bd7-4640-a6f3-1510d9dcf26f",
   "metadata": {},
   "outputs": [],
   "source": [
    "p1=Person('Eric')\n",
    "p2=Person('Alex')"
   ]
  },
  {
   "cell_type": "code",
   "execution_count": 46,
   "id": "fbabd18a-62ab-4089-b2ff-675a1f5b21dd",
   "metadata": {},
   "outputs": [
    {
     "data": {
      "text/plain": [
       "({'name': 'Eric'}, {'name': 'Alex'})"
      ]
     },
     "execution_count": 46,
     "metadata": {},
     "output_type": "execute_result"
    }
   ],
   "source": [
    "p1.__dict__,p2.__dict__"
   ]
  },
  {
   "cell_type": "code",
   "execution_count": 47,
   "id": "9e6f2e75-058e-4ffa-98b4-3f6cb253efb9",
   "metadata": {},
   "outputs": [],
   "source": [
    "def say_hello(self):\n",
    "    return f'{self.name} says hello!'"
   ]
  },
  {
   "cell_type": "code",
   "execution_count": 48,
   "id": "a5f56724-50fd-4b43-befa-6795cc4a687d",
   "metadata": {},
   "outputs": [
    {
     "data": {
      "text/plain": [
       "'Eric says hello!'"
      ]
     },
     "execution_count": 48,
     "metadata": {},
     "output_type": "execute_result"
    }
   ],
   "source": [
    "say_hello(p1)"
   ]
  },
  {
   "cell_type": "code",
   "execution_count": 50,
   "id": "6e5f902a-abe7-4d8c-8948-adb89c7ba69a",
   "metadata": {},
   "outputs": [],
   "source": [
    "p1_say_hello = MethodType(say_hello,p1)"
   ]
  },
  {
   "cell_type": "code",
   "execution_count": 51,
   "id": "a4682c92-9567-4b21-941b-3080be92c84f",
   "metadata": {},
   "outputs": [
    {
     "data": {
      "text/plain": [
       "<bound method say_hello of <__main__.Person object at 0x0000020A0D394550>>"
      ]
     },
     "execution_count": 51,
     "metadata": {},
     "output_type": "execute_result"
    }
   ],
   "source": [
    "p1_say_hello"
   ]
  },
  {
   "cell_type": "code",
   "execution_count": 52,
   "id": "16c833fd-706a-45bd-bed6-dfcccf72f7de",
   "metadata": {},
   "outputs": [
    {
     "ename": "AttributeError",
     "evalue": "'Person' object has no attribute 'p1_say_hello'",
     "output_type": "error",
     "traceback": [
      "\u001b[1;31m---------------------------------------------------------------------------\u001b[0m",
      "\u001b[1;31mAttributeError\u001b[0m                            Traceback (most recent call last)",
      "Cell \u001b[1;32mIn[52], line 1\u001b[0m\n\u001b[1;32m----> 1\u001b[0m \u001b[43mp1\u001b[49m\u001b[38;5;241;43m.\u001b[39;49m\u001b[43mp1_say_hello\u001b[49m\n",
      "\u001b[1;31mAttributeError\u001b[0m: 'Person' object has no attribute 'p1_say_hello'"
     ]
    }
   ],
   "source": [
    "p1.p1_say_hello"
   ]
  },
  {
   "cell_type": "code",
   "execution_count": 53,
   "id": "0e9ab39b-8b9b-43c2-a716-99bd1c660b01",
   "metadata": {},
   "outputs": [
    {
     "data": {
      "text/plain": [
       "{'name': 'Eric'}"
      ]
     },
     "execution_count": 53,
     "metadata": {},
     "output_type": "execute_result"
    }
   ],
   "source": [
    "p1.__dict__"
   ]
  },
  {
   "cell_type": "code",
   "execution_count": 54,
   "id": "954d25e1-7ce5-463b-936b-fdba5758a412",
   "metadata": {},
   "outputs": [],
   "source": [
    "p1.say_hello=p1_say_hello"
   ]
  },
  {
   "cell_type": "code",
   "execution_count": 68,
   "id": "649cd667-1997-4e1c-a861-6bd63cf2cb3c",
   "metadata": {},
   "outputs": [
    {
     "data": {
      "text/plain": [
       "{'name': 'Eric',\n",
       " 'say_hello': <bound method say_hello of <__main__.Person object at 0x0000020A0D394550>>}"
      ]
     },
     "execution_count": 68,
     "metadata": {},
     "output_type": "execute_result"
    }
   ],
   "source": [
    "p1.__dict__"
   ]
  },
  {
   "cell_type": "code",
   "execution_count": 71,
   "id": "5b9f17b3-fc54-463a-9689-6477e6faa98d",
   "metadata": {},
   "outputs": [
    {
     "data": {
      "text/plain": [
       "<bound method say_hello of <__main__.Person object at 0x0000020A0D394550>>"
      ]
     },
     "execution_count": 71,
     "metadata": {},
     "output_type": "execute_result"
    }
   ],
   "source": [
    "p1.say_hello"
   ]
  },
  {
   "cell_type": "code",
   "execution_count": 70,
   "id": "f781cd45-619b-4b98-bd3a-fb7006d611d5",
   "metadata": {},
   "outputs": [
    {
     "data": {
      "text/plain": [
       "'Eric says hello!'"
      ]
     },
     "execution_count": 70,
     "metadata": {},
     "output_type": "execute_result"
    }
   ],
   "source": [
    "p1.say_hello()"
   ]
  },
  {
   "cell_type": "code",
   "execution_count": 80,
   "id": "4a73bf33-8fad-4e6d-83d7-90d3d82fa7c6",
   "metadata": {},
   "outputs": [],
   "source": [
    "class Person:\n",
    "    def __init__(self,name):\n",
    "        self.name=name\n",
    "    def register_do_work(self,func):\n",
    "        setattr(self,'_do_work',MethodType(func,self))\n",
    "    def do_work(self):\n",
    "        do_work_method=getattr(self,'_do_work',None)\n",
    "\n",
    "        if do_work_method:\n",
    "            return do_work_method()\n",
    "        else:\n",
    "            raise AttributeError('You must register a do_work method.')"
   ]
  },
  {
   "cell_type": "code",
   "execution_count": 81,
   "id": "18c9c922-866c-43e0-8f6b-056268741a2e",
   "metadata": {},
   "outputs": [],
   "source": [
    "math_teacher=Person('Eric')\n",
    "english_teacher=Person('john')"
   ]
  },
  {
   "cell_type": "code",
   "execution_count": 82,
   "id": "3a54f608-edac-4f76-88cc-33c465ca1960",
   "metadata": {},
   "outputs": [
    {
     "ename": "AttributeError",
     "evalue": "You must register a do_work method.",
     "output_type": "error",
     "traceback": [
      "\u001b[1;31m---------------------------------------------------------------------------\u001b[0m",
      "\u001b[1;31mAttributeError\u001b[0m                            Traceback (most recent call last)",
      "Cell \u001b[1;32mIn[82], line 1\u001b[0m\n\u001b[1;32m----> 1\u001b[0m \u001b[43mmath_teacher\u001b[49m\u001b[38;5;241;43m.\u001b[39;49m\u001b[43mdo_work\u001b[49m\u001b[43m(\u001b[49m\u001b[43m)\u001b[49m\n",
      "Cell \u001b[1;32mIn[80], line 12\u001b[0m, in \u001b[0;36mPerson.do_work\u001b[1;34m(self)\u001b[0m\n\u001b[0;32m     10\u001b[0m     \u001b[38;5;28;01mreturn\u001b[39;00m do_work_method()\n\u001b[0;32m     11\u001b[0m \u001b[38;5;28;01melse\u001b[39;00m:\n\u001b[1;32m---> 12\u001b[0m     \u001b[38;5;28;01mraise\u001b[39;00m \u001b[38;5;167;01mAttributeError\u001b[39;00m(\u001b[38;5;124m'\u001b[39m\u001b[38;5;124mYou must register a do_work method.\u001b[39m\u001b[38;5;124m'\u001b[39m)\n",
      "\u001b[1;31mAttributeError\u001b[0m: You must register a do_work method."
     ]
    }
   ],
   "source": [
    "math_teacher.do_work()"
   ]
  },
  {
   "cell_type": "code",
   "execution_count": 83,
   "id": "70af16a0-5dec-4494-a94a-cb17f07afaff",
   "metadata": {},
   "outputs": [],
   "source": [
    "def work_math(self):\n",
    "    return f'{self.name} will teach differntials today.'"
   ]
  },
  {
   "cell_type": "code",
   "execution_count": 86,
   "id": "dd471767-e370-4fcc-9937-541aa21752dd",
   "metadata": {},
   "outputs": [],
   "source": [
    "math_teacher.register_do_work(work_math)"
   ]
  },
  {
   "cell_type": "code",
   "execution_count": 87,
   "id": "c55a46a7-f6a1-4f05-9bb9-3a3f080b2988",
   "metadata": {},
   "outputs": [
    {
     "data": {
      "text/plain": [
       "{'name': 'Eric',\n",
       " '_do_work': <bound method work_math of <__main__.Person object at 0x0000020A0D2728C0>>}"
      ]
     },
     "execution_count": 87,
     "metadata": {},
     "output_type": "execute_result"
    }
   ],
   "source": [
    "math_teacher.__dict__"
   ]
  },
  {
   "cell_type": "code",
   "execution_count": 88,
   "id": "64df4a2f-5656-43af-9690-b4b16817b111",
   "metadata": {},
   "outputs": [
    {
     "data": {
      "text/plain": [
       "'Eric will teach differntials today.'"
      ]
     },
     "execution_count": 88,
     "metadata": {},
     "output_type": "execute_result"
    }
   ],
   "source": [
    "math_teacher.do_work()"
   ]
  },
  {
   "cell_type": "code",
   "execution_count": 90,
   "id": "a074bc31-6b53-42e9-8b36-9af4e522c08c",
   "metadata": {},
   "outputs": [],
   "source": [
    "def work_english(self):\n",
    "    return f'{self.name} will analyze Hamelt today'"
   ]
  },
  {
   "cell_type": "code",
   "execution_count": 91,
   "id": "de06c2e8-1f30-4d7a-908f-35dbfa5153ee",
   "metadata": {},
   "outputs": [],
   "source": [
    "english_teacher.register_do_work(work_english)"
   ]
  },
  {
   "cell_type": "code",
   "execution_count": 92,
   "id": "7ffe22cf-a04c-441b-a1c1-202c6afbe756",
   "metadata": {},
   "outputs": [
    {
     "data": {
      "text/plain": [
       "{'name': 'john',\n",
       " '_do_work': <bound method work_english of <__main__.Person object at 0x0000020A0D4AA3E0>>}"
      ]
     },
     "execution_count": 92,
     "metadata": {},
     "output_type": "execute_result"
    }
   ],
   "source": [
    "english_teacher.__dict__"
   ]
  },
  {
   "cell_type": "code",
   "execution_count": 93,
   "id": "44f9dc49-d931-4658-89d9-2485fb8c7d75",
   "metadata": {},
   "outputs": [
    {
     "data": {
      "text/plain": [
       "'john will analyze Hamelt today'"
      ]
     },
     "execution_count": 93,
     "metadata": {},
     "output_type": "execute_result"
    }
   ],
   "source": [
    "english_teacher.do_work()"
   ]
  },
  {
   "cell_type": "code",
   "execution_count": 95,
   "id": "146db08b-15de-4a05-8903-5a3c1a079dbc",
   "metadata": {},
   "outputs": [],
   "source": [
    "persons =[math_teacher,english_teacher]"
   ]
  },
  {
   "cell_type": "code",
   "execution_count": 96,
   "id": "a692b80e-7463-4dcd-9ec4-00e1536198e1",
   "metadata": {},
   "outputs": [
    {
     "name": "stdout",
     "output_type": "stream",
     "text": [
      "Eric will teach differntials today.\n",
      "john will analyze Hamelt today\n"
     ]
    }
   ],
   "source": [
    "for p in persons:\n",
    "    print(p.do_work())"
   ]
  },
  {
   "cell_type": "markdown",
   "id": "1b3cfae4-79a9-42a0-be50-abf117e199b6",
   "metadata": {},
   "source": [
    "# getattr"
   ]
  },
  {
   "cell_type": "code",
   "execution_count": 56,
   "id": "6778bd31-698d-4a8e-ad14-7bd6be26b410",
   "metadata": {},
   "outputs": [],
   "source": [
    "class MyClass:\n",
    "    language=\"Python\""
   ]
  },
  {
   "cell_type": "code",
   "execution_count": 57,
   "id": "9a230582-7306-4fe0-879b-35b79240b85e",
   "metadata": {},
   "outputs": [],
   "source": [
    "obj=MyClass()"
   ]
  },
  {
   "cell_type": "code",
   "execution_count": 59,
   "id": "bcbb34bf-d14d-4bc4-b28b-287fc57c9aea",
   "metadata": {},
   "outputs": [
    {
     "name": "stdout",
     "output_type": "stream",
     "text": [
      "Python\n"
     ]
    }
   ],
   "source": [
    "print(getattr(obj,\"language\"))"
   ]
  },
  {
   "cell_type": "code",
   "execution_count": 60,
   "id": "61c0de4b-9c8b-4ddb-b1fe-984247b18859",
   "metadata": {},
   "outputs": [
    {
     "data": {
      "text/plain": [
       "'Python'"
      ]
     },
     "execution_count": 60,
     "metadata": {},
     "output_type": "execute_result"
    }
   ],
   "source": [
    "getattr(obj,\"language\")"
   ]
  },
  {
   "cell_type": "code",
   "execution_count": 61,
   "id": "d76c7280-4675-4060-b3c0-9d69014806e9",
   "metadata": {},
   "outputs": [
    {
     "data": {
      "text/plain": [
       "'Python'"
      ]
     },
     "execution_count": 61,
     "metadata": {},
     "output_type": "execute_result"
    }
   ],
   "source": [
    "obj.language"
   ]
  },
  {
   "cell_type": "code",
   "execution_count": 62,
   "id": "b7820a46-3cc6-421d-94a5-6c475ce33861",
   "metadata": {},
   "outputs": [
    {
     "ename": "AttributeError",
     "evalue": "'MyClass' object has no attribute 'spanish'",
     "output_type": "error",
     "traceback": [
      "\u001b[1;31m---------------------------------------------------------------------------\u001b[0m",
      "\u001b[1;31mAttributeError\u001b[0m                            Traceback (most recent call last)",
      "Cell \u001b[1;32mIn[62], line 1\u001b[0m\n\u001b[1;32m----> 1\u001b[0m \u001b[43mobj\u001b[49m\u001b[38;5;241;43m.\u001b[39;49m\u001b[43mspanish\u001b[49m\n",
      "\u001b[1;31mAttributeError\u001b[0m: 'MyClass' object has no attribute 'spanish'"
     ]
    }
   ],
   "source": [
    "obj.spanish"
   ]
  },
  {
   "cell_type": "code",
   "execution_count": 63,
   "id": "238d12fd-5f62-4433-b58e-41986fbd1b17",
   "metadata": {},
   "outputs": [
    {
     "data": {
      "text/plain": [
       "'unknown'"
      ]
     },
     "execution_count": 63,
     "metadata": {},
     "output_type": "execute_result"
    }
   ],
   "source": [
    "getattr(obj,\"spanish\",\"unknown\")"
   ]
  },
  {
   "cell_type": "code",
   "execution_count": 64,
   "id": "25c09618-2310-4f4a-90ad-0e555017c21d",
   "metadata": {},
   "outputs": [
    {
     "ename": "AttributeError",
     "evalue": "'MyClass' object has no attribute 'grench'",
     "output_type": "error",
     "traceback": [
      "\u001b[1;31m---------------------------------------------------------------------------\u001b[0m",
      "\u001b[1;31mAttributeError\u001b[0m                            Traceback (most recent call last)",
      "Cell \u001b[1;32mIn[64], line 1\u001b[0m\n\u001b[1;32m----> 1\u001b[0m \u001b[38;5;28;43mgetattr\u001b[39;49m\u001b[43m(\u001b[49m\u001b[43mobj\u001b[49m\u001b[43m,\u001b[49m\u001b[38;5;124;43m\"\u001b[39;49m\u001b[38;5;124;43mgrench\u001b[39;49m\u001b[38;5;124;43m\"\u001b[39;49m\u001b[43m)\u001b[49m\n",
      "\u001b[1;31mAttributeError\u001b[0m: 'MyClass' object has no attribute 'grench'"
     ]
    }
   ],
   "source": [
    "getattr(obj,\"grench\")"
   ]
  },
  {
   "cell_type": "code",
   "execution_count": 65,
   "id": "1de69e5b-1b87-4445-9cf6-ce384950f356",
   "metadata": {},
   "outputs": [],
   "source": [
    "attr_name=\"language\""
   ]
  },
  {
   "cell_type": "code",
   "execution_count": 66,
   "id": "53478963-fe70-45d1-a44f-41d1e8a835f4",
   "metadata": {},
   "outputs": [
    {
     "data": {
      "text/plain": [
       "'Python'"
      ]
     },
     "execution_count": 66,
     "metadata": {},
     "output_type": "execute_result"
    }
   ],
   "source": [
    "getattr(obj,attr_name)"
   ]
  },
  {
   "cell_type": "code",
   "execution_count": 67,
   "id": "64a1848f-0ba9-419e-ba98-e93d47cdcf2e",
   "metadata": {},
   "outputs": [
    {
     "ename": "AttributeError",
     "evalue": "'MyClass' object has no attribute 'attr_name'",
     "output_type": "error",
     "traceback": [
      "\u001b[1;31m---------------------------------------------------------------------------\u001b[0m",
      "\u001b[1;31mAttributeError\u001b[0m                            Traceback (most recent call last)",
      "Cell \u001b[1;32mIn[67], line 1\u001b[0m\n\u001b[1;32m----> 1\u001b[0m \u001b[43mobj\u001b[49m\u001b[38;5;241;43m.\u001b[39;49m\u001b[43mattr_name\u001b[49m\n",
      "\u001b[1;31mAttributeError\u001b[0m: 'MyClass' object has no attribute 'attr_name'"
     ]
    }
   ],
   "source": [
    "obj.attr_name"
   ]
  },
  {
   "cell_type": "markdown",
   "id": "db44848e-13d0-47bc-a798-6c85bb2b67ca",
   "metadata": {},
   "source": [
    "# property"
   ]
  },
  {
   "cell_type": "markdown",
   "id": "4f6759a9-adf4-4ae0-803c-2e550835fc40",
   "metadata": {},
   "source": [
    "# Python `property()` Tutorial 🐍🔧\n",
    "\n",
    "Learn how to use Python's `property()` function and `@property` decorator to create managed attributes in your classes. This tutorial covers both approaches with practical examples, use cases, and best practices.\n",
    "\n",
    "---\n",
    "\n",
    "## 🚀 What You'll Learn\n",
    "\n",
    "- ✅ How to use the `property()` class directly\n",
    "- ✅ How to use the `@property` decorator\n",
    "- ✅ How to create read-only, write-only, and computed properties\n",
    "- ✅ How to validate input and encapsulate logic\n",
    "- ✅ When to use properties vs direct attribute access\n",
    "\n",
    "---\n",
    "\n",
    "## 📁 Project Structure\n"
   ]
  },
  {
   "cell_type": "markdown",
   "id": "5d26be67-dacc-4bd7-a8e7-2320c41053f3",
   "metadata": {},
   "source": [
    "\n",
    "---\n",
    "\n",
    "## 🧠 Example: Using `property()` Class\n",
    "\n",
    "```python\n",
    "class Student:\n",
    "    def __init__(self, name):\n",
    "        self._name = name\n",
    "\n",
    "    def get_name(self):\n",
    "        return self._name\n",
    "\n",
    "    def set_name(self, value):\n",
    "        self._name = value\n",
    "\n",
    "    def del_name(self):\n",
    "        del self._name\n",
    "\n",
    "    name = property(get_name, set_name, del_name, \"Student name property\")"
   ]
  },
  {
   "cell_type": "markdown",
   "id": "8b79dc09-af9a-48ec-982b-06886d8bad74",
   "metadata": {},
   "source": [
    "class Person:\n",
    "    def __init__(self, name):\n",
    "        self._name = name\n",
    "\n",
    "    @property\n",
    "    def name(self):\n",
    "        return self._name\n",
    "\n",
    "    @name.setter\n",
    "    def name(self, value):\n",
    "        self._name = value\n",
    "\n",
    "    @name.deleter\n",
    "    def name(self):\n",
    "        del self._name"
   ]
  },
  {
   "cell_type": "code",
   "execution_count": 2,
   "id": "71f38eff-d17c-49b1-9de5-f1046b686d9d",
   "metadata": {},
   "outputs": [],
   "source": [
    "class Person:\n",
    "    def __init__(self,name):\n",
    "        self.name=name"
   ]
  },
  {
   "cell_type": "code",
   "execution_count": 3,
   "id": "e72df8de-d1a4-4e3e-90f8-7b83f40dacea",
   "metadata": {},
   "outputs": [],
   "source": [
    "p=Person('Alex')"
   ]
  },
  {
   "cell_type": "code",
   "execution_count": 4,
   "id": "1fc3e539-8d40-4be7-9fd6-1d1bb97fcf73",
   "metadata": {},
   "outputs": [
    {
     "data": {
      "text/plain": [
       "{'name': 'Alex'}"
      ]
     },
     "execution_count": 4,
     "metadata": {},
     "output_type": "execute_result"
    }
   ],
   "source": [
    "p.__dict__"
   ]
  },
  {
   "cell_type": "code",
   "execution_count": 5,
   "id": "67ccd83e-46f3-4446-845c-78aaafda2495",
   "metadata": {},
   "outputs": [
    {
     "data": {
      "text/plain": [
       "'Alex'"
      ]
     },
     "execution_count": 5,
     "metadata": {},
     "output_type": "execute_result"
    }
   ],
   "source": [
    "p.name"
   ]
  },
  {
   "cell_type": "code",
   "execution_count": 6,
   "id": "18bcb45e-706d-40e3-bda0-38bd491af8ee",
   "metadata": {},
   "outputs": [],
   "source": [
    "p.name=100"
   ]
  },
  {
   "cell_type": "code",
   "execution_count": 7,
   "id": "c35b535f-75fd-4a4b-af20-8f7fe1be02ea",
   "metadata": {},
   "outputs": [
    {
     "data": {
      "text/plain": [
       "100"
      ]
     },
     "execution_count": 7,
     "metadata": {},
     "output_type": "execute_result"
    }
   ],
   "source": [
    "p.name"
   ]
  },
  {
   "cell_type": "code",
   "execution_count": 8,
   "id": "ff4622fa-38c1-471c-a62c-4219fd54d04f",
   "metadata": {},
   "outputs": [],
   "source": [
    "# Every thing in python is public"
   ]
  },
  {
   "cell_type": "code",
   "execution_count": 10,
   "id": "2d978d3a-e1ff-42eb-b5a8-cc8de8139251",
   "metadata": {},
   "outputs": [],
   "source": [
    "class Person:\n",
    "    def __init__(self,name):\n",
    "        self._name = name #pseudo private\n",
    "    def get_name(self):\n",
    "        return self._name\n",
    "    def set_name(self,value):\n",
    "        if isinstance(value,str) and len(value.stripr()) > 0:\n",
    "            self._name=value.strip()\n",
    "        else:\n",
    "            raise ValueError('name must be a non-empty string')"
   ]
  },
  {
   "cell_type": "code",
   "execution_count": 15,
   "id": "dc1d530d-f63c-4a43-ad68-e20afbd46a93",
   "metadata": {},
   "outputs": [],
   "source": [
    "class Person:\n",
    "    def __init__(self,name):\n",
    "        self.set_name(name) #pseudo private\n",
    "    def get_name(self):\n",
    "        return self._name\n",
    "    def set_name(self,value):\n",
    "        if isinstance(value,str) and len(value.strip()) > 0:\n",
    "            self._name=value.strip()\n",
    "        else:\n",
    "            raise ValueError('name must be a non-empty string')"
   ]
  },
  {
   "cell_type": "code",
   "execution_count": 16,
   "id": "72e3dc4a-d6c2-484e-a224-fbaf0f3c805b",
   "metadata": {},
   "outputs": [],
   "source": [
    "p=Person('Alex')"
   ]
  },
  {
   "cell_type": "code",
   "execution_count": 17,
   "id": "a6e0bef2-6217-4022-beff-af03ae607276",
   "metadata": {},
   "outputs": [
    {
     "name": "stdout",
     "output_type": "stream",
     "text": [
      "name must be a non-empty string\n"
     ]
    }
   ],
   "source": [
    "try:\n",
    "    Person('')\n",
    "except ValueError as ex:\n",
    "    print(ex)"
   ]
  },
  {
   "cell_type": "code",
   "execution_count": 18,
   "id": "aeefec27-323f-492c-a188-12d8f2a150f9",
   "metadata": {},
   "outputs": [
    {
     "data": {
      "text/plain": [
       "{'_name': 'Alex'}"
      ]
     },
     "execution_count": 18,
     "metadata": {},
     "output_type": "execute_result"
    }
   ],
   "source": [
    "p.__dict__"
   ]
  },
  {
   "cell_type": "code",
   "execution_count": 19,
   "id": "02a8701c-2b14-4f64-a382-fccad7b921f9",
   "metadata": {},
   "outputs": [
    {
     "data": {
      "text/plain": [
       "'Alex'"
      ]
     },
     "execution_count": 19,
     "metadata": {},
     "output_type": "execute_result"
    }
   ],
   "source": [
    "p.get_name()"
   ]
  },
  {
   "cell_type": "code",
   "execution_count": 20,
   "id": "1ccfd540-495b-4fc3-a5cd-19aa5519d4f6",
   "metadata": {},
   "outputs": [],
   "source": [
    "p.set_name('Eric')"
   ]
  },
  {
   "cell_type": "code",
   "execution_count": 21,
   "id": "51121cb1-cdaf-42cd-bea2-9f8ce714eb89",
   "metadata": {},
   "outputs": [
    {
     "data": {
      "text/plain": [
       "'Eric'"
      ]
     },
     "execution_count": 21,
     "metadata": {},
     "output_type": "execute_result"
    }
   ],
   "source": [
    "p.get_name()"
   ]
  },
  {
   "cell_type": "code",
   "execution_count": 22,
   "id": "901ef328-a806-4627-928c-2c68d2c4bfa8",
   "metadata": {},
   "outputs": [],
   "source": [
    "a=property()"
   ]
  },
  {
   "cell_type": "code",
   "execution_count": 23,
   "id": "b6e002aa-e1c0-46b4-bdb4-37eebf80fd85",
   "metadata": {},
   "outputs": [
    {
     "data": {
      "text/plain": [
       "<property at 0x22b28a84400>"
      ]
     },
     "execution_count": 23,
     "metadata": {},
     "output_type": "execute_result"
    }
   ],
   "source": [
    "a"
   ]
  },
  {
   "cell_type": "code",
   "execution_count": 60,
   "id": "d5904929-4ec2-48d7-b1fe-d03669d70a8c",
   "metadata": {},
   "outputs": [],
   "source": [
    "class Person:\n",
    "    \"\"\" This is a person oobject\"\"\"\n",
    "    def __init__(self,name):\n",
    "        self._name=name\n",
    "    def get_name(self):\n",
    "        print('getter called')\n",
    "        return self._name\n",
    "    def set_name(self,value):\n",
    "        print('setter called')\n",
    "        if isinstance(value,str) and len(value.strip()) > 0:\n",
    "            self._name=value.strip()\n",
    "        else:\n",
    "            raise ValueError('name must be a non-empty string')\n",
    "    def del_name(self):\n",
    "        print('deleter called ...')\n",
    "        del self._name\n",
    "        \n",
    "    name=property(fget=get_name,fset=set_name,fdel=del_name, doc=\"The Person's name\")"
   ]
  },
  {
   "cell_type": "code",
   "execution_count": 28,
   "id": "55f44f43-ecda-44d6-9b87-b03369ac369c",
   "metadata": {},
   "outputs": [],
   "source": [
    "p=Person('Alex')"
   ]
  },
  {
   "cell_type": "code",
   "execution_count": 29,
   "id": "70387259-2281-4240-97a7-5305796b715c",
   "metadata": {},
   "outputs": [
    {
     "name": "stdout",
     "output_type": "stream",
     "text": [
      "getter called\n"
     ]
    },
    {
     "data": {
      "text/plain": [
       "'Alex'"
      ]
     },
     "execution_count": 29,
     "metadata": {},
     "output_type": "execute_result"
    }
   ],
   "source": [
    "p.name"
   ]
  },
  {
   "cell_type": "code",
   "execution_count": 30,
   "id": "69c01bcc-a9f9-4d00-a518-c606dff89e8b",
   "metadata": {},
   "outputs": [
    {
     "name": "stdout",
     "output_type": "stream",
     "text": [
      "setter called\n"
     ]
    }
   ],
   "source": [
    "p.name='Eric'"
   ]
  },
  {
   "cell_type": "code",
   "execution_count": 31,
   "id": "c2db1b3d-6a20-477c-8f0f-463aa1a8472b",
   "metadata": {},
   "outputs": [
    {
     "data": {
      "text/plain": [
       "{'_name': 'Eric'}"
      ]
     },
     "execution_count": 31,
     "metadata": {},
     "output_type": "execute_result"
    }
   ],
   "source": [
    "p.__dict__"
   ]
  },
  {
   "cell_type": "code",
   "execution_count": 32,
   "id": "d6800cd1-2cc3-4eaa-aee4-7991ff73dff3",
   "metadata": {},
   "outputs": [
    {
     "name": "stdout",
     "output_type": "stream",
     "text": [
      "getter called\n"
     ]
    },
    {
     "data": {
      "text/plain": [
       "'Eric'"
      ]
     },
     "execution_count": 32,
     "metadata": {},
     "output_type": "execute_result"
    }
   ],
   "source": [
    "getattr(p,'name')"
   ]
  },
  {
   "cell_type": "code",
   "execution_count": 33,
   "id": "c999c3f3-9b0c-480c-bb28-9d89dadac200",
   "metadata": {},
   "outputs": [
    {
     "name": "stdout",
     "output_type": "stream",
     "text": [
      "setter called\n"
     ]
    }
   ],
   "source": [
    "setattr(p,'name','Alex')"
   ]
  },
  {
   "cell_type": "code",
   "execution_count": 34,
   "id": "b23669db-24b4-4c03-92bd-edfa9a191dde",
   "metadata": {},
   "outputs": [
    {
     "data": {
      "text/plain": [
       "{'_name': 'Alex'}"
      ]
     },
     "execution_count": 34,
     "metadata": {},
     "output_type": "execute_result"
    }
   ],
   "source": [
    "p.__dict__"
   ]
  },
  {
   "cell_type": "code",
   "execution_count": 35,
   "id": "b9fc4da0-0151-43a2-895f-b254bd9efdd2",
   "metadata": {},
   "outputs": [
    {
     "data": {
      "text/plain": [
       "mappingproxy({'__module__': '__main__',\n",
       "              '__init__': <function __main__.Person.__init__(self, name)>,\n",
       "              'get_name': <function __main__.Person.get_name(self)>,\n",
       "              'set_name': <function __main__.Person.set_name(self, value)>,\n",
       "              'name': <property at 0x22b28a87100>,\n",
       "              '__dict__': <attribute '__dict__' of 'Person' objects>,\n",
       "              '__weakref__': <attribute '__weakref__' of 'Person' objects>,\n",
       "              '__doc__': None})"
      ]
     },
     "execution_count": 35,
     "metadata": {},
     "output_type": "execute_result"
    }
   ],
   "source": [
    "Person.__dict__"
   ]
  },
  {
   "cell_type": "code",
   "execution_count": 36,
   "id": "e1076a62-4f13-430d-8dc6-9e3fe103f87b",
   "metadata": {},
   "outputs": [],
   "source": [
    "p=Person('Alex')"
   ]
  },
  {
   "cell_type": "code",
   "execution_count": 37,
   "id": "e26f4f49-5a30-4361-bd04-fbd1010c2ee0",
   "metadata": {},
   "outputs": [
    {
     "name": "stdout",
     "output_type": "stream",
     "text": [
      "getter called\n"
     ]
    },
    {
     "data": {
      "text/plain": [
       "'Alex'"
      ]
     },
     "execution_count": 37,
     "metadata": {},
     "output_type": "execute_result"
    }
   ],
   "source": [
    "p.name"
   ]
  },
  {
   "cell_type": "code",
   "execution_count": 38,
   "id": "ed32ad29-7915-44c8-959f-14a5135c32fc",
   "metadata": {},
   "outputs": [
    {
     "data": {
      "text/plain": [
       "{'_name': 'Alex'}"
      ]
     },
     "execution_count": 38,
     "metadata": {},
     "output_type": "execute_result"
    }
   ],
   "source": [
    "p.__dict__"
   ]
  },
  {
   "cell_type": "code",
   "execution_count": 39,
   "id": "edcfeb8f-ecdb-4cfc-b9ee-ab2cf7064f8f",
   "metadata": {},
   "outputs": [
    {
     "data": {
      "text/plain": [
       "'Alex'"
      ]
     },
     "execution_count": 39,
     "metadata": {},
     "output_type": "execute_result"
    }
   ],
   "source": [
    "p.__dict__['_name']"
   ]
  },
  {
   "cell_type": "code",
   "execution_count": 40,
   "id": "02bac985-ff02-4203-9d19-b38d6b9e0f22",
   "metadata": {},
   "outputs": [
    {
     "data": {
      "text/plain": [
       "'Alex'"
      ]
     },
     "execution_count": 40,
     "metadata": {},
     "output_type": "execute_result"
    }
   ],
   "source": [
    "p._name"
   ]
  },
  {
   "cell_type": "code",
   "execution_count": 41,
   "id": "2412edd5-929b-4bbb-ad10-8502ae91ee9b",
   "metadata": {},
   "outputs": [
    {
     "name": "stdout",
     "output_type": "stream",
     "text": [
      "setter called\n"
     ]
    }
   ],
   "source": [
    "p.name='Raymond'"
   ]
  },
  {
   "cell_type": "code",
   "execution_count": 42,
   "id": "c174a57b-5d3a-4b77-ade9-d355bf6c03cb",
   "metadata": {},
   "outputs": [
    {
     "data": {
      "text/plain": [
       "{'_name': 'Raymond'}"
      ]
     },
     "execution_count": 42,
     "metadata": {},
     "output_type": "execute_result"
    }
   ],
   "source": [
    "p.__dict__"
   ]
  },
  {
   "cell_type": "code",
   "execution_count": 43,
   "id": "be6b087f-1ba7-4604-934f-24bb9773a347",
   "metadata": {},
   "outputs": [],
   "source": [
    "p.__dict__['name']='john'"
   ]
  },
  {
   "cell_type": "code",
   "execution_count": 44,
   "id": "10fb1a6e-f8ed-4255-8e6e-05310cf28c1d",
   "metadata": {},
   "outputs": [
    {
     "data": {
      "text/plain": [
       "{'_name': 'Raymond', 'name': 'john'}"
      ]
     },
     "execution_count": 44,
     "metadata": {},
     "output_type": "execute_result"
    }
   ],
   "source": [
    "p.__dict__"
   ]
  },
  {
   "cell_type": "code",
   "execution_count": 45,
   "id": "ffcd5c76-8b0d-44ff-9627-d0b5a258baef",
   "metadata": {},
   "outputs": [
    {
     "name": "stdout",
     "output_type": "stream",
     "text": [
      "getter called\n"
     ]
    },
    {
     "data": {
      "text/plain": [
       "'Raymond'"
      ]
     },
     "execution_count": 45,
     "metadata": {},
     "output_type": "execute_result"
    }
   ],
   "source": [
    "p.name"
   ]
  },
  {
   "cell_type": "code",
   "execution_count": 46,
   "id": "ec8f57ed-3e30-46d2-ae4e-97f93dc1addd",
   "metadata": {},
   "outputs": [
    {
     "name": "stdout",
     "output_type": "stream",
     "text": [
      "getter called\n"
     ]
    },
    {
     "data": {
      "text/plain": [
       "'Raymond'"
      ]
     },
     "execution_count": 46,
     "metadata": {},
     "output_type": "execute_result"
    }
   ],
   "source": [
    "getattr(p,'name')"
   ]
  },
  {
   "cell_type": "code",
   "execution_count": 48,
   "id": "d2b58174-e5fe-48ce-83a0-5f3820d13213",
   "metadata": {},
   "outputs": [],
   "source": [
    "p=Person('Alex')"
   ]
  },
  {
   "cell_type": "code",
   "execution_count": 49,
   "id": "d099f4a3-b970-46d8-93b3-cb2032ea1843",
   "metadata": {},
   "outputs": [
    {
     "data": {
      "text/plain": [
       "{'_name': 'Alex'}"
      ]
     },
     "execution_count": 49,
     "metadata": {},
     "output_type": "execute_result"
    }
   ],
   "source": [
    "p.__dict__"
   ]
  },
  {
   "cell_type": "code",
   "execution_count": 50,
   "id": "7af7ba85-18d4-4192-9e3b-28fa0d8c8c6c",
   "metadata": {},
   "outputs": [
    {
     "name": "stdout",
     "output_type": "stream",
     "text": [
      "setter called\n"
     ]
    }
   ],
   "source": [
    "p.name='Eric'"
   ]
  },
  {
   "cell_type": "code",
   "execution_count": 51,
   "id": "d2bb6827-5c44-4210-9da5-e1d2f5eedf6c",
   "metadata": {},
   "outputs": [
    {
     "data": {
      "text/plain": [
       "{'_name': 'Eric'}"
      ]
     },
     "execution_count": 51,
     "metadata": {},
     "output_type": "execute_result"
    }
   ],
   "source": [
    "p.__dict__"
   ]
  },
  {
   "cell_type": "code",
   "execution_count": 52,
   "id": "37c37c07-b598-4108-8240-5ccfca74181d",
   "metadata": {},
   "outputs": [
    {
     "name": "stdout",
     "output_type": "stream",
     "text": [
      "getter called\n"
     ]
    },
    {
     "data": {
      "text/plain": [
       "'Eric'"
      ]
     },
     "execution_count": 52,
     "metadata": {},
     "output_type": "execute_result"
    }
   ],
   "source": [
    "p.name"
   ]
  },
  {
   "cell_type": "code",
   "execution_count": 53,
   "id": "dc5bd7a8-e62f-44b8-ad8f-04ae920f1303",
   "metadata": {},
   "outputs": [
    {
     "name": "stdout",
     "output_type": "stream",
     "text": [
      "deleter called ...\n"
     ]
    }
   ],
   "source": [
    "del p.name"
   ]
  },
  {
   "cell_type": "code",
   "execution_count": 54,
   "id": "0595b539-23fb-414b-8aa6-9b323905ddf6",
   "metadata": {},
   "outputs": [
    {
     "data": {
      "text/plain": [
       "{}"
      ]
     },
     "execution_count": 54,
     "metadata": {},
     "output_type": "execute_result"
    }
   ],
   "source": [
    "p.__dict__"
   ]
  },
  {
   "cell_type": "code",
   "execution_count": 55,
   "id": "6646b14b-d609-42d5-bd39-2b823d67575c",
   "metadata": {},
   "outputs": [
    {
     "data": {
      "text/plain": [
       "mappingproxy({'__module__': '__main__',\n",
       "              '__init__': <function __main__.Person.__init__(self, name)>,\n",
       "              'get_name': <function __main__.Person.get_name(self)>,\n",
       "              'set_name': <function __main__.Person.set_name(self, value)>,\n",
       "              'del_name': <function __main__.Person.del_name(self)>,\n",
       "              'name': <property at 0x22b28a9b2e0>,\n",
       "              '__dict__': <attribute '__dict__' of 'Person' objects>,\n",
       "              '__weakref__': <attribute '__weakref__' of 'Person' objects>,\n",
       "              '__doc__': None})"
      ]
     },
     "execution_count": 55,
     "metadata": {},
     "output_type": "execute_result"
    }
   ],
   "source": [
    "Person.__dict__"
   ]
  },
  {
   "cell_type": "code",
   "execution_count": 56,
   "id": "8317eaa8-a09e-4dec-908a-aa79eba56df3",
   "metadata": {},
   "outputs": [
    {
     "name": "stdout",
     "output_type": "stream",
     "text": [
      "getter called\n"
     ]
    },
    {
     "ename": "AttributeError",
     "evalue": "'Person' object has no attribute '_name'",
     "output_type": "error",
     "traceback": [
      "\u001b[1;31m---------------------------------------------------------------------------\u001b[0m",
      "\u001b[1;31mAttributeError\u001b[0m                            Traceback (most recent call last)",
      "Cell \u001b[1;32mIn[56], line 1\u001b[0m\n\u001b[1;32m----> 1\u001b[0m \u001b[43mp\u001b[49m\u001b[38;5;241;43m.\u001b[39;49m\u001b[43mname\u001b[49m\n",
      "Cell \u001b[1;32mIn[47], line 6\u001b[0m, in \u001b[0;36mPerson.get_name\u001b[1;34m(self)\u001b[0m\n\u001b[0;32m      4\u001b[0m \u001b[38;5;28;01mdef\u001b[39;00m\u001b[38;5;250m \u001b[39m\u001b[38;5;21mget_name\u001b[39m(\u001b[38;5;28mself\u001b[39m):\n\u001b[0;32m      5\u001b[0m     \u001b[38;5;28mprint\u001b[39m(\u001b[38;5;124m'\u001b[39m\u001b[38;5;124mgetter called\u001b[39m\u001b[38;5;124m'\u001b[39m)\n\u001b[1;32m----> 6\u001b[0m     \u001b[38;5;28;01mreturn\u001b[39;00m \u001b[38;5;28;43mself\u001b[39;49m\u001b[38;5;241;43m.\u001b[39;49m\u001b[43m_name\u001b[49m\n",
      "\u001b[1;31mAttributeError\u001b[0m: 'Person' object has no attribute '_name'"
     ]
    }
   ],
   "source": [
    "p.name"
   ]
  },
  {
   "cell_type": "code",
   "execution_count": 57,
   "id": "0aab62e1-343c-4c54-9e74-3aadcecb771d",
   "metadata": {},
   "outputs": [
    {
     "name": "stdout",
     "output_type": "stream",
     "text": [
      "setter called\n"
     ]
    }
   ],
   "source": [
    "p.name ='Alex'"
   ]
  },
  {
   "cell_type": "code",
   "execution_count": 58,
   "id": "850e5729-0757-40a9-a48b-a4d87fd9e789",
   "metadata": {},
   "outputs": [
    {
     "data": {
      "text/plain": [
       "{'_name': 'Alex'}"
      ]
     },
     "execution_count": 58,
     "metadata": {},
     "output_type": "execute_result"
    }
   ],
   "source": [
    "p.__dict__"
   ]
  },
  {
   "cell_type": "code",
   "execution_count": 59,
   "id": "94324632-1a8f-4897-8620-09dc1b9ccf06",
   "metadata": {},
   "outputs": [
    {
     "name": "stdout",
     "output_type": "stream",
     "text": [
      "getter called\n"
     ]
    },
    {
     "data": {
      "text/plain": [
       "'Alex'"
      ]
     },
     "execution_count": 59,
     "metadata": {},
     "output_type": "execute_result"
    }
   ],
   "source": [
    "p.name"
   ]
  },
  {
   "cell_type": "code",
   "execution_count": 61,
   "id": "b8a6305d-b029-4c81-8454-e04772449ce8",
   "metadata": {},
   "outputs": [
    {
     "name": "stdout",
     "output_type": "stream",
     "text": [
      "Help on class Person in module __main__:\n",
      "\n",
      "class Person(builtins.object)\n",
      " |  Person(name)\n",
      " |  \n",
      " |  This is a person oobject\n",
      " |  \n",
      " |  Methods defined here:\n",
      " |  \n",
      " |  __init__(self, name)\n",
      " |      Initialize self.  See help(type(self)) for accurate signature.\n",
      " |  \n",
      " |  del_name(self)\n",
      " |  \n",
      " |  get_name(self)\n",
      " |  \n",
      " |  set_name(self, value)\n",
      " |  \n",
      " |  ----------------------------------------------------------------------\n",
      " |  Data descriptors defined here:\n",
      " |  \n",
      " |  __dict__\n",
      " |      dictionary for instance variables (if defined)\n",
      " |  \n",
      " |  __weakref__\n",
      " |      list of weak references to the object (if defined)\n",
      " |  \n",
      " |  name\n",
      " |      The Person's name\n",
      "\n"
     ]
    }
   ],
   "source": [
    "help(Person)"
   ]
  },
  {
   "cell_type": "code",
   "execution_count": 83,
   "id": "3f60d04b-7d02-4f41-b7ee-f0a8668bfc98",
   "metadata": {},
   "outputs": [],
   "source": [
    "class PropertyExample:\n",
    "    def __init__(self,name):\n",
    "        self._name=name\n",
    "    def get_name(self):\n",
    "        print(\"Under Getter\")\n",
    "        return self._name\n",
    "    def set_name(self,value):\n",
    "        print(\"In setter\")\n",
    "        if not isinstance(value,str):\n",
    "            raise ValueError(\" Value must be string\")\n",
    "        self._name = value\n",
    "    def del_name(self):\n",
    "        del self._name\n",
    "    name=property(get_name,set_name,del_name)\n"
   ]
  },
  {
   "cell_type": "code",
   "execution_count": 84,
   "id": "f62da8b5-02f4-44e4-8e26-0d796f4cbe3a",
   "metadata": {},
   "outputs": [],
   "source": [
    "obj=PropertyExample(\"ravi\")"
   ]
  },
  {
   "cell_type": "code",
   "execution_count": 86,
   "id": "e5be46d3-c31d-491e-859f-212661723e97",
   "metadata": {},
   "outputs": [
    {
     "name": "stdout",
     "output_type": "stream",
     "text": [
      "Under Getter\n"
     ]
    },
    {
     "data": {
      "text/plain": [
       "'ravi'"
      ]
     },
     "execution_count": 86,
     "metadata": {},
     "output_type": "execute_result"
    }
   ],
   "source": [
    "obj.get_name()"
   ]
  },
  {
   "cell_type": "code",
   "execution_count": 91,
   "id": "740ad865-dedb-41c0-99d3-e3cd1aac93f3",
   "metadata": {},
   "outputs": [
    {
     "name": "stdout",
     "output_type": "stream",
     "text": [
      "In setter\n"
     ]
    }
   ],
   "source": [
    "obj.name=\"Shyam\""
   ]
  },
  {
   "cell_type": "code",
   "execution_count": 88,
   "id": "5605f234-6005-4727-8c90-e94fec917eb3",
   "metadata": {},
   "outputs": [
    {
     "name": "stdout",
     "output_type": "stream",
     "text": [
      "Under Getter\n"
     ]
    },
    {
     "data": {
      "text/plain": [
       "'Shyam'"
      ]
     },
     "execution_count": 88,
     "metadata": {},
     "output_type": "execute_result"
    }
   ],
   "source": [
    "obj.get_name()"
   ]
  },
  {
   "cell_type": "code",
   "execution_count": 89,
   "id": "457b6fb5-22de-4e66-bcbd-cf2c475f9baa",
   "metadata": {},
   "outputs": [],
   "source": [
    "del obj.name"
   ]
  },
  {
   "cell_type": "code",
   "execution_count": 92,
   "id": "90f9475c-9623-4a18-b31e-0fbf48f973d9",
   "metadata": {},
   "outputs": [
    {
     "name": "stdout",
     "output_type": "stream",
     "text": [
      "Under Getter\n"
     ]
    },
    {
     "data": {
      "text/plain": [
       "'Shyam'"
      ]
     },
     "execution_count": 92,
     "metadata": {},
     "output_type": "execute_result"
    }
   ],
   "source": [
    "obj.get_name()"
   ]
  },
  {
   "cell_type": "markdown",
   "id": "eb9f28e0-f0b6-4eeb-afb2-3547997d35bf",
   "metadata": {},
   "source": [
    "# Property Decorators"
   ]
  },
  {
   "cell_type": "code",
   "execution_count": 63,
   "id": "8399d5ad-fc24-4d87-9401-b3e518ff2f0a",
   "metadata": {},
   "outputs": [],
   "source": [
    "p=property(lambda self: print('getting property ..'))"
   ]
  },
  {
   "cell_type": "code",
   "execution_count": 64,
   "id": "c9a9f05a-2a4e-4de4-8e95-639205db7230",
   "metadata": {},
   "outputs": [
    {
     "data": {
      "text/plain": [
       "<property at 0x22b28a5e840>"
      ]
     },
     "execution_count": 64,
     "metadata": {},
     "output_type": "execute_result"
    }
   ],
   "source": [
    "p"
   ]
  },
  {
   "cell_type": "code",
   "execution_count": 65,
   "id": "0b105e58-a0e8-47c9-91ef-fedf8d2ff96e",
   "metadata": {},
   "outputs": [
    {
     "data": {
      "text/plain": [
       "mappingproxy({'__new__': <function property.__new__(*args, **kwargs)>,\n",
       "              '__getattribute__': <slot wrapper '__getattribute__' of 'property' objects>,\n",
       "              '__get__': <slot wrapper '__get__' of 'property' objects>,\n",
       "              '__set__': <slot wrapper '__set__' of 'property' objects>,\n",
       "              '__delete__': <slot wrapper '__delete__' of 'property' objects>,\n",
       "              '__init__': <slot wrapper '__init__' of 'property' objects>,\n",
       "              'getter': <method 'getter' of 'property' objects>,\n",
       "              'setter': <method 'setter' of 'property' objects>,\n",
       "              'deleter': <method 'deleter' of 'property' objects>,\n",
       "              '__set_name__': <method '__set_name__' of 'property' objects>,\n",
       "              'fget': <member 'fget' of 'property' objects>,\n",
       "              'fset': <member 'fset' of 'property' objects>,\n",
       "              'fdel': <member 'fdel' of 'property' objects>,\n",
       "              '__doc__': <member '__doc__' of 'property' objects>,\n",
       "              '__isabstractmethod__': <attribute '__isabstractmethod__' of 'property' objects>})"
      ]
     },
     "execution_count": 65,
     "metadata": {},
     "output_type": "execute_result"
    }
   ],
   "source": [
    "property.__dict__"
   ]
  },
  {
   "cell_type": "code",
   "execution_count": 66,
   "id": "8d4132a8-1f33-441b-bf55-1477e9719486",
   "metadata": {},
   "outputs": [
    {
     "data": {
      "text/plain": [
       "<function __main__.<lambda>(self)>"
      ]
     },
     "execution_count": 66,
     "metadata": {},
     "output_type": "execute_result"
    }
   ],
   "source": [
    "p.fget"
   ]
  },
  {
   "cell_type": "code",
   "execution_count": 67,
   "id": "b6d2e80e-c3f7-4947-b2f1-85aecbed3fd3",
   "metadata": {},
   "outputs": [],
   "source": [
    "def my_decorator(fn):\n",
    "    print('decorating function')\n",
    "    def inner(*args,**kwargs):\n",
    "        print('running decorated function')\n",
    "        return fn(*args,**kwargs)\n",
    "    return inner"
   ]
  },
  {
   "cell_type": "code",
   "execution_count": 68,
   "id": "a89ea781-77f1-4d42-8bb1-ba97fa64533b",
   "metadata": {},
   "outputs": [],
   "source": [
    "def undecorated_function(a,b):\n",
    "    print('running original function')\n",
    "    return a + b"
   ]
  },
  {
   "cell_type": "code",
   "execution_count": 70,
   "id": "361487dd-b62e-419b-b168-c02b7ebbdf9a",
   "metadata": {},
   "outputs": [],
   "source": [
    "def undecorated_function(a,b):\n",
    "    print('running original function')\n",
    "    return a+b"
   ]
  },
  {
   "cell_type": "code",
   "execution_count": 71,
   "id": "895309fc-4c0f-4f37-9ff1-2e215bfe8a1a",
   "metadata": {},
   "outputs": [
    {
     "name": "stdout",
     "output_type": "stream",
     "text": [
      "decorating function\n"
     ]
    }
   ],
   "source": [
    "decorated_func = my_decorator(undecorated_function)"
   ]
  },
  {
   "cell_type": "code",
   "execution_count": 72,
   "id": "b13174c3-7213-4b18-bab9-d29b4f7a13da",
   "metadata": {},
   "outputs": [
    {
     "data": {
      "text/plain": [
       "<function __main__.my_decorator.<locals>.inner(*args, **kwargs)>"
      ]
     },
     "execution_count": 72,
     "metadata": {},
     "output_type": "execute_result"
    }
   ],
   "source": [
    "decorated_func"
   ]
  },
  {
   "cell_type": "code",
   "execution_count": 73,
   "id": "6453ef11-a97d-4edb-9b6d-1fdfabc28795",
   "metadata": {},
   "outputs": [
    {
     "name": "stdout",
     "output_type": "stream",
     "text": [
      "running decorated function\n",
      "running original function\n"
     ]
    },
    {
     "data": {
      "text/plain": [
       "3"
      ]
     },
     "execution_count": 73,
     "metadata": {},
     "output_type": "execute_result"
    }
   ],
   "source": [
    "decorated_func(1,2)"
   ]
  },
  {
   "cell_type": "code",
   "execution_count": 74,
   "id": "138b0713-0d06-4b13-a113-55c4a5041100",
   "metadata": {},
   "outputs": [
    {
     "name": "stdout",
     "output_type": "stream",
     "text": [
      "decorating function\n"
     ]
    }
   ],
   "source": [
    "undecorated_function=my_decorator(undecorated_function)"
   ]
  },
  {
   "cell_type": "code",
   "execution_count": 75,
   "id": "b8e0ca92-f9c6-43d8-8756-ef1a27003ee2",
   "metadata": {},
   "outputs": [
    {
     "data": {
      "text/plain": [
       "<function __main__.my_decorator.<locals>.inner(*args, **kwargs)>"
      ]
     },
     "execution_count": 75,
     "metadata": {},
     "output_type": "execute_result"
    }
   ],
   "source": [
    "undecorated_function"
   ]
  },
  {
   "cell_type": "markdown",
   "id": "07e7a201-319c-44b4-ad7a-34a7573afcb5",
   "metadata": {},
   "source": [
    "## Property Decorators"
   ]
  },
  {
   "cell_type": "code",
   "execution_count": 2,
   "id": "58be287e-9c14-4e83-903a-de3c25adc375",
   "metadata": {},
   "outputs": [],
   "source": [
    "p=property(lambda self: print('getting property ....'))"
   ]
  },
  {
   "cell_type": "code",
   "execution_count": 3,
   "id": "5ea4c345-ce98-4aad-9437-0d38c3c94cb5",
   "metadata": {},
   "outputs": [
    {
     "data": {
      "text/plain": [
       "mappingproxy({'__new__': <function property.__new__(*args, **kwargs)>,\n",
       "              '__getattribute__': <slot wrapper '__getattribute__' of 'property' objects>,\n",
       "              '__get__': <slot wrapper '__get__' of 'property' objects>,\n",
       "              '__set__': <slot wrapper '__set__' of 'property' objects>,\n",
       "              '__delete__': <slot wrapper '__delete__' of 'property' objects>,\n",
       "              '__init__': <slot wrapper '__init__' of 'property' objects>,\n",
       "              'getter': <method 'getter' of 'property' objects>,\n",
       "              'setter': <method 'setter' of 'property' objects>,\n",
       "              'deleter': <method 'deleter' of 'property' objects>,\n",
       "              '__set_name__': <method '__set_name__' of 'property' objects>,\n",
       "              'fget': <member 'fget' of 'property' objects>,\n",
       "              'fset': <member 'fset' of 'property' objects>,\n",
       "              'fdel': <member 'fdel' of 'property' objects>,\n",
       "              '__doc__': <member '__doc__' of 'property' objects>,\n",
       "              '__isabstractmethod__': <attribute '__isabstractmethod__' of 'property' objects>})"
      ]
     },
     "execution_count": 3,
     "metadata": {},
     "output_type": "execute_result"
    }
   ],
   "source": [
    "property.__dict__"
   ]
  },
  {
   "cell_type": "code",
   "execution_count": 4,
   "id": "1098c449-f708-4a72-acfb-e1fa57a54a1d",
   "metadata": {},
   "outputs": [
    {
     "data": {
      "text/plain": [
       "<function __main__.<lambda>(self)>"
      ]
     },
     "execution_count": 4,
     "metadata": {},
     "output_type": "execute_result"
    }
   ],
   "source": [
    "p.fget"
   ]
  },
  {
   "cell_type": "code",
   "execution_count": 5,
   "id": "cf0dc8be-58c4-47d3-9ff5-3f65e3efc630",
   "metadata": {},
   "outputs": [],
   "source": [
    "def my_decorator(fn):\n",
    "    print('decorating function')\n",
    "    def inner(*args,**kwargs):\n",
    "        print('running decorated function')\n",
    "        result=fn(*args,**kwargs)\n",
    "    return inner"
   ]
  },
  {
   "cell_type": "code",
   "execution_count": 6,
   "id": "0ff2c7be-90ee-4856-9c2c-8b998ac9b90e",
   "metadata": {},
   "outputs": [],
   "source": [
    "def undecorated_function(a,b):\n",
    "    print('running original function')\n",
    "    return a + b"
   ]
  },
  {
   "cell_type": "code",
   "execution_count": 7,
   "id": "0e05d25e-5094-4443-a9de-945a826a307c",
   "metadata": {},
   "outputs": [
    {
     "name": "stdout",
     "output_type": "stream",
     "text": [
      "decorating function\n"
     ]
    }
   ],
   "source": [
    "decorated_func = my_decorator(undecorated_function)"
   ]
  },
  {
   "cell_type": "code",
   "execution_count": 8,
   "id": "b75b322f-99b6-40cd-a85e-13eba6d3c4c8",
   "metadata": {},
   "outputs": [
    {
     "data": {
      "text/plain": [
       "<function __main__.my_decorator.<locals>.inner(*args, **kwargs)>"
      ]
     },
     "execution_count": 8,
     "metadata": {},
     "output_type": "execute_result"
    }
   ],
   "source": [
    "decorated_func"
   ]
  },
  {
   "cell_type": "code",
   "execution_count": 9,
   "id": "a8ca8236-fbe8-4d94-a3c0-891f97d45103",
   "metadata": {},
   "outputs": [
    {
     "name": "stdout",
     "output_type": "stream",
     "text": [
      "running decorated function\n",
      "running original function\n"
     ]
    }
   ],
   "source": [
    "decorated_func(1,2)"
   ]
  },
  {
   "cell_type": "code",
   "execution_count": 10,
   "id": "f817b282-8262-4759-997d-e085a6baa750",
   "metadata": {},
   "outputs": [
    {
     "name": "stdout",
     "output_type": "stream",
     "text": [
      "decorating function\n"
     ]
    }
   ],
   "source": [
    "undecorated_function=my_decorator(undecorated_function)"
   ]
  },
  {
   "cell_type": "code",
   "execution_count": 11,
   "id": "c8e7e16c-784b-4b1d-be95-38a856d36fb7",
   "metadata": {},
   "outputs": [],
   "source": [
    "class Person:\n",
    "    def __init__(self,name):\n",
    "        self._name=name\n",
    "    def name(self):\n",
    "        print('getter called..')\n",
    "        return self._name\n",
    "    name = property(name)"
   ]
  },
  {
   "cell_type": "code",
   "execution_count": 12,
   "id": "dafcfd23-fc9a-4faf-9e6e-b5dda08f8fbf",
   "metadata": {},
   "outputs": [],
   "source": [
    "p=Person('john')"
   ]
  },
  {
   "cell_type": "code",
   "execution_count": 13,
   "id": "838e6bb8-9f34-4ac3-b3da-416df702eb49",
   "metadata": {},
   "outputs": [
    {
     "name": "stdout",
     "output_type": "stream",
     "text": [
      "getter called..\n"
     ]
    },
    {
     "data": {
      "text/plain": [
       "'john'"
      ]
     },
     "execution_count": 13,
     "metadata": {},
     "output_type": "execute_result"
    }
   ],
   "source": [
    "p.name"
   ]
  },
  {
   "cell_type": "code",
   "execution_count": 14,
   "id": "2a212fa9-eacf-4816-83e3-e60be1f2d6c5",
   "metadata": {},
   "outputs": [],
   "source": [
    "## Instrad of doing above you can directly use below"
   ]
  },
  {
   "cell_type": "code",
   "execution_count": 21,
   "id": "4b95cac4-6699-4545-b28a-07fbe95e5be3",
   "metadata": {},
   "outputs": [],
   "source": [
    "class Person:\n",
    "    def __init__(self,name):\n",
    "        self._name=name\n",
    "    @property\n",
    "    def name(self):\n",
    "        print('getter called..')\n",
    "        return self._name"
   ]
  },
  {
   "cell_type": "code",
   "execution_count": 22,
   "id": "8ec932dc-54d9-4d03-9012-f03c43785bca",
   "metadata": {},
   "outputs": [],
   "source": [
    "p=Person('john')"
   ]
  },
  {
   "cell_type": "code",
   "execution_count": 23,
   "id": "971aa629-fe2e-4398-8925-63965bd9fee6",
   "metadata": {},
   "outputs": [
    {
     "name": "stdout",
     "output_type": "stream",
     "text": [
      "getter called..\n"
     ]
    },
    {
     "data": {
      "text/plain": [
       "'john'"
      ]
     },
     "execution_count": 23,
     "metadata": {},
     "output_type": "execute_result"
    }
   ],
   "source": [
    "p.name"
   ]
  },
  {
   "cell_type": "code",
   "execution_count": 24,
   "id": "b7350b01-3e0b-4ca7-98dd-f34e5f6d54d6",
   "metadata": {},
   "outputs": [
    {
     "data": {
      "text/plain": [
       "mappingproxy({'__new__': <function property.__new__(*args, **kwargs)>,\n",
       "              '__getattribute__': <slot wrapper '__getattribute__' of 'property' objects>,\n",
       "              '__get__': <slot wrapper '__get__' of 'property' objects>,\n",
       "              '__set__': <slot wrapper '__set__' of 'property' objects>,\n",
       "              '__delete__': <slot wrapper '__delete__' of 'property' objects>,\n",
       "              '__init__': <slot wrapper '__init__' of 'property' objects>,\n",
       "              'getter': <method 'getter' of 'property' objects>,\n",
       "              'setter': <method 'setter' of 'property' objects>,\n",
       "              'deleter': <method 'deleter' of 'property' objects>,\n",
       "              '__set_name__': <method '__set_name__' of 'property' objects>,\n",
       "              'fget': <member 'fget' of 'property' objects>,\n",
       "              'fset': <member 'fset' of 'property' objects>,\n",
       "              'fdel': <member 'fdel' of 'property' objects>,\n",
       "              '__doc__': <member '__doc__' of 'property' objects>,\n",
       "              '__isabstractmethod__': <attribute '__isabstractmethod__' of 'property' objects>})"
      ]
     },
     "execution_count": 24,
     "metadata": {},
     "output_type": "execute_result"
    }
   ],
   "source": [
    "property.__dict__"
   ]
  },
  {
   "cell_type": "code",
   "execution_count": 25,
   "id": "c53124dd-92d6-4c68-925c-55f8edb7b1a6",
   "metadata": {},
   "outputs": [],
   "source": [
    "def get_prop(self):\n",
    "    return 'getter called..'\n",
    "def set_prop(self,value):\n",
    "    return 'setter called..'\n",
    "def del_pop(self):\n",
    "    return 'deleter called..'"
   ]
  },
  {
   "cell_type": "code",
   "execution_count": 27,
   "id": "aff40b47-f693-4c91-9c21-6aa6c4553cb5",
   "metadata": {},
   "outputs": [],
   "source": [
    "p=property(get_prop)"
   ]
  },
  {
   "cell_type": "code",
   "execution_count": 28,
   "id": "708fa06e-76b2-4f96-84b6-026a2ed60fa8",
   "metadata": {},
   "outputs": [
    {
     "data": {
      "text/plain": [
       "<function __main__.get_prop(self)>"
      ]
     },
     "execution_count": 28,
     "metadata": {},
     "output_type": "execute_result"
    }
   ],
   "source": [
    "p.fget"
   ]
  },
  {
   "cell_type": "code",
   "execution_count": 29,
   "id": "0e6b322e-f3fc-4e94-85df-41e4b1caa62a",
   "metadata": {},
   "outputs": [
    {
     "data": {
      "text/plain": [
       "['__class__',\n",
       " '__delattr__',\n",
       " '__delete__',\n",
       " '__dir__',\n",
       " '__doc__',\n",
       " '__eq__',\n",
       " '__format__',\n",
       " '__ge__',\n",
       " '__get__',\n",
       " '__getattribute__',\n",
       " '__gt__',\n",
       " '__hash__',\n",
       " '__init__',\n",
       " '__init_subclass__',\n",
       " '__isabstractmethod__',\n",
       " '__le__',\n",
       " '__lt__',\n",
       " '__ne__',\n",
       " '__new__',\n",
       " '__reduce__',\n",
       " '__reduce_ex__',\n",
       " '__repr__',\n",
       " '__set__',\n",
       " '__set_name__',\n",
       " '__setattr__',\n",
       " '__sizeof__',\n",
       " '__str__',\n",
       " '__subclasshook__',\n",
       " 'deleter',\n",
       " 'fdel',\n",
       " 'fget',\n",
       " 'fset',\n",
       " 'getter',\n",
       " 'setter']"
      ]
     },
     "execution_count": 29,
     "metadata": {},
     "output_type": "execute_result"
    }
   ],
   "source": [
    "dir(p)"
   ]
  },
  {
   "cell_type": "code",
   "execution_count": 30,
   "id": "39fc4613-976f-4d90-8bbb-b90ba308c6b8",
   "metadata": {},
   "outputs": [],
   "source": [
    "p1=p.setter(set_prop)"
   ]
  },
  {
   "cell_type": "code",
   "execution_count": 31,
   "id": "48412352-ccca-4820-a4b7-bbc613b4f7a7",
   "metadata": {},
   "outputs": [
    {
     "data": {
      "text/plain": [
       "False"
      ]
     },
     "execution_count": 31,
     "metadata": {},
     "output_type": "execute_result"
    }
   ],
   "source": [
    "p is p1"
   ]
  },
  {
   "cell_type": "code",
   "execution_count": 32,
   "id": "87ed57f6-c1b4-49d1-a6cc-ba9ef9135965",
   "metadata": {},
   "outputs": [
    {
     "data": {
      "text/plain": [
       "True"
      ]
     },
     "execution_count": 32,
     "metadata": {},
     "output_type": "execute_result"
    }
   ],
   "source": [
    "p.fget is p1.fget"
   ]
  },
  {
   "cell_type": "code",
   "execution_count": 33,
   "id": "f6f94333-d7ab-433c-bc54-b321b76a041a",
   "metadata": {},
   "outputs": [
    {
     "data": {
      "text/plain": [
       "(<function __main__.get_prop(self)>, <function __main__.set_prop(self, value)>)"
      ]
     },
     "execution_count": 33,
     "metadata": {},
     "output_type": "execute_result"
    }
   ],
   "source": [
    "p1.fget,p1.fset"
   ]
  },
  {
   "cell_type": "code",
   "execution_count": null,
   "id": "29e9bee4-017e-4bb4-a65c-bb67d0d139dc",
   "metadata": {},
   "outputs": [],
   "source": []
  }
 ],
 "metadata": {
  "kernelspec": {
   "display_name": "Python 3 (ipykernel)",
   "language": "python",
   "name": "python3"
  },
  "language_info": {
   "codemirror_mode": {
    "name": "ipython",
    "version": 3
   },
   "file_extension": ".py",
   "mimetype": "text/x-python",
   "name": "python",
   "nbconvert_exporter": "python",
   "pygments_lexer": "ipython3",
   "version": "3.10.0"
  }
 },
 "nbformat": 4,
 "nbformat_minor": 5
}
