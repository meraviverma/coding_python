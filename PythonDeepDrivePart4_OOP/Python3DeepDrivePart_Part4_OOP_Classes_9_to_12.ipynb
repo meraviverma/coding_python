{
 "cells": [
  {
   "cell_type": "markdown",
   "id": "831b252c-87af-4f51-b501-bcce92a1f02c",
   "metadata": {},
   "source": [
    "# Callable Class Attributes"
   ]
  },
  {
   "cell_type": "code",
   "execution_count": 2,
   "id": "ea653835-dc39-4f8f-b1a3-d2a6e301a9c0",
   "metadata": {},
   "outputs": [],
   "source": [
    "class Program:\n",
    "    language='Python'\n",
    "\n",
    "    def say_hello():\n",
    "        print(f'Hello from {Program.language}')"
   ]
  },
  {
   "cell_type": "code",
   "execution_count": 3,
   "id": "c221d047-4fe1-4e19-86d5-dad3311a6ef2",
   "metadata": {},
   "outputs": [
    {
     "data": {
      "text/plain": [
       "mappingproxy({'__module__': '__main__',\n",
       "              'language': 'Python',\n",
       "              'say_hello': <function __main__.Program.say_hello()>,\n",
       "              '__dict__': <attribute '__dict__' of 'Program' objects>,\n",
       "              '__weakref__': <attribute '__weakref__' of 'Program' objects>,\n",
       "              '__doc__': None})"
      ]
     },
     "execution_count": 3,
     "metadata": {},
     "output_type": "execute_result"
    }
   ],
   "source": [
    "Program.__dict__"
   ]
  },
  {
   "cell_type": "code",
   "execution_count": 4,
   "id": "c413b166-d49f-430b-8a50-e153821520cf",
   "metadata": {},
   "outputs": [
    {
     "data": {
      "text/plain": [
       "<function __main__.Program.say_hello()>"
      ]
     },
     "execution_count": 4,
     "metadata": {},
     "output_type": "execute_result"
    }
   ],
   "source": [
    "Program.say_hello"
   ]
  },
  {
   "cell_type": "code",
   "execution_count": 5,
   "id": "8b4fa8bc-38f4-425f-90e3-339c05efab03",
   "metadata": {},
   "outputs": [
    {
     "data": {
      "text/plain": [
       "<function __main__.Program.say_hello()>"
      ]
     },
     "execution_count": 5,
     "metadata": {},
     "output_type": "execute_result"
    }
   ],
   "source": [
    "getattr(Program,'say_hello')"
   ]
  },
  {
   "cell_type": "code",
   "execution_count": 6,
   "id": "37bf1570-1939-4188-b680-9cae098becb4",
   "metadata": {},
   "outputs": [
    {
     "name": "stdout",
     "output_type": "stream",
     "text": [
      "Hello from Python\n"
     ]
    }
   ],
   "source": [
    "Program.say_hello()"
   ]
  },
  {
   "cell_type": "code",
   "execution_count": 7,
   "id": "6f1186e0-b03f-43e1-a193-ea90a96e75cf",
   "metadata": {},
   "outputs": [
    {
     "name": "stdout",
     "output_type": "stream",
     "text": [
      "Hello from Python\n"
     ]
    }
   ],
   "source": [
    "getattr(Program,'say_hello')()"
   ]
  },
  {
   "cell_type": "code",
   "execution_count": 8,
   "id": "3c019f91-6187-4481-a06a-9a5c0284b17f",
   "metadata": {},
   "outputs": [
    {
     "name": "stdout",
     "output_type": "stream",
     "text": [
      "Hello from Python\n"
     ]
    }
   ],
   "source": [
    "Program.__dict__['say_hello']()"
   ]
  },
  {
   "cell_type": "markdown",
   "id": "b4e26cca-1870-4857-bfb6-41e8b2524041",
   "metadata": {},
   "source": [
    "# Classes are callable"
   ]
  },
  {
   "cell_type": "code",
   "execution_count": 10,
   "id": "572240d9-5adb-41ad-a54e-838354ef87fd",
   "metadata": {},
   "outputs": [],
   "source": [
    "class Program:\n",
    "    language='Python'\n",
    "    def say_hello():\n",
    "        print(f'Hello from {Program.language}')"
   ]
  },
  {
   "cell_type": "code",
   "execution_count": 11,
   "id": "1e308531-d1d2-46a9-b198-46d66dfe00ba",
   "metadata": {},
   "outputs": [],
   "source": [
    "p=Program()"
   ]
  },
  {
   "cell_type": "code",
   "execution_count": 12,
   "id": "4e9a3e68-9577-42b7-a81c-9d149ff97d75",
   "metadata": {},
   "outputs": [
    {
     "data": {
      "text/plain": [
       "__main__.Program"
      ]
     },
     "execution_count": 12,
     "metadata": {},
     "output_type": "execute_result"
    }
   ],
   "source": [
    "type(p)"
   ]
  },
  {
   "cell_type": "code",
   "execution_count": 13,
   "id": "f71fb600-4077-4c65-bb48-91d3f795a31b",
   "metadata": {},
   "outputs": [
    {
     "data": {
      "text/plain": [
       "True"
      ]
     },
     "execution_count": 13,
     "metadata": {},
     "output_type": "execute_result"
    }
   ],
   "source": [
    "isinstance(p,Program)"
   ]
  },
  {
   "cell_type": "code",
   "execution_count": 14,
   "id": "7380fb85-ed59-477c-b6d5-7c1ed546349e",
   "metadata": {},
   "outputs": [
    {
     "data": {
      "text/plain": [
       "{}"
      ]
     },
     "execution_count": 14,
     "metadata": {},
     "output_type": "execute_result"
    }
   ],
   "source": [
    "p.__dict__"
   ]
  },
  {
   "cell_type": "code",
   "execution_count": 15,
   "id": "74eeb293-b66f-4715-9c40-a48e9fb3838b",
   "metadata": {},
   "outputs": [
    {
     "data": {
      "text/plain": [
       "mappingproxy({'__module__': '__main__',\n",
       "              'language': 'Python',\n",
       "              'say_hello': <function __main__.Program.say_hello()>,\n",
       "              '__dict__': <attribute '__dict__' of 'Program' objects>,\n",
       "              '__weakref__': <attribute '__weakref__' of 'Program' objects>,\n",
       "              '__doc__': None})"
      ]
     },
     "execution_count": 15,
     "metadata": {},
     "output_type": "execute_result"
    }
   ],
   "source": [
    "Program.__dict__"
   ]
  },
  {
   "cell_type": "code",
   "execution_count": 16,
   "id": "c08ed715-5e4c-40f2-a53a-c7716f0e9805",
   "metadata": {},
   "outputs": [],
   "source": [
    "# These are class attributes so they belong to the namespace of the class\n",
    "# they are inside the class. The class attributes\n",
    "#They are not inside the namespace of the instance\n"
   ]
  },
  {
   "cell_type": "code",
   "execution_count": 17,
   "id": "bc5c0261-6ad8-49c1-8837-b30ffe8a8c93",
   "metadata": {},
   "outputs": [
    {
     "data": {
      "text/plain": [
       "__main__.Program"
      ]
     },
     "execution_count": 17,
     "metadata": {},
     "output_type": "execute_result"
    }
   ],
   "source": [
    "p.__class__"
   ]
  },
  {
   "cell_type": "code",
   "execution_count": 18,
   "id": "a88c3cfd-a7a5-485b-9a6f-2695091b203a",
   "metadata": {},
   "outputs": [
    {
     "data": {
      "text/plain": [
       "True"
      ]
     },
     "execution_count": 18,
     "metadata": {},
     "output_type": "execute_result"
    }
   ],
   "source": [
    "type(p) is p.__class__"
   ]
  },
  {
   "cell_type": "code",
   "execution_count": 21,
   "id": "98674e54-a6eb-46f4-a0e8-04a37ef22439",
   "metadata": {},
   "outputs": [],
   "source": [
    "class MyClass:\n",
    "    pass"
   ]
  },
  {
   "cell_type": "code",
   "execution_count": 24,
   "id": "0f88261b-4653-4806-9dad-e3354b2ff94d",
   "metadata": {},
   "outputs": [],
   "source": [
    "m = MyClass()"
   ]
  },
  {
   "cell_type": "code",
   "execution_count": 25,
   "id": "2a10b7dc-0f48-432e-b385-38ce2a8cbcac",
   "metadata": {},
   "outputs": [
    {
     "data": {
      "text/plain": [
       "(__main__.MyClass, __main__.MyClass)"
      ]
     },
     "execution_count": 25,
     "metadata": {},
     "output_type": "execute_result"
    }
   ],
   "source": [
    "type(m),m.__class__"
   ]
  },
  {
   "cell_type": "code",
   "execution_count": 26,
   "id": "0b082fbd-05dd-4693-8cbf-e3dfa99cb95e",
   "metadata": {},
   "outputs": [],
   "source": [
    "class MyClass:\n",
    "    __class__=str"
   ]
  },
  {
   "cell_type": "code",
   "execution_count": 27,
   "id": "78f70e1d-c77a-469b-80bc-dfaf94d0c214",
   "metadata": {},
   "outputs": [],
   "source": [
    "m=MyClass()"
   ]
  },
  {
   "cell_type": "code",
   "execution_count": 28,
   "id": "bf0c56a8-900b-4381-abf1-40a0e843c98d",
   "metadata": {},
   "outputs": [
    {
     "data": {
      "text/plain": [
       "(str, __main__.MyClass)"
      ]
     },
     "execution_count": 28,
     "metadata": {},
     "output_type": "execute_result"
    }
   ],
   "source": [
    "m.__class__,type(m)"
   ]
  },
  {
   "cell_type": "code",
   "execution_count": 29,
   "id": "6b31a0e0-8670-4916-89f8-a92a103bcd2b",
   "metadata": {},
   "outputs": [
    {
     "data": {
      "text/plain": [
       "True"
      ]
     },
     "execution_count": 29,
     "metadata": {},
     "output_type": "execute_result"
    }
   ],
   "source": [
    "isinstance(m,MyClass)"
   ]
  },
  {
   "cell_type": "code",
   "execution_count": 30,
   "id": "2582564b-665c-4677-ab65-0c4395378132",
   "metadata": {},
   "outputs": [
    {
     "data": {
      "text/plain": [
       "True"
      ]
     },
     "execution_count": 30,
     "metadata": {},
     "output_type": "execute_result"
    }
   ],
   "source": [
    "isinstance(m,str)"
   ]
  },
  {
   "cell_type": "code",
   "execution_count": 32,
   "id": "a3c1b04a-e1c8-4501-b821-9f0cf4f73e2c",
   "metadata": {},
   "outputs": [
    {
     "data": {
      "text/plain": [
       "False"
      ]
     },
     "execution_count": 32,
     "metadata": {},
     "output_type": "execute_result"
    }
   ],
   "source": [
    "isinstance(m,int)"
   ]
  },
  {
   "cell_type": "markdown",
   "id": "2872f280-35ef-4461-b948-0660a876f8a5",
   "metadata": {},
   "source": [
    "# Data Attributes"
   ]
  },
  {
   "cell_type": "code",
   "execution_count": 3,
   "id": "07f5528c-a134-45e1-bc47-d230885c2639",
   "metadata": {},
   "outputs": [],
   "source": [
    "class BankAccount:\n",
    "    apr=1.2"
   ]
  },
  {
   "cell_type": "code",
   "execution_count": 4,
   "id": "e1a2ea89-694c-41d3-84dd-0610c3af5b29",
   "metadata": {},
   "outputs": [
    {
     "data": {
      "text/plain": [
       "mappingproxy({'__module__': '__main__',\n",
       "              'apr': 1.2,\n",
       "              '__dict__': <attribute '__dict__' of 'BankAccount' objects>,\n",
       "              '__weakref__': <attribute '__weakref__' of 'BankAccount' objects>,\n",
       "              '__doc__': None})"
      ]
     },
     "execution_count": 4,
     "metadata": {},
     "output_type": "execute_result"
    }
   ],
   "source": [
    "BankAccount.__dict__"
   ]
  },
  {
   "cell_type": "code",
   "execution_count": 5,
   "id": "8d1a5282-0efb-44ad-8242-d6ab49860ea2",
   "metadata": {},
   "outputs": [
    {
     "data": {
      "text/plain": [
       "1.2"
      ]
     },
     "execution_count": 5,
     "metadata": {},
     "output_type": "execute_result"
    }
   ],
   "source": [
    "BankAccount.apr"
   ]
  },
  {
   "cell_type": "code",
   "execution_count": 6,
   "id": "8be5b11e-ef1a-4140-93ff-3da3c8b344d6",
   "metadata": {},
   "outputs": [],
   "source": [
    "acc_1=BankAccount()"
   ]
  },
  {
   "cell_type": "code",
   "execution_count": 7,
   "id": "48e6c3f0-4a93-4924-a037-5e4547dac8ee",
   "metadata": {},
   "outputs": [],
   "source": [
    "acc_2=BankAccount()"
   ]
  },
  {
   "cell_type": "code",
   "execution_count": 8,
   "id": "b8253c26-dc6b-4684-8265-3f58b6744e10",
   "metadata": {},
   "outputs": [
    {
     "data": {
      "text/plain": [
       "False"
      ]
     },
     "execution_count": 8,
     "metadata": {},
     "output_type": "execute_result"
    }
   ],
   "source": [
    "acc_1 is acc_2"
   ]
  },
  {
   "cell_type": "code",
   "execution_count": 9,
   "id": "c89e6a06-21fc-4d0b-bf8e-592062064557",
   "metadata": {},
   "outputs": [
    {
     "data": {
      "text/plain": [
       "({}, {})"
      ]
     },
     "execution_count": 9,
     "metadata": {},
     "output_type": "execute_result"
    }
   ],
   "source": [
    "acc_1.__dict__,acc_2.__dict__"
   ]
  },
  {
   "cell_type": "code",
   "execution_count": 10,
   "id": "d8b0cb89-6962-4454-9d55-c626c040ab6b",
   "metadata": {},
   "outputs": [
    {
     "data": {
      "text/plain": [
       "(1.2, 1.2)"
      ]
     },
     "execution_count": 10,
     "metadata": {},
     "output_type": "execute_result"
    }
   ],
   "source": [
    "acc_1.apr,acc_2.apr"
   ]
  },
  {
   "cell_type": "code",
   "execution_count": 11,
   "id": "94e7bad0-30ad-4e9b-940f-ecfe64cb2ea6",
   "metadata": {},
   "outputs": [],
   "source": [
    "BankAccount.account_type='Savings'"
   ]
  },
  {
   "cell_type": "code",
   "execution_count": 12,
   "id": "a85f7e9e-283f-4153-82fc-d82d3f80e963",
   "metadata": {},
   "outputs": [
    {
     "data": {
      "text/plain": [
       "('Savings', 'Savings')"
      ]
     },
     "execution_count": 12,
     "metadata": {},
     "output_type": "execute_result"
    }
   ],
   "source": [
    "acc_1.account_type,acc_2.account_type"
   ]
  },
  {
   "cell_type": "code",
   "execution_count": 13,
   "id": "8a21a023-a471-453d-9715-aa358d789749",
   "metadata": {},
   "outputs": [],
   "source": [
    "acc_1.apr=0"
   ]
  },
  {
   "cell_type": "code",
   "execution_count": 14,
   "id": "32f14bd1-c1b5-49c4-9846-5faa3d83621c",
   "metadata": {},
   "outputs": [
    {
     "data": {
      "text/plain": [
       "({'apr': 0}, {})"
      ]
     },
     "execution_count": 14,
     "metadata": {},
     "output_type": "execute_result"
    }
   ],
   "source": [
    "acc_1.__dict__,acc_2.__dict__"
   ]
  },
  {
   "cell_type": "code",
   "execution_count": 15,
   "id": "e8a423d7-615d-4008-8c36-0abd346257ad",
   "metadata": {},
   "outputs": [
    {
     "data": {
      "text/plain": [
       "(0, 1.2)"
      ]
     },
     "execution_count": 15,
     "metadata": {},
     "output_type": "execute_result"
    }
   ],
   "source": [
    "acc_1.apr,acc_2.apr"
   ]
  },
  {
   "cell_type": "code",
   "execution_count": 16,
   "id": "0c29a635-0cdc-4664-b1d4-7347ce5800d7",
   "metadata": {},
   "outputs": [],
   "source": [
    "setattr(acc_2,'apr',10)"
   ]
  },
  {
   "cell_type": "code",
   "execution_count": 17,
   "id": "acc499c9-1b0d-4186-8356-339d0b927644",
   "metadata": {},
   "outputs": [
    {
     "data": {
      "text/plain": [
       "{'apr': 10}"
      ]
     },
     "execution_count": 17,
     "metadata": {},
     "output_type": "execute_result"
    }
   ],
   "source": [
    "acc_2.__dict__"
   ]
  },
  {
   "cell_type": "code",
   "execution_count": 18,
   "id": "6a48514e-53f7-4448-8064-f1b6decd24bb",
   "metadata": {},
   "outputs": [],
   "source": [
    "acc_3=BankAccount()"
   ]
  },
  {
   "cell_type": "code",
   "execution_count": 19,
   "id": "6713bf90-24b7-4475-8deb-990d2888262d",
   "metadata": {},
   "outputs": [
    {
     "data": {
      "text/plain": [
       "1.2"
      ]
     },
     "execution_count": 19,
     "metadata": {},
     "output_type": "execute_result"
    }
   ],
   "source": [
    "getattr(acc_3,'apr')"
   ]
  },
  {
   "cell_type": "code",
   "execution_count": 20,
   "id": "5a46bec3-1c42-46b2-90d0-63be235ae4d2",
   "metadata": {},
   "outputs": [],
   "source": [
    "acc_1.bank='Acme saving and loans'"
   ]
  },
  {
   "cell_type": "code",
   "execution_count": 21,
   "id": "8963c78e-2ec2-4541-aab9-cb348478fb7e",
   "metadata": {},
   "outputs": [
    {
     "data": {
      "text/plain": [
       "{'apr': 0, 'bank': 'Acme saving and loans'}"
      ]
     },
     "execution_count": 21,
     "metadata": {},
     "output_type": "execute_result"
    }
   ],
   "source": [
    "acc_1.__dict__"
   ]
  },
  {
   "cell_type": "code",
   "execution_count": 22,
   "id": "601cbfc0-27c7-41b5-b038-90579aa2460e",
   "metadata": {},
   "outputs": [
    {
     "data": {
      "text/plain": [
       "{'apr': 10}"
      ]
     },
     "execution_count": 22,
     "metadata": {},
     "output_type": "execute_result"
    }
   ],
   "source": [
    "acc_2.__dict__"
   ]
  },
  {
   "cell_type": "code",
   "execution_count": 23,
   "id": "c4a66e35-0758-4063-9676-b7e39f3b5d37",
   "metadata": {},
   "outputs": [],
   "source": [
    "#class attribute and instance attribute\n",
    "#class attributes are attributes that are common to all instance because the attribute doesn't live in the instance\n",
    "#it lives in the class"
   ]
  },
  {
   "cell_type": "code",
   "execution_count": 25,
   "id": "da6fcdf5-e171-43c6-9ca9-ebe6819fb895",
   "metadata": {},
   "outputs": [
    {
     "data": {
      "text/plain": [
       "mappingproxy"
      ]
     },
     "execution_count": 25,
     "metadata": {},
     "output_type": "execute_result"
    }
   ],
   "source": [
    "type(BankAccount.__dict__)"
   ]
  },
  {
   "cell_type": "code",
   "execution_count": 26,
   "id": "02cb8e4b-b37c-43a7-818d-dc1c02d91989",
   "metadata": {},
   "outputs": [],
   "source": [
    "acc_1=BankAccount()"
   ]
  },
  {
   "cell_type": "code",
   "execution_count": 27,
   "id": "97606a9f-9587-41ea-ad03-4431e11f6af7",
   "metadata": {},
   "outputs": [
    {
     "data": {
      "text/plain": [
       "dict"
      ]
     },
     "execution_count": 27,
     "metadata": {},
     "output_type": "execute_result"
    }
   ],
   "source": [
    "type(acc_1.__dict__)"
   ]
  },
  {
   "cell_type": "code",
   "execution_count": 28,
   "id": "89fb8288-59b1-4dd3-ad2d-ca8f23307410",
   "metadata": {},
   "outputs": [],
   "source": [
    "class Program:\n",
    "    language='Python'"
   ]
  },
  {
   "cell_type": "code",
   "execution_count": 29,
   "id": "d5cb3bd0-20d5-4d86-a0d6-4ba7833d5d23",
   "metadata": {},
   "outputs": [],
   "source": [
    "p=Program()"
   ]
  },
  {
   "cell_type": "code",
   "execution_count": 30,
   "id": "9e8ad4a7-fed5-4625-ae77-d37a0529ad35",
   "metadata": {},
   "outputs": [
    {
     "data": {
      "text/plain": [
       "{}"
      ]
     },
     "execution_count": 30,
     "metadata": {},
     "output_type": "execute_result"
    }
   ],
   "source": [
    "p.__dict__"
   ]
  },
  {
   "cell_type": "code",
   "execution_count": 31,
   "id": "2e9a3745-1e54-42d7-997a-9269fcedae85",
   "metadata": {},
   "outputs": [],
   "source": [
    "p.__dict__['version']='3.7'"
   ]
  },
  {
   "cell_type": "code",
   "execution_count": 32,
   "id": "b7cb4bd1-0bb7-4898-93ca-7dd83264dcb9",
   "metadata": {},
   "outputs": [
    {
     "data": {
      "text/plain": [
       "{'version': '3.7'}"
      ]
     },
     "execution_count": 32,
     "metadata": {},
     "output_type": "execute_result"
    }
   ],
   "source": [
    "p.__dict__"
   ]
  },
  {
   "cell_type": "code",
   "execution_count": 33,
   "id": "d4a01589-f8a9-4ebd-8e11-4b147acc3069",
   "metadata": {},
   "outputs": [
    {
     "data": {
      "text/plain": [
       "'3.7'"
      ]
     },
     "execution_count": 33,
     "metadata": {},
     "output_type": "execute_result"
    }
   ],
   "source": [
    "p.version"
   ]
  },
  {
   "cell_type": "code",
   "execution_count": 34,
   "id": "6ebcf733-f17b-4641-ac4b-c1a62d24c637",
   "metadata": {},
   "outputs": [
    {
     "data": {
      "text/plain": [
       "'3.7'"
      ]
     },
     "execution_count": 34,
     "metadata": {},
     "output_type": "execute_result"
    }
   ],
   "source": [
    "getattr(p,'version')"
   ]
  },
  {
   "cell_type": "code",
   "execution_count": 35,
   "id": "601800e2-6b41-4877-811f-5db88a1fd4f1",
   "metadata": {},
   "outputs": [],
   "source": [
    "#class namespace\n",
    "#Instance namespace"
   ]
  },
  {
   "cell_type": "markdown",
   "id": "c8968ed4-02f7-48c9-a36b-9187b30732c0",
   "metadata": {},
   "source": [
    "# Function Attribute"
   ]
  },
  {
   "cell_type": "code",
   "execution_count": 36,
   "id": "b2b8a3c9-74cb-4e4e-9d92-3dca41d97fdb",
   "metadata": {},
   "outputs": [],
   "source": [
    "class Person():\n",
    "    def say_hello():\n",
    "        print('Hello')"
   ]
  },
  {
   "cell_type": "code",
   "execution_count": 37,
   "id": "aee2646b-f603-4c02-bd65-b1844278c36c",
   "metadata": {},
   "outputs": [
    {
     "data": {
      "text/plain": [
       "<function __main__.Person.say_hello()>"
      ]
     },
     "execution_count": 37,
     "metadata": {},
     "output_type": "execute_result"
    }
   ],
   "source": [
    "Person.say_hello"
   ]
  },
  {
   "cell_type": "code",
   "execution_count": 38,
   "id": "70244f5b-6bac-45cc-86a4-eb97bd68c709",
   "metadata": {},
   "outputs": [
    {
     "data": {
      "text/plain": [
       "function"
      ]
     },
     "execution_count": 38,
     "metadata": {},
     "output_type": "execute_result"
    }
   ],
   "source": [
    "type(Person.say_hello)"
   ]
  },
  {
   "cell_type": "code",
   "execution_count": 39,
   "id": "96ea7c4b-ccf4-4c28-b529-bd57c1b719c3",
   "metadata": {},
   "outputs": [
    {
     "name": "stdout",
     "output_type": "stream",
     "text": [
      "Hello\n"
     ]
    }
   ],
   "source": [
    "Person.say_hello()"
   ]
  },
  {
   "cell_type": "code",
   "execution_count": 40,
   "id": "3d7f907f-fbd4-40c3-8578-86e6079054e0",
   "metadata": {},
   "outputs": [],
   "source": [
    "p=Person()"
   ]
  },
  {
   "cell_type": "code",
   "execution_count": 41,
   "id": "12e1380e-c10a-4f5b-8ef2-31e5283957b8",
   "metadata": {},
   "outputs": [
    {
     "data": {
      "text/plain": [
       "'0x24b8669d750'"
      ]
     },
     "execution_count": 41,
     "metadata": {},
     "output_type": "execute_result"
    }
   ],
   "source": [
    "hex(id(p))"
   ]
  },
  {
   "cell_type": "code",
   "execution_count": 44,
   "id": "14edfa92-52d7-432d-9fce-18247dfefba9",
   "metadata": {},
   "outputs": [
    {
     "data": {
      "text/plain": [
       "<bound method Person.say_hello of <__main__.Person object at 0x0000024B8669D750>>"
      ]
     },
     "execution_count": 44,
     "metadata": {},
     "output_type": "execute_result"
    }
   ],
   "source": [
    "p.say_hello"
   ]
  },
  {
   "cell_type": "code",
   "execution_count": 45,
   "id": "bfd6ede9-227e-42e2-b1a4-933464f2af03",
   "metadata": {},
   "outputs": [],
   "source": [
    "# A method in python really means that it is a function that has been bound to an object and in this case\n",
    "#it's been bound to the object P and in fact if we look at the type of P.say_hello, you will see\n",
    "#that we don't get function back we get method"
   ]
  },
  {
   "cell_type": "code",
   "execution_count": 46,
   "id": "e8b5be63-5cc4-4ec7-9fd5-85495c7f8d89",
   "metadata": {},
   "outputs": [
    {
     "data": {
      "text/plain": [
       "method"
      ]
     },
     "execution_count": 46,
     "metadata": {},
     "output_type": "execute_result"
    }
   ],
   "source": [
    "type(p.say_hello)"
   ]
  },
  {
   "cell_type": "code",
   "execution_count": 47,
   "id": "56934020-ef00-4bfa-8c22-7dca03029952",
   "metadata": {},
   "outputs": [
    {
     "data": {
      "text/plain": [
       "False"
      ]
     },
     "execution_count": 47,
     "metadata": {},
     "output_type": "execute_result"
    }
   ],
   "source": [
    "type(p.say_hello) is type(Person.say_hello)"
   ]
  },
  {
   "cell_type": "code",
   "execution_count": 48,
   "id": "0ffa2a35-3644-4f27-8a20-921c51e5413a",
   "metadata": {},
   "outputs": [
    {
     "ename": "TypeError",
     "evalue": "Person.say_hello() takes 0 positional arguments but 1 was given",
     "output_type": "error",
     "traceback": [
      "\u001b[1;31m---------------------------------------------------------------------------\u001b[0m",
      "\u001b[1;31mTypeError\u001b[0m                                 Traceback (most recent call last)",
      "Cell \u001b[1;32mIn[48], line 1\u001b[0m\n\u001b[1;32m----> 1\u001b[0m \u001b[43mp\u001b[49m\u001b[38;5;241;43m.\u001b[39;49m\u001b[43msay_hello\u001b[49m\u001b[43m(\u001b[49m\u001b[43m)\u001b[49m\n",
      "\u001b[1;31mTypeError\u001b[0m: Person.say_hello() takes 0 positional arguments but 1 was given"
     ]
    }
   ],
   "source": [
    "p.say_hello()"
   ]
  },
  {
   "cell_type": "code",
   "execution_count": 50,
   "id": "d9c2a5e2-d7fe-4c7d-b87d-8ede0fcb0fbb",
   "metadata": {},
   "outputs": [],
   "source": [
    "#Say_hello() is a method that is bound to the object. Python essentially inject the object that we are using the instance \n",
    "#as an argument to the say hello function"
   ]
  },
  {
   "cell_type": "code",
   "execution_count": 51,
   "id": "a3a343e3-1e94-4e58-8b10-8eef030ece98",
   "metadata": {},
   "outputs": [],
   "source": [
    "class Person:\n",
    "    def say_hello(*args):\n",
    "        print('say_hello args:',args)"
   ]
  },
  {
   "cell_type": "code",
   "execution_count": 52,
   "id": "b01bdd67-e77d-489d-b1ba-a6ab6c19209f",
   "metadata": {},
   "outputs": [
    {
     "name": "stdout",
     "output_type": "stream",
     "text": [
      "say_hello args: ()\n"
     ]
    }
   ],
   "source": [
    "Person.say_hello()"
   ]
  },
  {
   "cell_type": "code",
   "execution_count": 53,
   "id": "84ebd391-c04b-4dd5-b238-49703dd30888",
   "metadata": {},
   "outputs": [],
   "source": [
    "p=Person()"
   ]
  },
  {
   "cell_type": "code",
   "execution_count": 54,
   "id": "1343b9e4-205e-46ab-943e-186af015dcb1",
   "metadata": {},
   "outputs": [
    {
     "data": {
      "text/plain": [
       "'0x24b86675db0'"
      ]
     },
     "execution_count": 54,
     "metadata": {},
     "output_type": "execute_result"
    }
   ],
   "source": [
    "hex(id(p))"
   ]
  },
  {
   "cell_type": "code",
   "execution_count": 55,
   "id": "698ca220-40e0-407f-b1e5-d940f46fb8c2",
   "metadata": {},
   "outputs": [
    {
     "name": "stdout",
     "output_type": "stream",
     "text": [
      "say_hello args: (<__main__.Person object at 0x0000024B86675DB0>,)\n"
     ]
    }
   ],
   "source": [
    "p.say_hello()"
   ]
  },
  {
   "cell_type": "code",
   "execution_count": 56,
   "id": "cecb9096-d109-4b07-af62-8e3114e05b49",
   "metadata": {},
   "outputs": [],
   "source": [
    "class Person:\n",
    "    def set_name(instance_obj,new_name):\n",
    "        instance_obj.name=new_name\n",
    "        #setattr(instance_obj,'name',new_name)"
   ]
  },
  {
   "cell_type": "code",
   "execution_count": 57,
   "id": "7ddf5a98-d0cc-4ccc-aee1-f9db926e5b39",
   "metadata": {},
   "outputs": [],
   "source": [
    "p=Person()"
   ]
  },
  {
   "cell_type": "code",
   "execution_count": 58,
   "id": "8bbb415e-ee87-4bfc-bbee-68a034ae1c84",
   "metadata": {},
   "outputs": [],
   "source": [
    "p.set_name('Ravi')"
   ]
  },
  {
   "cell_type": "code",
   "execution_count": 59,
   "id": "bc5009ae-fba0-4940-91a3-9f22f81d43b0",
   "metadata": {},
   "outputs": [
    {
     "data": {
      "text/plain": [
       "{'name': 'Ravi'}"
      ]
     },
     "execution_count": 59,
     "metadata": {},
     "output_type": "execute_result"
    }
   ],
   "source": [
    "p.__dict__"
   ]
  },
  {
   "cell_type": "code",
   "execution_count": 60,
   "id": "eae05e69-9c19-4132-8b59-0ed157be16a4",
   "metadata": {},
   "outputs": [],
   "source": [
    "p=Person()"
   ]
  },
  {
   "cell_type": "code",
   "execution_count": 61,
   "id": "8cebe37f-d81e-4169-ab8b-02d7ebf8752b",
   "metadata": {},
   "outputs": [],
   "source": [
    "Person.set_name(p,'john')"
   ]
  },
  {
   "cell_type": "code",
   "execution_count": 62,
   "id": "77f98243-c6b3-4442-857c-dd1c72312110",
   "metadata": {},
   "outputs": [
    {
     "data": {
      "text/plain": [
       "{'name': 'john'}"
      ]
     },
     "execution_count": 62,
     "metadata": {},
     "output_type": "execute_result"
    }
   ],
   "source": [
    "p.__dict__"
   ]
  },
  {
   "cell_type": "code",
   "execution_count": 63,
   "id": "67890d90-d24f-4d7f-b1df-021c3395934f",
   "metadata": {},
   "outputs": [],
   "source": [
    "class Person:\n",
    "    def say_hello(self):\n",
    "        print(f'{self} says hello')"
   ]
  },
  {
   "cell_type": "code",
   "execution_count": 64,
   "id": "1f2b46c2-c6b6-4401-9fff-efdbd6d2f1c2",
   "metadata": {},
   "outputs": [
    {
     "data": {
      "text/plain": [
       "<function __main__.Person.say_hello(self)>"
      ]
     },
     "execution_count": 64,
     "metadata": {},
     "output_type": "execute_result"
    }
   ],
   "source": [
    "Person.say_hello"
   ]
  },
  {
   "cell_type": "code",
   "execution_count": 66,
   "id": "5d67a439-2739-4064-a8e4-2035ba59624e",
   "metadata": {},
   "outputs": [
    {
     "name": "stdout",
     "output_type": "stream",
     "text": [
      "<class '__main__.Person'> says hello\n"
     ]
    }
   ],
   "source": [
    "Person.say_hello(Person)"
   ]
  },
  {
   "cell_type": "code",
   "execution_count": 82,
   "id": "65b62b60-5bd6-4503-a482-4533c8594a4b",
   "metadata": {},
   "outputs": [],
   "source": [
    "p=Person()"
   ]
  },
  {
   "cell_type": "code",
   "execution_count": 83,
   "id": "0f6cd164-35bf-40f5-9713-bb338cf516e4",
   "metadata": {},
   "outputs": [
    {
     "data": {
      "text/plain": [
       "<bound method Person.say_hello of <__main__.Person object at 0x0000024B85389B70>>"
      ]
     },
     "execution_count": 83,
     "metadata": {},
     "output_type": "execute_result"
    }
   ],
   "source": [
    "p.say_hello"
   ]
  },
  {
   "cell_type": "code",
   "execution_count": 84,
   "id": "4d94dd9f-a61e-4185-be04-551dede1238b",
   "metadata": {},
   "outputs": [
    {
     "name": "stdout",
     "output_type": "stream",
     "text": [
      "<__main__.Person object at 0x0000024B85389B70> says hello\n"
     ]
    }
   ],
   "source": [
    "p.say_hello()"
   ]
  },
  {
   "cell_type": "code",
   "execution_count": 86,
   "id": "1a7bfcb0-63c9-465d-9c5e-de8aacc11bea",
   "metadata": {},
   "outputs": [],
   "source": [
    "m_hello=p.say_hello"
   ]
  },
  {
   "cell_type": "code",
   "execution_count": 87,
   "id": "5b3f81ae-49ec-4346-9564-43d7b17bd85f",
   "metadata": {},
   "outputs": [
    {
     "data": {
      "text/plain": [
       "<bound method Person.say_hello of <__main__.Person object at 0x0000024B85389B70>>"
      ]
     },
     "execution_count": 87,
     "metadata": {},
     "output_type": "execute_result"
    }
   ],
   "source": [
    "m_hello"
   ]
  },
  {
   "cell_type": "code",
   "execution_count": 88,
   "id": "60b160e9-9ad2-4217-8def-beebeee63c0e",
   "metadata": {},
   "outputs": [
    {
     "data": {
      "text/plain": [
       "<function __main__.Person.say_hello(self)>"
      ]
     },
     "execution_count": 88,
     "metadata": {},
     "output_type": "execute_result"
    }
   ],
   "source": [
    "m_hello.__func__"
   ]
  },
  {
   "cell_type": "code",
   "execution_count": 89,
   "id": "4c4e69bd-6a85-470e-abfb-b97b5ccd8ff2",
   "metadata": {},
   "outputs": [
    {
     "data": {
      "text/plain": [
       "'0x24b85389b70'"
      ]
     },
     "execution_count": 89,
     "metadata": {},
     "output_type": "execute_result"
    }
   ],
   "source": [
    "hex(id(p))"
   ]
  },
  {
   "cell_type": "code",
   "execution_count": 90,
   "id": "85e09f1c-7de5-43a4-9d6b-e805e52e45c5",
   "metadata": {},
   "outputs": [
    {
     "data": {
      "text/plain": [
       "<__main__.Person at 0x24b85389b70>"
      ]
     },
     "execution_count": 90,
     "metadata": {},
     "output_type": "execute_result"
    }
   ],
   "source": [
    "m_hello.__self__"
   ]
  },
  {
   "cell_type": "code",
   "execution_count": 91,
   "id": "f0274db3-3408-42e4-9ce4-be72300dbc4a",
   "metadata": {},
   "outputs": [],
   "source": [
    "# Methods are functions that are bound to an object\n",
    "# self is basically to tell what I am actually bound to\n",
    "# Now this even hold true if we monkey patch our class at runtime and monkey patching just means basically\n",
    "# Monkey Patching is basically modifing the attributes of a class or an object at runtime when the program is running\n"
   ]
  },
  {
   "cell_type": "code",
   "execution_count": 92,
   "id": "9ea56dfd-ebdf-4214-aee1-2450047f069d",
   "metadata": {},
   "outputs": [],
   "source": [
    "class Person:\n",
    "    def say_hello(self):\n",
    "        print(f'instance method called from {self}')"
   ]
  },
  {
   "cell_type": "code",
   "execution_count": 93,
   "id": "81cbbff7-7f7c-4e47-9a82-e734c02e6c4d",
   "metadata": {},
   "outputs": [],
   "source": [
    "p=Person()"
   ]
  },
  {
   "cell_type": "code",
   "execution_count": 94,
   "id": "2e9e84a7-68f6-40a3-b679-1385dbc136d2",
   "metadata": {},
   "outputs": [
    {
     "data": {
      "text/plain": [
       "'0x24b863a91e0'"
      ]
     },
     "execution_count": 94,
     "metadata": {},
     "output_type": "execute_result"
    }
   ],
   "source": [
    "hex(id(p))"
   ]
  },
  {
   "cell_type": "code",
   "execution_count": 95,
   "id": "d0234475-497f-4c90-93ed-266b824e511a",
   "metadata": {},
   "outputs": [
    {
     "name": "stdout",
     "output_type": "stream",
     "text": [
      "instance method called from <__main__.Person object at 0x0000024B863A91E0>\n"
     ]
    }
   ],
   "source": [
    "p.say_hello()"
   ]
  },
  {
   "cell_type": "code",
   "execution_count": 96,
   "id": "abab86e7-9f51-40a1-989b-f7d1fe5a09f7",
   "metadata": {},
   "outputs": [],
   "source": [
    "Person.do_work=lambda self: f'do_work classed from {self}'"
   ]
  },
  {
   "cell_type": "code",
   "execution_count": 97,
   "id": "d50094da-4b28-4289-a6be-20b06758f173",
   "metadata": {},
   "outputs": [
    {
     "data": {
      "text/plain": [
       "mappingproxy({'__module__': '__main__',\n",
       "              'say_hello': <function __main__.Person.say_hello(self)>,\n",
       "              '__dict__': <attribute '__dict__' of 'Person' objects>,\n",
       "              '__weakref__': <attribute '__weakref__' of 'Person' objects>,\n",
       "              '__doc__': None,\n",
       "              'do_work': <function __main__.<lambda>(self)>})"
      ]
     },
     "execution_count": 97,
     "metadata": {},
     "output_type": "execute_result"
    }
   ],
   "source": [
    "Person.__dict__"
   ]
  },
  {
   "cell_type": "code",
   "execution_count": 98,
   "id": "169c5a21-6d39-403f-b07d-bc6fc71a7d73",
   "metadata": {},
   "outputs": [
    {
     "data": {
      "text/plain": [
       "<bound method Person.say_hello of <__main__.Person object at 0x0000024B863A91E0>>"
      ]
     },
     "execution_count": 98,
     "metadata": {},
     "output_type": "execute_result"
    }
   ],
   "source": [
    "p.say_hello"
   ]
  },
  {
   "cell_type": "code",
   "execution_count": 99,
   "id": "bad4968e-b190-4110-8c78-b7e4ea830cf7",
   "metadata": {},
   "outputs": [
    {
     "data": {
      "text/plain": [
       "<bound method <lambda> of <__main__.Person object at 0x0000024B863A91E0>>"
      ]
     },
     "execution_count": 99,
     "metadata": {},
     "output_type": "execute_result"
    }
   ],
   "source": [
    "p.do_work"
   ]
  },
  {
   "cell_type": "code",
   "execution_count": 100,
   "id": "44fef23e-643d-4370-8c2f-2ac5bd6678c2",
   "metadata": {},
   "outputs": [],
   "source": [
    "#first look at the instance then at class"
   ]
  },
  {
   "cell_type": "code",
   "execution_count": 101,
   "id": "ef60a0db-365b-4e04-8906-806cd9760cd5",
   "metadata": {},
   "outputs": [
    {
     "data": {
      "text/plain": [
       "'do_work classed from <__main__.Person object at 0x0000024B863A91E0>'"
      ]
     },
     "execution_count": 101,
     "metadata": {},
     "output_type": "execute_result"
    }
   ],
   "source": [
    "p.do_work()"
   ]
  },
  {
   "cell_type": "code",
   "execution_count": 102,
   "id": "51b10d41-7d4c-420e-b78c-1b8a5f693e50",
   "metadata": {},
   "outputs": [
    {
     "name": "stdout",
     "output_type": "stream",
     "text": [
      "instance method called from <__main__.Person object at 0x0000024B863A91E0>\n"
     ]
    }
   ],
   "source": [
    "p.say_hello()"
   ]
  },
  {
   "cell_type": "code",
   "execution_count": 103,
   "id": "f98eb1e4-49a4-44e7-b9c2-08e9dde0468a",
   "metadata": {},
   "outputs": [],
   "source": [
    "p.other_func=lambda *args: f'other _func called with {args}'"
   ]
  },
  {
   "cell_type": "code",
   "execution_count": 104,
   "id": "ff1889bf-1457-463e-9cef-1dd726208b17",
   "metadata": {},
   "outputs": [
    {
     "data": {
      "text/plain": [
       "<function __main__.<lambda>(*args)>"
      ]
     },
     "execution_count": 104,
     "metadata": {},
     "output_type": "execute_result"
    }
   ],
   "source": [
    "p.other_func"
   ]
  },
  {
   "cell_type": "code",
   "execution_count": 105,
   "id": "540001e0-72d7-4299-888b-5bf774b4be23",
   "metadata": {},
   "outputs": [
    {
     "data": {
      "text/plain": [
       "{'other_func': <function __main__.<lambda>(*args)>}"
      ]
     },
     "execution_count": 105,
     "metadata": {},
     "output_type": "execute_result"
    }
   ],
   "source": [
    "p.__dict__"
   ]
  },
  {
   "cell_type": "code",
   "execution_count": 106,
   "id": "e80e3f20-aad2-4796-b5c0-bd281dd5bc79",
   "metadata": {},
   "outputs": [
    {
     "data": {
      "text/plain": [
       "'other _func called with ()'"
      ]
     },
     "execution_count": 106,
     "metadata": {},
     "output_type": "execute_result"
    }
   ],
   "source": [
    "p.other_func()"
   ]
  },
  {
   "cell_type": "code",
   "execution_count": null,
   "id": "b414532c-c7f5-450e-9b09-7b87090b8a77",
   "metadata": {},
   "outputs": [],
   "source": []
  }
 ],
 "metadata": {
  "kernelspec": {
   "display_name": "Python 3 (ipykernel)",
   "language": "python",
   "name": "python3"
  },
  "language_info": {
   "codemirror_mode": {
    "name": "ipython",
    "version": 3
   },
   "file_extension": ".py",
   "mimetype": "text/x-python",
   "name": "python",
   "nbconvert_exporter": "python",
   "pygments_lexer": "ipython3",
   "version": "3.10.0"
  }
 },
 "nbformat": 4,
 "nbformat_minor": 5
}
