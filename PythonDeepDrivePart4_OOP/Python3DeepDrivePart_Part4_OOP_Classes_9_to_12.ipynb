{
 "cells": [
  {
   "cell_type": "markdown",
   "id": "831b252c-87af-4f51-b501-bcce92a1f02c",
   "metadata": {},
   "source": [
    "# Callable Class Attributes"
   ]
  },
  {
   "cell_type": "code",
   "execution_count": 2,
   "id": "ea653835-dc39-4f8f-b1a3-d2a6e301a9c0",
   "metadata": {},
   "outputs": [],
   "source": [
    "class Program:\n",
    "    language='Python'\n",
    "\n",
    "    def say_hello():\n",
    "        print(f'Hello from {Program.language}')"
   ]
  },
  {
   "cell_type": "code",
   "execution_count": 3,
   "id": "c221d047-4fe1-4e19-86d5-dad3311a6ef2",
   "metadata": {},
   "outputs": [
    {
     "data": {
      "text/plain": [
       "mappingproxy({'__module__': '__main__',\n",
       "              'language': 'Python',\n",
       "              'say_hello': <function __main__.Program.say_hello()>,\n",
       "              '__dict__': <attribute '__dict__' of 'Program' objects>,\n",
       "              '__weakref__': <attribute '__weakref__' of 'Program' objects>,\n",
       "              '__doc__': None})"
      ]
     },
     "execution_count": 3,
     "metadata": {},
     "output_type": "execute_result"
    }
   ],
   "source": [
    "Program.__dict__"
   ]
  },
  {
   "cell_type": "code",
   "execution_count": 4,
   "id": "c413b166-d49f-430b-8a50-e153821520cf",
   "metadata": {},
   "outputs": [
    {
     "data": {
      "text/plain": [
       "<function __main__.Program.say_hello()>"
      ]
     },
     "execution_count": 4,
     "metadata": {},
     "output_type": "execute_result"
    }
   ],
   "source": [
    "Program.say_hello"
   ]
  },
  {
   "cell_type": "code",
   "execution_count": 5,
   "id": "8b4fa8bc-38f4-425f-90e3-339c05efab03",
   "metadata": {},
   "outputs": [
    {
     "data": {
      "text/plain": [
       "<function __main__.Program.say_hello()>"
      ]
     },
     "execution_count": 5,
     "metadata": {},
     "output_type": "execute_result"
    }
   ],
   "source": [
    "getattr(Program,'say_hello')"
   ]
  },
  {
   "cell_type": "code",
   "execution_count": 6,
   "id": "37bf1570-1939-4188-b680-9cae098becb4",
   "metadata": {},
   "outputs": [
    {
     "name": "stdout",
     "output_type": "stream",
     "text": [
      "Hello from Python\n"
     ]
    }
   ],
   "source": [
    "Program.say_hello()"
   ]
  },
  {
   "cell_type": "code",
   "execution_count": 7,
   "id": "6f1186e0-b03f-43e1-a193-ea90a96e75cf",
   "metadata": {},
   "outputs": [
    {
     "name": "stdout",
     "output_type": "stream",
     "text": [
      "Hello from Python\n"
     ]
    }
   ],
   "source": [
    "getattr(Program,'say_hello')()"
   ]
  },
  {
   "cell_type": "code",
   "execution_count": 8,
   "id": "3c019f91-6187-4481-a06a-9a5c0284b17f",
   "metadata": {},
   "outputs": [
    {
     "name": "stdout",
     "output_type": "stream",
     "text": [
      "Hello from Python\n"
     ]
    }
   ],
   "source": [
    "Program.__dict__['say_hello']()"
   ]
  },
  {
   "cell_type": "markdown",
   "id": "b4e26cca-1870-4857-bfb6-41e8b2524041",
   "metadata": {},
   "source": [
    "# Classes are callable"
   ]
  },
  {
   "cell_type": "code",
   "execution_count": 10,
   "id": "572240d9-5adb-41ad-a54e-838354ef87fd",
   "metadata": {},
   "outputs": [],
   "source": [
    "class Program:\n",
    "    language='Python'\n",
    "    def say_hello():\n",
    "        print(f'Hello from {Program.language}')"
   ]
  },
  {
   "cell_type": "code",
   "execution_count": 11,
   "id": "1e308531-d1d2-46a9-b198-46d66dfe00ba",
   "metadata": {},
   "outputs": [],
   "source": [
    "p=Program()"
   ]
  },
  {
   "cell_type": "code",
   "execution_count": 12,
   "id": "4e9a3e68-9577-42b7-a81c-9d149ff97d75",
   "metadata": {},
   "outputs": [
    {
     "data": {
      "text/plain": [
       "__main__.Program"
      ]
     },
     "execution_count": 12,
     "metadata": {},
     "output_type": "execute_result"
    }
   ],
   "source": [
    "type(p)"
   ]
  },
  {
   "cell_type": "code",
   "execution_count": 13,
   "id": "f71fb600-4077-4c65-bb48-91d3f795a31b",
   "metadata": {},
   "outputs": [
    {
     "data": {
      "text/plain": [
       "True"
      ]
     },
     "execution_count": 13,
     "metadata": {},
     "output_type": "execute_result"
    }
   ],
   "source": [
    "isinstance(p,Program)"
   ]
  },
  {
   "cell_type": "code",
   "execution_count": 14,
   "id": "7380fb85-ed59-477c-b6d5-7c1ed546349e",
   "metadata": {},
   "outputs": [
    {
     "data": {
      "text/plain": [
       "{}"
      ]
     },
     "execution_count": 14,
     "metadata": {},
     "output_type": "execute_result"
    }
   ],
   "source": [
    "p.__dict__"
   ]
  },
  {
   "cell_type": "code",
   "execution_count": 15,
   "id": "74eeb293-b66f-4715-9c40-a48e9fb3838b",
   "metadata": {},
   "outputs": [
    {
     "data": {
      "text/plain": [
       "mappingproxy({'__module__': '__main__',\n",
       "              'language': 'Python',\n",
       "              'say_hello': <function __main__.Program.say_hello()>,\n",
       "              '__dict__': <attribute '__dict__' of 'Program' objects>,\n",
       "              '__weakref__': <attribute '__weakref__' of 'Program' objects>,\n",
       "              '__doc__': None})"
      ]
     },
     "execution_count": 15,
     "metadata": {},
     "output_type": "execute_result"
    }
   ],
   "source": [
    "Program.__dict__"
   ]
  },
  {
   "cell_type": "code",
   "execution_count": 16,
   "id": "c08ed715-5e4c-40f2-a53a-c7716f0e9805",
   "metadata": {},
   "outputs": [],
   "source": [
    "# These are class attributes so they belong to the namespace of the class\n",
    "# they are inside the class. The class attributes\n",
    "#They are not inside the namespace of the instance\n"
   ]
  },
  {
   "cell_type": "code",
   "execution_count": 17,
   "id": "bc5c0261-6ad8-49c1-8837-b30ffe8a8c93",
   "metadata": {},
   "outputs": [
    {
     "data": {
      "text/plain": [
       "__main__.Program"
      ]
     },
     "execution_count": 17,
     "metadata": {},
     "output_type": "execute_result"
    }
   ],
   "source": [
    "p.__class__"
   ]
  },
  {
   "cell_type": "code",
   "execution_count": 18,
   "id": "a88c3cfd-a7a5-485b-9a6f-2695091b203a",
   "metadata": {},
   "outputs": [
    {
     "data": {
      "text/plain": [
       "True"
      ]
     },
     "execution_count": 18,
     "metadata": {},
     "output_type": "execute_result"
    }
   ],
   "source": [
    "type(p) is p.__class__"
   ]
  },
  {
   "cell_type": "code",
   "execution_count": 21,
   "id": "98674e54-a6eb-46f4-a0e8-04a37ef22439",
   "metadata": {},
   "outputs": [],
   "source": [
    "class MyClass:\n",
    "    pass"
   ]
  },
  {
   "cell_type": "code",
   "execution_count": 24,
   "id": "0f88261b-4653-4806-9dad-e3354b2ff94d",
   "metadata": {},
   "outputs": [],
   "source": [
    "m = MyClass()"
   ]
  },
  {
   "cell_type": "code",
   "execution_count": 25,
   "id": "2a10b7dc-0f48-432e-b385-38ce2a8cbcac",
   "metadata": {},
   "outputs": [
    {
     "data": {
      "text/plain": [
       "(__main__.MyClass, __main__.MyClass)"
      ]
     },
     "execution_count": 25,
     "metadata": {},
     "output_type": "execute_result"
    }
   ],
   "source": [
    "type(m),m.__class__"
   ]
  },
  {
   "cell_type": "code",
   "execution_count": 26,
   "id": "0b082fbd-05dd-4693-8cbf-e3dfa99cb95e",
   "metadata": {},
   "outputs": [],
   "source": [
    "class MyClass:\n",
    "    __class__=str"
   ]
  },
  {
   "cell_type": "code",
   "execution_count": 27,
   "id": "78f70e1d-c77a-469b-80bc-dfaf94d0c214",
   "metadata": {},
   "outputs": [],
   "source": [
    "m=MyClass()"
   ]
  },
  {
   "cell_type": "code",
   "execution_count": 28,
   "id": "bf0c56a8-900b-4381-abf1-40a0e843c98d",
   "metadata": {},
   "outputs": [
    {
     "data": {
      "text/plain": [
       "(str, __main__.MyClass)"
      ]
     },
     "execution_count": 28,
     "metadata": {},
     "output_type": "execute_result"
    }
   ],
   "source": [
    "m.__class__,type(m)"
   ]
  },
  {
   "cell_type": "code",
   "execution_count": 29,
   "id": "6b31a0e0-8670-4916-89f8-a92a103bcd2b",
   "metadata": {},
   "outputs": [
    {
     "data": {
      "text/plain": [
       "True"
      ]
     },
     "execution_count": 29,
     "metadata": {},
     "output_type": "execute_result"
    }
   ],
   "source": [
    "isinstance(m,MyClass)"
   ]
  },
  {
   "cell_type": "code",
   "execution_count": 30,
   "id": "2582564b-665c-4677-ab65-0c4395378132",
   "metadata": {},
   "outputs": [
    {
     "data": {
      "text/plain": [
       "True"
      ]
     },
     "execution_count": 30,
     "metadata": {},
     "output_type": "execute_result"
    }
   ],
   "source": [
    "isinstance(m,str)"
   ]
  },
  {
   "cell_type": "code",
   "execution_count": 32,
   "id": "a3c1b04a-e1c8-4501-b821-9f0cf4f73e2c",
   "metadata": {},
   "outputs": [
    {
     "data": {
      "text/plain": [
       "False"
      ]
     },
     "execution_count": 32,
     "metadata": {},
     "output_type": "execute_result"
    }
   ],
   "source": [
    "isinstance(m,int)"
   ]
  },
  {
   "cell_type": "markdown",
   "id": "2872f280-35ef-4461-b948-0660a876f8a5",
   "metadata": {},
   "source": [
    "# Data Attributes"
   ]
  },
  {
   "cell_type": "code",
   "execution_count": 3,
   "id": "07f5528c-a134-45e1-bc47-d230885c2639",
   "metadata": {},
   "outputs": [],
   "source": [
    "class BankAccount:\n",
    "    apr=1.2"
   ]
  },
  {
   "cell_type": "code",
   "execution_count": 4,
   "id": "e1a2ea89-694c-41d3-84dd-0610c3af5b29",
   "metadata": {},
   "outputs": [
    {
     "data": {
      "text/plain": [
       "mappingproxy({'__module__': '__main__',\n",
       "              'apr': 1.2,\n",
       "              '__dict__': <attribute '__dict__' of 'BankAccount' objects>,\n",
       "              '__weakref__': <attribute '__weakref__' of 'BankAccount' objects>,\n",
       "              '__doc__': None})"
      ]
     },
     "execution_count": 4,
     "metadata": {},
     "output_type": "execute_result"
    }
   ],
   "source": [
    "BankAccount.__dict__"
   ]
  },
  {
   "cell_type": "code",
   "execution_count": 5,
   "id": "8d1a5282-0efb-44ad-8242-d6ab49860ea2",
   "metadata": {},
   "outputs": [
    {
     "data": {
      "text/plain": [
       "1.2"
      ]
     },
     "execution_count": 5,
     "metadata": {},
     "output_type": "execute_result"
    }
   ],
   "source": [
    "BankAccount.apr"
   ]
  },
  {
   "cell_type": "code",
   "execution_count": 6,
   "id": "8be5b11e-ef1a-4140-93ff-3da3c8b344d6",
   "metadata": {},
   "outputs": [],
   "source": [
    "acc_1=BankAccount()"
   ]
  },
  {
   "cell_type": "code",
   "execution_count": 7,
   "id": "48e6c3f0-4a93-4924-a037-5e4547dac8ee",
   "metadata": {},
   "outputs": [],
   "source": [
    "acc_2=BankAccount()"
   ]
  },
  {
   "cell_type": "code",
   "execution_count": 8,
   "id": "b8253c26-dc6b-4684-8265-3f58b6744e10",
   "metadata": {},
   "outputs": [
    {
     "data": {
      "text/plain": [
       "False"
      ]
     },
     "execution_count": 8,
     "metadata": {},
     "output_type": "execute_result"
    }
   ],
   "source": [
    "acc_1 is acc_2"
   ]
  },
  {
   "cell_type": "code",
   "execution_count": 9,
   "id": "c89e6a06-21fc-4d0b-bf8e-592062064557",
   "metadata": {},
   "outputs": [
    {
     "data": {
      "text/plain": [
       "({}, {})"
      ]
     },
     "execution_count": 9,
     "metadata": {},
     "output_type": "execute_result"
    }
   ],
   "source": [
    "acc_1.__dict__,acc_2.__dict__"
   ]
  },
  {
   "cell_type": "code",
   "execution_count": 10,
   "id": "d8b0cb89-6962-4454-9d55-c626c040ab6b",
   "metadata": {},
   "outputs": [
    {
     "data": {
      "text/plain": [
       "(1.2, 1.2)"
      ]
     },
     "execution_count": 10,
     "metadata": {},
     "output_type": "execute_result"
    }
   ],
   "source": [
    "acc_1.apr,acc_2.apr"
   ]
  },
  {
   "cell_type": "code",
   "execution_count": 11,
   "id": "94e7bad0-30ad-4e9b-940f-ecfe64cb2ea6",
   "metadata": {},
   "outputs": [],
   "source": [
    "BankAccount.account_type='Savings'"
   ]
  },
  {
   "cell_type": "code",
   "execution_count": 12,
   "id": "a85f7e9e-283f-4153-82fc-d82d3f80e963",
   "metadata": {},
   "outputs": [
    {
     "data": {
      "text/plain": [
       "('Savings', 'Savings')"
      ]
     },
     "execution_count": 12,
     "metadata": {},
     "output_type": "execute_result"
    }
   ],
   "source": [
    "acc_1.account_type,acc_2.account_type"
   ]
  },
  {
   "cell_type": "code",
   "execution_count": 13,
   "id": "8a21a023-a471-453d-9715-aa358d789749",
   "metadata": {},
   "outputs": [],
   "source": [
    "acc_1.apr=0"
   ]
  },
  {
   "cell_type": "code",
   "execution_count": 14,
   "id": "32f14bd1-c1b5-49c4-9846-5faa3d83621c",
   "metadata": {},
   "outputs": [
    {
     "data": {
      "text/plain": [
       "({'apr': 0}, {})"
      ]
     },
     "execution_count": 14,
     "metadata": {},
     "output_type": "execute_result"
    }
   ],
   "source": [
    "acc_1.__dict__,acc_2.__dict__"
   ]
  },
  {
   "cell_type": "code",
   "execution_count": 15,
   "id": "e8a423d7-615d-4008-8c36-0abd346257ad",
   "metadata": {},
   "outputs": [
    {
     "data": {
      "text/plain": [
       "(0, 1.2)"
      ]
     },
     "execution_count": 15,
     "metadata": {},
     "output_type": "execute_result"
    }
   ],
   "source": [
    "acc_1.apr,acc_2.apr"
   ]
  },
  {
   "cell_type": "code",
   "execution_count": 16,
   "id": "0c29a635-0cdc-4664-b1d4-7347ce5800d7",
   "metadata": {},
   "outputs": [],
   "source": [
    "setattr(acc_2,'apr',10)"
   ]
  },
  {
   "cell_type": "code",
   "execution_count": 17,
   "id": "acc499c9-1b0d-4186-8356-339d0b927644",
   "metadata": {},
   "outputs": [
    {
     "data": {
      "text/plain": [
       "{'apr': 10}"
      ]
     },
     "execution_count": 17,
     "metadata": {},
     "output_type": "execute_result"
    }
   ],
   "source": [
    "acc_2.__dict__"
   ]
  },
  {
   "cell_type": "code",
   "execution_count": 18,
   "id": "6a48514e-53f7-4448-8064-f1b6decd24bb",
   "metadata": {},
   "outputs": [],
   "source": [
    "acc_3=BankAccount()"
   ]
  },
  {
   "cell_type": "code",
   "execution_count": 19,
   "id": "6713bf90-24b7-4475-8deb-990d2888262d",
   "metadata": {},
   "outputs": [
    {
     "data": {
      "text/plain": [
       "1.2"
      ]
     },
     "execution_count": 19,
     "metadata": {},
     "output_type": "execute_result"
    }
   ],
   "source": [
    "getattr(acc_3,'apr')"
   ]
  },
  {
   "cell_type": "code",
   "execution_count": 20,
   "id": "5a46bec3-1c42-46b2-90d0-63be235ae4d2",
   "metadata": {},
   "outputs": [],
   "source": [
    "acc_1.bank='Acme saving and loans'"
   ]
  },
  {
   "cell_type": "code",
   "execution_count": 21,
   "id": "8963c78e-2ec2-4541-aab9-cb348478fb7e",
   "metadata": {},
   "outputs": [
    {
     "data": {
      "text/plain": [
       "{'apr': 0, 'bank': 'Acme saving and loans'}"
      ]
     },
     "execution_count": 21,
     "metadata": {},
     "output_type": "execute_result"
    }
   ],
   "source": [
    "acc_1.__dict__"
   ]
  },
  {
   "cell_type": "code",
   "execution_count": 22,
   "id": "601cbfc0-27c7-41b5-b038-90579aa2460e",
   "metadata": {},
   "outputs": [
    {
     "data": {
      "text/plain": [
       "{'apr': 10}"
      ]
     },
     "execution_count": 22,
     "metadata": {},
     "output_type": "execute_result"
    }
   ],
   "source": [
    "acc_2.__dict__"
   ]
  },
  {
   "cell_type": "code",
   "execution_count": 23,
   "id": "c4a66e35-0758-4063-9676-b7e39f3b5d37",
   "metadata": {},
   "outputs": [],
   "source": [
    "#class attribute and instance attribute\n",
    "#class attributes are attributes that are common to all instance because the attribute doesn't live in the instance\n",
    "#it lives in the class"
   ]
  },
  {
   "cell_type": "code",
   "execution_count": 25,
   "id": "da6fcdf5-e171-43c6-9ca9-ebe6819fb895",
   "metadata": {},
   "outputs": [
    {
     "data": {
      "text/plain": [
       "mappingproxy"
      ]
     },
     "execution_count": 25,
     "metadata": {},
     "output_type": "execute_result"
    }
   ],
   "source": [
    "type(BankAccount.__dict__)"
   ]
  },
  {
   "cell_type": "code",
   "execution_count": 26,
   "id": "02cb8e4b-b37c-43a7-818d-dc1c02d91989",
   "metadata": {},
   "outputs": [],
   "source": [
    "acc_1=BankAccount()"
   ]
  },
  {
   "cell_type": "code",
   "execution_count": 27,
   "id": "97606a9f-9587-41ea-ad03-4431e11f6af7",
   "metadata": {},
   "outputs": [
    {
     "data": {
      "text/plain": [
       "dict"
      ]
     },
     "execution_count": 27,
     "metadata": {},
     "output_type": "execute_result"
    }
   ],
   "source": [
    "type(acc_1.__dict__)"
   ]
  },
  {
   "cell_type": "code",
   "execution_count": 28,
   "id": "89fb8288-59b1-4dd3-ad2d-ca8f23307410",
   "metadata": {},
   "outputs": [],
   "source": [
    "class Program:\n",
    "    language='Python'"
   ]
  },
  {
   "cell_type": "code",
   "execution_count": 29,
   "id": "d5cb3bd0-20d5-4d86-a0d6-4ba7833d5d23",
   "metadata": {},
   "outputs": [],
   "source": [
    "p=Program()"
   ]
  },
  {
   "cell_type": "code",
   "execution_count": 30,
   "id": "9e8ad4a7-fed5-4625-ae77-d37a0529ad35",
   "metadata": {},
   "outputs": [
    {
     "data": {
      "text/plain": [
       "{}"
      ]
     },
     "execution_count": 30,
     "metadata": {},
     "output_type": "execute_result"
    }
   ],
   "source": [
    "p.__dict__"
   ]
  },
  {
   "cell_type": "code",
   "execution_count": 31,
   "id": "2e9a3745-1e54-42d7-997a-9269fcedae85",
   "metadata": {},
   "outputs": [],
   "source": [
    "p.__dict__['version']='3.7'"
   ]
  },
  {
   "cell_type": "code",
   "execution_count": 32,
   "id": "b7cb4bd1-0bb7-4898-93ca-7dd83264dcb9",
   "metadata": {},
   "outputs": [
    {
     "data": {
      "text/plain": [
       "{'version': '3.7'}"
      ]
     },
     "execution_count": 32,
     "metadata": {},
     "output_type": "execute_result"
    }
   ],
   "source": [
    "p.__dict__"
   ]
  },
  {
   "cell_type": "code",
   "execution_count": 33,
   "id": "d4a01589-f8a9-4ebd-8e11-4b147acc3069",
   "metadata": {},
   "outputs": [
    {
     "data": {
      "text/plain": [
       "'3.7'"
      ]
     },
     "execution_count": 33,
     "metadata": {},
     "output_type": "execute_result"
    }
   ],
   "source": [
    "p.version"
   ]
  },
  {
   "cell_type": "code",
   "execution_count": 34,
   "id": "6ebcf733-f17b-4641-ac4b-c1a62d24c637",
   "metadata": {},
   "outputs": [
    {
     "data": {
      "text/plain": [
       "'3.7'"
      ]
     },
     "execution_count": 34,
     "metadata": {},
     "output_type": "execute_result"
    }
   ],
   "source": [
    "getattr(p,'version')"
   ]
  },
  {
   "cell_type": "code",
   "execution_count": null,
   "id": "601800e2-6b41-4877-811f-5db88a1fd4f1",
   "metadata": {},
   "outputs": [],
   "source": []
  }
 ],
 "metadata": {
  "kernelspec": {
   "display_name": "Python 3 (ipykernel)",
   "language": "python",
   "name": "python3"
  },
  "language_info": {
   "codemirror_mode": {
    "name": "ipython",
    "version": 3
   },
   "file_extension": ".py",
   "mimetype": "text/x-python",
   "name": "python",
   "nbconvert_exporter": "python",
   "pygments_lexer": "ipython3",
   "version": "3.10.0"
  }
 },
 "nbformat": 4,
 "nbformat_minor": 5
}
