{
 "cells": [
  {
   "cell_type": "markdown",
   "id": "7bb917b0-1034-4899-b168-ab2f335b669d",
   "metadata": {},
   "source": [
    "## Decorator"
   ]
  },
  {
   "cell_type": "code",
   "execution_count": 1,
   "id": "4c974d95-c60c-4257-9f9c-9a6ec9538008",
   "metadata": {},
   "outputs": [],
   "source": [
    "def wrapper(func):\n",
    "    def inner(*args,**kwargs):\n",
    "        result=func(*args,**kwargs)\n",
    "        return result\n",
    "    return inner"
   ]
  },
  {
   "cell_type": "code",
   "execution_count": 4,
   "id": "52e4b571-8c8e-461c-8239-f48485f5fbb1",
   "metadata": {},
   "outputs": [],
   "source": [
    "def add(a,b,c):\n",
    "    return a + b + c\n",
    "def greet(name):\n",
    "    return f'Hello {name}'\n",
    "def join(data,* ,item_sep=',',line_sep='\\n'):\n",
    "    return line_sep.join(\n",
    "        [\n",
    "            item_sep.join(str(item) for item in row)\n",
    "            for row in data\n",
    "        ]\n",
    "    )\n"
   ]
  },
  {
   "cell_type": "code",
   "execution_count": 5,
   "id": "23d877a2-e99a-49d3-bdcf-3e333e18f7b2",
   "metadata": {},
   "outputs": [
    {
     "data": {
      "text/plain": [
       "6"
      ]
     },
     "execution_count": 5,
     "metadata": {},
     "output_type": "execute_result"
    }
   ],
   "source": [
    "add(1,2,3)"
   ]
  },
  {
   "cell_type": "code",
   "execution_count": 6,
   "id": "df1c915d-7714-4fed-85c8-c3403a9103d7",
   "metadata": {},
   "outputs": [
    {
     "data": {
      "text/plain": [
       "'Hello Python'"
      ]
     },
     "execution_count": 6,
     "metadata": {},
     "output_type": "execute_result"
    }
   ],
   "source": [
    "greet('Python')"
   ]
  },
  {
   "cell_type": "code",
   "execution_count": 8,
   "id": "b181979c-95b4-4710-9c60-a17c2184c14a",
   "metadata": {},
   "outputs": [
    {
     "data": {
      "text/plain": [
       "'1,2,3\\n4,5,6\\n7,8,9'"
      ]
     },
     "execution_count": 8,
     "metadata": {},
     "output_type": "execute_result"
    }
   ],
   "source": [
    "join([[1,2,3],[4,5,6],[7,8,9]])"
   ]
  },
  {
   "cell_type": "code",
   "execution_count": 10,
   "id": "abdf6443-2c7b-4c13-9e53-9fdc372ffdde",
   "metadata": {},
   "outputs": [],
   "source": [
    "add_wrapped=wrapper(add)"
   ]
  },
  {
   "cell_type": "code",
   "execution_count": 11,
   "id": "cd8f33e6-2398-4847-a775-1ecadcbc86bd",
   "metadata": {},
   "outputs": [
    {
     "data": {
      "text/plain": [
       "6"
      ]
     },
     "execution_count": 11,
     "metadata": {},
     "output_type": "execute_result"
    }
   ],
   "source": [
    "add_wrapped(1,2,3)"
   ]
  },
  {
   "cell_type": "code",
   "execution_count": 12,
   "id": "10b9c77c-8756-4da8-81c8-56c4342571e8",
   "metadata": {},
   "outputs": [],
   "source": [
    "greet_wrapped=wrapper(greet)"
   ]
  },
  {
   "cell_type": "code",
   "execution_count": 14,
   "id": "0fca930e-8e4f-4132-b88e-e3e417ac2352",
   "metadata": {},
   "outputs": [
    {
     "data": {
      "text/plain": [
       "'Hello ravi'"
      ]
     },
     "execution_count": 14,
     "metadata": {},
     "output_type": "execute_result"
    }
   ],
   "source": [
    "greet_wrapped('ravi')"
   ]
  },
  {
   "cell_type": "code",
   "execution_count": 15,
   "id": "e5b2c632-a22c-4baa-b339-4ffaa2ced31a",
   "metadata": {},
   "outputs": [],
   "source": [
    "join_wrapped=wrapper(join)"
   ]
  },
  {
   "cell_type": "code",
   "execution_count": 16,
   "id": "8e89d198-384a-4fae-beb8-4cc98708bafa",
   "metadata": {},
   "outputs": [
    {
     "data": {
      "text/plain": [
       "'1,2,3\\n4,5,6\\n7,8,9'"
      ]
     },
     "execution_count": 16,
     "metadata": {},
     "output_type": "execute_result"
    }
   ],
   "source": [
    "join_wrapped([[1,2,3],[4,5,6],[7,8,9]])"
   ]
  },
  {
   "cell_type": "code",
   "execution_count": 19,
   "id": "a2ea6ff6-d22b-4a4c-b128-bdd8d8c251a0",
   "metadata": {},
   "outputs": [],
   "source": [
    "def log(func):\n",
    "    def inner(*args,**kwargs):\n",
    "        result=func(*args,**kwargs)\n",
    "        print(f'{func.__name__} called.. result={result}')\n",
    "        return result\n",
    "    return inner"
   ]
  },
  {
   "cell_type": "code",
   "execution_count": 20,
   "id": "c4672cec-1431-402e-aaea-7bd0472406dd",
   "metadata": {},
   "outputs": [],
   "source": [
    "add_logged=log(add)\n",
    "greet_logged=log(greet)\n",
    "join_logged=log(join)"
   ]
  },
  {
   "cell_type": "code",
   "execution_count": 22,
   "id": "a37d3f37-4688-4210-b838-da15ab3b4fe7",
   "metadata": {},
   "outputs": [
    {
     "name": "stdout",
     "output_type": "stream",
     "text": [
      "add called.. result=6\n"
     ]
    },
    {
     "data": {
      "text/plain": [
       "6"
      ]
     },
     "execution_count": 22,
     "metadata": {},
     "output_type": "execute_result"
    }
   ],
   "source": [
    "add_logged(1,2,3)"
   ]
  },
  {
   "cell_type": "code",
   "execution_count": 23,
   "id": "a37e9127-5506-4448-8caa-1859bab477c4",
   "metadata": {},
   "outputs": [
    {
     "name": "stdout",
     "output_type": "stream",
     "text": [
      "greet called.. result=Hello Python\n"
     ]
    },
    {
     "data": {
      "text/plain": [
       "'Hello Python'"
      ]
     },
     "execution_count": 23,
     "metadata": {},
     "output_type": "execute_result"
    }
   ],
   "source": [
    "greet_logged('Python')"
   ]
  },
  {
   "cell_type": "code",
   "execution_count": 24,
   "id": "3e9a27a3-f985-4581-a396-bf20127ab6eb",
   "metadata": {},
   "outputs": [
    {
     "data": {
      "text/plain": [
       "1823454637952"
      ]
     },
     "execution_count": 24,
     "metadata": {},
     "output_type": "execute_result"
    }
   ],
   "source": [
    "id(add)"
   ]
  },
  {
   "cell_type": "code",
   "execution_count": 25,
   "id": "40a2ce15-91f8-4995-83f3-048ca3e0c45e",
   "metadata": {},
   "outputs": [],
   "source": [
    "add=log(add)"
   ]
  },
  {
   "cell_type": "code",
   "execution_count": 26,
   "id": "7332c6be-35e0-44e6-b59d-4651cfdcc448",
   "metadata": {},
   "outputs": [
    {
     "data": {
      "text/plain": [
       "1823476535584"
      ]
     },
     "execution_count": 26,
     "metadata": {},
     "output_type": "execute_result"
    }
   ],
   "source": [
    "id(add)"
   ]
  },
  {
   "cell_type": "code",
   "execution_count": 27,
   "id": "f53d7ad1-1be7-464b-aab2-acd4df7a9264",
   "metadata": {},
   "outputs": [
    {
     "data": {
      "text/plain": [
       "(<cell at 0x000001A88F9460E0: function object at 0x000001A88E5DAF80>,)"
      ]
     },
     "execution_count": 27,
     "metadata": {},
     "output_type": "execute_result"
    }
   ],
   "source": [
    "add.__closure__"
   ]
  },
  {
   "cell_type": "code",
   "execution_count": 28,
   "id": "1c8f65ca-49cd-49b2-9a00-bede65786e18",
   "metadata": {},
   "outputs": [
    {
     "data": {
      "text/plain": [
       "'0x1a88fabd120'"
      ]
     },
     "execution_count": 28,
     "metadata": {},
     "output_type": "execute_result"
    }
   ],
   "source": [
    "hex(1823476535584)"
   ]
  },
  {
   "cell_type": "code",
   "execution_count": 29,
   "id": "75632470-a54f-4c65-a6fb-a8e2fcc15100",
   "metadata": {},
   "outputs": [
    {
     "name": "stdout",
     "output_type": "stream",
     "text": [
      "add called.. result=6\n"
     ]
    },
    {
     "data": {
      "text/plain": [
       "6"
      ]
     },
     "execution_count": 29,
     "metadata": {},
     "output_type": "execute_result"
    }
   ],
   "source": [
    "add(1,2,3)"
   ]
  },
  {
   "cell_type": "code",
   "execution_count": 30,
   "id": "47a5ff7f-31bc-4933-849e-929a28fbfe1c",
   "metadata": {},
   "outputs": [],
   "source": [
    "def add(a,b,c):\n",
    "    return a + b + c\n",
    "def greet(name):\n",
    "    return f'Hello {name}'\n",
    "def join(data,* ,item_sep=',',line_sep='\\n'):\n",
    "    return line_sep.join(\n",
    "        [\n",
    "            item_sep.join(str(item) for item in row)\n",
    "            for row in data\n",
    "        ]\n",
    "    )\n"
   ]
  },
  {
   "cell_type": "code",
   "execution_count": 31,
   "id": "d8bdf80c-c13c-4cd9-aa41-94f8b077d813",
   "metadata": {},
   "outputs": [],
   "source": [
    "greet=log(greet)"
   ]
  },
  {
   "cell_type": "code",
   "execution_count": 32,
   "id": "09765e61-f4a4-483f-86ac-7c65e508aa9f",
   "metadata": {},
   "outputs": [
    {
     "name": "stdout",
     "output_type": "stream",
     "text": [
      "greet called.. result=Hello Ravi\n"
     ]
    },
    {
     "data": {
      "text/plain": [
       "'Hello Ravi'"
      ]
     },
     "execution_count": 32,
     "metadata": {},
     "output_type": "execute_result"
    }
   ],
   "source": [
    "greet('Ravi')"
   ]
  },
  {
   "cell_type": "code",
   "execution_count": 33,
   "id": "3ea4ef28-3cf9-4f07-a215-4cecce153c20",
   "metadata": {},
   "outputs": [],
   "source": [
    "@log\n",
    "def add(a,b,c):\n",
    "    return a + b + c"
   ]
  },
  {
   "cell_type": "code",
   "execution_count": 34,
   "id": "7c690c16-cedc-436d-9e3c-3f625f7bce8b",
   "metadata": {},
   "outputs": [
    {
     "name": "stdout",
     "output_type": "stream",
     "text": [
      "add called.. result=6\n"
     ]
    },
    {
     "data": {
      "text/plain": [
       "6"
      ]
     },
     "execution_count": 34,
     "metadata": {},
     "output_type": "execute_result"
    }
   ],
   "source": [
    "add(1,2,3)"
   ]
  },
  {
   "cell_type": "code",
   "execution_count": 35,
   "id": "8e6cd349-29e3-41dd-a046-6181c2781e26",
   "metadata": {},
   "outputs": [],
   "source": [
    "import logging"
   ]
  },
  {
   "cell_type": "code",
   "execution_count": 38,
   "id": "83643406-8026-495e-b21f-8a1de2bce881",
   "metadata": {},
   "outputs": [],
   "source": [
    "def simple_decorator(func):\n",
    "    def wrapper(a, b):\n",
    "        print(\"Before\")\n",
    "        result = func(a, b)\n",
    "        print(\"After\")\n",
    "        return result\n",
    "        print(\"second after\")\n",
    "    return wrapper\n",
    "\n",
    "@simple_decorator\n",
    "def add(a, b):\n",
    "    return a + b"
   ]
  },
  {
   "cell_type": "code",
   "execution_count": 39,
   "id": "ccd66cbc-5b09-46f9-8040-0453bd911d50",
   "metadata": {},
   "outputs": [
    {
     "name": "stdout",
     "output_type": "stream",
     "text": [
      "Before\n",
      "After\n"
     ]
    },
    {
     "data": {
      "text/plain": [
       "5"
      ]
     },
     "execution_count": 39,
     "metadata": {},
     "output_type": "execute_result"
    }
   ],
   "source": [
    "add(2,3)"
   ]
  },
  {
   "cell_type": "code",
   "execution_count": 40,
   "id": "30716e08-918b-4ca5-ab23-b6ea890702b2",
   "metadata": {},
   "outputs": [],
   "source": [
    "logging.basicConfig(\n",
    "    format='%(asctime)s %(levelname)s: %(message)s',\n",
    "    level=logging.DEBUG\n",
    ")"
   ]
  },
  {
   "cell_type": "code",
   "execution_count": 41,
   "id": "4f717818-3717-481b-b163-5624ad08a76b",
   "metadata": {},
   "outputs": [],
   "source": [
    "logger=logging.getLogger('Custom Log')"
   ]
  },
  {
   "cell_type": "code",
   "execution_count": 42,
   "id": "db9e200c-6b84-42d2-85cd-50ff441ddc77",
   "metadata": {},
   "outputs": [
    {
     "name": "stderr",
     "output_type": "stream",
     "text": [
      "2025-09-10 00:58:57,651 DEBUG: debug message\n"
     ]
    }
   ],
   "source": [
    "logger.debug('debug message')"
   ]
  },
  {
   "cell_type": "code",
   "execution_count": 43,
   "id": "fa5918e0-074a-487f-8c4a-28de11a0d223",
   "metadata": {},
   "outputs": [
    {
     "name": "stderr",
     "output_type": "stream",
     "text": [
      "2025-09-10 00:59:15,141 ERROR: some error happened\n"
     ]
    }
   ],
   "source": [
    "logger.error('some error happened')"
   ]
  },
  {
   "cell_type": "code",
   "execution_count": 45,
   "id": "f3df207b-0a49-447a-a681-9ebc25383ce3",
   "metadata": {},
   "outputs": [
    {
     "name": "stderr",
     "output_type": "stream",
     "text": [
      "2025-09-10 00:59:36,162 WARNING: warning message\n"
     ]
    }
   ],
   "source": [
    "logger.warning('warning message')"
   ]
  },
  {
   "cell_type": "code",
   "execution_count": 46,
   "id": "1dca226b-aaab-4986-82c2-5a49cb8b7470",
   "metadata": {},
   "outputs": [],
   "source": [
    "from time import perf_counter"
   ]
  },
  {
   "cell_type": "code",
   "execution_count": 47,
   "id": "5e831a2e-3e2f-400a-873a-18881108ffa2",
   "metadata": {},
   "outputs": [],
   "source": [
    "def log(func):\n",
    "    def inner(*args,**kwargs):\n",
    "        start=perf_counter()\n",
    "        result=func(*args,**kwargs)\n",
    "        end=perf_counter()\n",
    "        logger.debug(f'called={func.__name__},elapsed={end-start}')\n",
    "        return result\n",
    "    return inner"
   ]
  },
  {
   "cell_type": "code",
   "execution_count": 48,
   "id": "ef9a3408-59f2-4f20-824b-fe59119f01b4",
   "metadata": {},
   "outputs": [],
   "source": [
    "@log\n",
    "def add(a,b,c):\n",
    "    return a + b + c\n",
    "@log\n",
    "def greet(name):\n",
    "    return f'Hello {name}'\n",
    "@log\n",
    "def join(data,* ,item_sep=',',line_sep='\\n'):\n",
    "    return line_sep.join(\n",
    "        [\n",
    "            item_sep.join(str(item) for item in row)\n",
    "            for row in data\n",
    "        ]\n",
    "    )\n"
   ]
  },
  {
   "cell_type": "code",
   "execution_count": 49,
   "id": "88619885-9303-45a8-90ab-b1cad97e60aa",
   "metadata": {},
   "outputs": [
    {
     "name": "stderr",
     "output_type": "stream",
     "text": [
      "2025-09-10 01:03:18,732 DEBUG: called=add,elapsed=2.3999891709536314e-06\n"
     ]
    },
    {
     "data": {
      "text/plain": [
       "6"
      ]
     },
     "execution_count": 49,
     "metadata": {},
     "output_type": "execute_result"
    }
   ],
   "source": [
    "add(1,2,3)"
   ]
  },
  {
   "cell_type": "markdown",
   "id": "ec4c027d-2f02-48e4-b8ea-b898b3f53791",
   "metadata": {},
   "source": [
    "## Cache Coding"
   ]
  },
  {
   "cell_type": "code",
   "execution_count": 1,
   "id": "15b5f212-9a02-4877-a1c1-f95f5db18f41",
   "metadata": {},
   "outputs": [],
   "source": [
    "#lru_cache"
   ]
  },
  {
   "cell_type": "code",
   "execution_count": null,
   "id": "8be09a62-a733-49ad-a3da-f6ab711c4bb5",
   "metadata": {},
   "outputs": [],
   "source": []
  }
 ],
 "metadata": {
  "kernelspec": {
   "display_name": "Python 3 (ipykernel)",
   "language": "python",
   "name": "python3"
  },
  "language_info": {
   "codemirror_mode": {
    "name": "ipython",
    "version": 3
   },
   "file_extension": ".py",
   "mimetype": "text/x-python",
   "name": "python",
   "nbconvert_exporter": "python",
   "pygments_lexer": "ipython3",
   "version": "3.10.0"
  }
 },
 "nbformat": 4,
 "nbformat_minor": 5
}
