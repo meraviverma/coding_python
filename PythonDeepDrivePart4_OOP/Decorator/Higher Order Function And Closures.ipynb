{
 "cells": [
  {
   "cell_type": "markdown",
   "id": "0c2dacf2-19dd-4870-bba2-80b12189e553",
   "metadata": {},
   "source": [
    "# Passing and Returning Functions"
   ]
  },
  {
   "cell_type": "code",
   "execution_count": 2,
   "id": "e8381fe1-d22f-45ab-8c2f-9b7be468026e",
   "metadata": {},
   "outputs": [],
   "source": [
    "def add(a,b):\n",
    "    return a+b\n",
    "def greet(name):\n",
    "    return f'Hello, {name}!'"
   ]
  },
  {
   "cell_type": "code",
   "execution_count": 3,
   "id": "9bb8b3b3-15bc-4d28-a905-b4dc673910af",
   "metadata": {},
   "outputs": [
    {
     "data": {
      "text/plain": [
       "(5, 'Hello, john!')"
      ]
     },
     "execution_count": 3,
     "metadata": {},
     "output_type": "execute_result"
    }
   ],
   "source": [
    "add(2,3),greet('john')"
   ]
  },
  {
   "cell_type": "code",
   "execution_count": 2,
   "id": "e32ea86a-a8b0-4a04-b107-30379ec5205d",
   "metadata": {},
   "outputs": [],
   "source": [
    "def apply(func,*args):\n",
    "    print(args)\n",
    "    print(*args)\n",
    "    result=func(*args) #we have to unpack it\n",
    "    return result"
   ]
  },
  {
   "cell_type": "code",
   "execution_count": 21,
   "id": "ab2192f1-071d-4ecb-9389-b7b156fc8752",
   "metadata": {},
   "outputs": [
    {
     "name": "stdout",
     "output_type": "stream",
     "text": [
      "(2, 3)\n",
      "2 3\n"
     ]
    },
    {
     "data": {
      "text/plain": [
       "5"
      ]
     },
     "execution_count": 21,
     "metadata": {},
     "output_type": "execute_result"
    }
   ],
   "source": [
    "apply(add,2,3)"
   ]
  },
  {
   "cell_type": "markdown",
   "id": "96d0af3f-e6df-43cb-b159-5f3735bdc03b",
   "metadata": {},
   "source": [
    "## Args and Unpacking args example"
   ]
  },
  {
   "cell_type": "code",
   "execution_count": 16,
   "id": "e6f0b6d7-f72f-4495-8ab8-dc2059f810c3",
   "metadata": {},
   "outputs": [],
   "source": [
    "def add_any(*args):\n",
    "    total=0\n",
    "    for num in args:\n",
    "        total=num+total\n",
    "    return total"
   ]
  },
  {
   "cell_type": "code",
   "execution_count": 20,
   "id": "26508399-3b16-4715-b34d-d5de95a9d156",
   "metadata": {},
   "outputs": [
    {
     "name": "stdout",
     "output_type": "stream",
     "text": [
      "9\n",
      "18\n"
     ]
    }
   ],
   "source": [
    "num=(5,6,7)\n",
    "print(add_any(2,3,4))\n",
    "print(add_any(*num))\n"
   ]
  },
  {
   "cell_type": "code",
   "execution_count": 22,
   "id": "6ad3c41b-5831-486d-b16f-aa6c8f745322",
   "metadata": {},
   "outputs": [
    {
     "name": "stdout",
     "output_type": "stream",
     "text": [
      "(10, 20, 30)\n",
      "10 20 30\n"
     ]
    },
    {
     "data": {
      "text/plain": [
       "60"
      ]
     },
     "execution_count": 22,
     "metadata": {},
     "output_type": "execute_result"
    }
   ],
   "source": [
    "apply(lambda a,b,c: a+b+c, 10,20,30)"
   ]
  },
  {
   "cell_type": "code",
   "execution_count": 3,
   "id": "84408635-84a0-489f-8b42-ca7be17c6374",
   "metadata": {},
   "outputs": [
    {
     "name": "stdout",
     "output_type": "stream",
     "text": [
      "(10, 20, 30)\n",
      "10 20 30\n"
     ]
    },
    {
     "data": {
      "text/plain": [
       "60"
      ]
     },
     "execution_count": 3,
     "metadata": {},
     "output_type": "execute_result"
    }
   ],
   "source": [
    "apply(lambda a,b,c: a+b+c,10,20,30)"
   ]
  },
  {
   "cell_type": "code",
   "execution_count": 4,
   "id": "e134a86c-2225-4bba-bd45-6f2801ceaccd",
   "metadata": {},
   "outputs": [],
   "source": [
    "def mult(a,b):\n",
    "    return a*b\n",
    "def power(a,b):\n",
    "    return a ** n"
   ]
  },
  {
   "cell_type": "code",
   "execution_count": 5,
   "id": "ddac9a95-9d25-4981-92de-4b2fe3bef0e2",
   "metadata": {},
   "outputs": [],
   "source": [
    "def choose_operator(name):\n",
    "    if name == 'add':\n",
    "        return add\n",
    "    if name == 'mult':\n",
    "        return mult\n",
    "    if name == 'power':\n",
    "        return power"
   ]
  },
  {
   "cell_type": "code",
   "execution_count": 6,
   "id": "13366013-d7e1-419a-9bcd-2d7523367abd",
   "metadata": {},
   "outputs": [],
   "source": [
    "op=choose_operator('power')"
   ]
  },
  {
   "cell_type": "code",
   "execution_count": 7,
   "id": "b4146987-9282-4851-a5fd-366361d451b2",
   "metadata": {},
   "outputs": [
    {
     "data": {
      "text/plain": [
       "<function __main__.power(a, b)>"
      ]
     },
     "execution_count": 7,
     "metadata": {},
     "output_type": "execute_result"
    }
   ],
   "source": [
    "op"
   ]
  },
  {
   "cell_type": "code",
   "execution_count": null,
   "id": "c9ddeada-eb20-4e9a-bd39-c71191cbb6a1",
   "metadata": {},
   "outputs": [],
   "source": [
    "def choose_operator(name):\n",
    "    def add(a,b):\n",
    "        return a + b\n",
    "    def mult("
   ]
  },
  {
   "cell_type": "code",
   "execution_count": null,
   "id": "170d63ea-1bb1-47f3-b5b0-9dade712bc7c",
   "metadata": {},
   "outputs": [],
   "source": []
  }
 ],
 "metadata": {
  "kernelspec": {
   "display_name": "Python 3 (ipykernel)",
   "language": "python",
   "name": "python3"
  },
  "language_info": {
   "codemirror_mode": {
    "name": "ipython",
    "version": 3
   },
   "file_extension": ".py",
   "mimetype": "text/x-python",
   "name": "python",
   "nbconvert_exporter": "python",
   "pygments_lexer": "ipython3",
   "version": "3.10.0"
  }
 },
 "nbformat": 4,
 "nbformat_minor": 5
}
