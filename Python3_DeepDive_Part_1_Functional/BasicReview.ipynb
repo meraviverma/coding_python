{
 "cells": [
  {
   "cell_type": "markdown",
   "id": "fd290ff1-925c-45c0-b9a5-17a5fa14dd2c",
   "metadata": {},
   "source": [
    "# Multi-Line Statement and Strings\n",
    "### Multi-Line String Literal\n"
   ]
  },
  {
   "cell_type": "code",
   "execution_count": 1,
   "id": "d30309e3-81f4-4d7e-a143-d1751279b8c1",
   "metadata": {},
   "outputs": [],
   "source": [
    "a=[1,2,3]"
   ]
  },
  {
   "cell_type": "code",
   "execution_count": 2,
   "id": "88969b96-a2f3-48cd-957e-7ed0579b9228",
   "metadata": {},
   "outputs": [],
   "source": [
    "a=[1,2\n",
    "   ,3,4,5]"
   ]
  },
  {
   "cell_type": "code",
   "execution_count": 3,
   "id": "0c95e805-2c79-47aa-9105-04b43c5f82b9",
   "metadata": {},
   "outputs": [
    {
     "data": {
      "text/plain": [
       "[1, 2, 3, 4, 5]"
      ]
     },
     "execution_count": 3,
     "metadata": {},
     "output_type": "execute_result"
    }
   ],
   "source": [
    "a"
   ]
  },
  {
   "cell_type": "code",
   "execution_count": 4,
   "id": "2a4b804b-d031-49f6-accf-6fe655430519",
   "metadata": {},
   "outputs": [],
   "source": [
    "a=[1 #item 1\n",
    "  ,2]"
   ]
  },
  {
   "cell_type": "code",
   "execution_count": 5,
   "id": "44ccbb67-89b6-484b-984f-3826927b14f5",
   "metadata": {},
   "outputs": [
    {
     "data": {
      "text/plain": [
       "[1, 2]"
      ]
     },
     "execution_count": 5,
     "metadata": {},
     "output_type": "execute_result"
    }
   ],
   "source": [
    "a"
   ]
  },
  {
   "cell_type": "code",
   "execution_count": 6,
   "id": "4adfaeb5-ac41-4bba-b668-9d7a05af094a",
   "metadata": {},
   "outputs": [],
   "source": [
    "a=(1,\n",
    "   2 #comment\n",
    "   ,3)"
   ]
  },
  {
   "cell_type": "code",
   "execution_count": 7,
   "id": "ac82108f-2e4d-4ae8-b953-1d4e3aa6cb66",
   "metadata": {},
   "outputs": [
    {
     "data": {
      "text/plain": [
       "(1, 2, 3)"
      ]
     },
     "execution_count": 7,
     "metadata": {},
     "output_type": "execute_result"
    }
   ],
   "source": [
    "a"
   ]
  },
  {
   "cell_type": "code",
   "execution_count": 8,
   "id": "8a88c126-13d4-47bd-a90d-a59f7e959441",
   "metadata": {},
   "outputs": [],
   "source": [
    "a={'key1': 1 #value for key 1\n",
    "   ,'key2':2\n",
    "  }"
   ]
  },
  {
   "cell_type": "code",
   "execution_count": 9,
   "id": "464b7adc-ec9d-480a-be22-0f926dd65358",
   "metadata": {},
   "outputs": [
    {
     "data": {
      "text/plain": [
       "{'key1': 1, 'key2': 2}"
      ]
     },
     "execution_count": 9,
     "metadata": {},
     "output_type": "execute_result"
    }
   ],
   "source": [
    "a"
   ]
  },
  {
   "cell_type": "code",
   "execution_count": 11,
   "id": "350974d7-8c00-401a-97b4-57ae82117206",
   "metadata": {},
   "outputs": [],
   "source": [
    "def my_func(a, #This is used to indicate comment\n",
    "            b, # This is second comment\n",
    "            c):\n",
    "    print(a,b,c)"
   ]
  },
  {
   "cell_type": "code",
   "execution_count": 12,
   "id": "9af4bb20-dfd2-4dde-b3fa-4e1822d65fa6",
   "metadata": {},
   "outputs": [
    {
     "name": "stdout",
     "output_type": "stream",
     "text": [
      "10 23 3\n"
     ]
    }
   ],
   "source": [
    "my_func(10,23,3)"
   ]
  },
  {
   "cell_type": "code",
   "execution_count": 13,
   "id": "3da30004-2d17-42bf-a8f6-c242fa76e9b2",
   "metadata": {},
   "outputs": [
    {
     "name": "stdout",
     "output_type": "stream",
     "text": [
      "10 20 22\n"
     ]
    }
   ],
   "source": [
    "my_func(10,\n",
    "        20,\n",
    "        22)"
   ]
  },
  {
   "cell_type": "code",
   "execution_count": 14,
   "id": "edc4d8f1-a4f2-4c3b-8464-2d4acc2815c9",
   "metadata": {},
   "outputs": [
    {
     "name": "stdout",
     "output_type": "stream",
     "text": [
      "10 20 30\n"
     ]
    }
   ],
   "source": [
    "my_func(10, #commnet\n",
    "        20, #comment\n",
    "        30)"
   ]
  },
  {
   "cell_type": "code",
   "execution_count": 15,
   "id": "18ea0d04-3921-412d-a5e9-73d3645d7479",
   "metadata": {},
   "outputs": [],
   "source": [
    "a=10\n",
    "b=20\n",
    "c=30"
   ]
  },
  {
   "cell_type": "code",
   "execution_count": 16,
   "id": "82d83544-957c-499e-ba95-102d912a8950",
   "metadata": {},
   "outputs": [
    {
     "name": "stdout",
     "output_type": "stream",
     "text": [
      "yes\n"
     ]
    }
   ],
   "source": [
    "if a>5 and b>10 and c>20:\n",
    "    print('yes')"
   ]
  },
  {
   "cell_type": "code",
   "execution_count": 17,
   "id": "a84d0a99-3401-440f-9d41-2e4d3df3af86",
   "metadata": {},
   "outputs": [],
   "source": [
    "#sometime line can be very long"
   ]
  },
  {
   "cell_type": "code",
   "execution_count": 18,
   "id": "25f582f4-773b-4167-93d2-936fe1001b83",
   "metadata": {},
   "outputs": [
    {
     "name": "stdout",
     "output_type": "stream",
     "text": [
      "yes\n"
     ]
    }
   ],
   "source": [
    "if a > 5 \\\n",
    "and b > 10 \\\n",
    "and c > 20:\n",
    "    print('yes')"
   ]
  },
  {
   "cell_type": "code",
   "execution_count": 19,
   "id": "01da80ed-a18b-4afc-a134-26411097701c",
   "metadata": {},
   "outputs": [],
   "source": [
    "#Indendation doesn't matter in this case"
   ]
  },
  {
   "cell_type": "code",
   "execution_count": 20,
   "id": "5ed3ee0d-20ac-4853-9144-2cd04aed7ba7",
   "metadata": {},
   "outputs": [],
   "source": [
    "a = '''how are you'''"
   ]
  },
  {
   "cell_type": "code",
   "execution_count": 21,
   "id": "f0bc9c74-890f-45bf-a59e-222f3e117c4b",
   "metadata": {},
   "outputs": [
    {
     "data": {
      "text/plain": [
       "'how are you'"
      ]
     },
     "execution_count": 21,
     "metadata": {},
     "output_type": "execute_result"
    }
   ],
   "source": [
    "a"
   ]
  },
  {
   "cell_type": "code",
   "execution_count": 22,
   "id": "9b69d87c-6f5f-4d0d-bb98-ad6197138a9e",
   "metadata": {},
   "outputs": [],
   "source": [
    "a='''this\n",
    "is a string'''"
   ]
  },
  {
   "cell_type": "code",
   "execution_count": 23,
   "id": "400d2912-db67-4786-92f0-4d3ca793cca7",
   "metadata": {},
   "outputs": [
    {
     "data": {
      "text/plain": [
       "'this\\nis a string'"
      ]
     },
     "execution_count": 23,
     "metadata": {},
     "output_type": "execute_result"
    }
   ],
   "source": [
    "a"
   ]
  },
  {
   "cell_type": "code",
   "execution_count": 24,
   "id": "401c22b2-3c38-4044-b16a-c3c4dadbc56c",
   "metadata": {},
   "outputs": [
    {
     "name": "stdout",
     "output_type": "stream",
     "text": [
      "this\n",
      "is a string\n"
     ]
    }
   ],
   "source": [
    "print(a)"
   ]
  },
  {
   "cell_type": "code",
   "execution_count": 25,
   "id": "82b1db0f-3ba9-40cd-85dd-9e094394708b",
   "metadata": {},
   "outputs": [],
   "source": [
    "a='''this\n",
    "         is a string\n",
    "             that is created over multiple'''"
   ]
  },
  {
   "cell_type": "code",
   "execution_count": 26,
   "id": "0e7b2f99-0704-456b-96a7-73560b5466d3",
   "metadata": {},
   "outputs": [
    {
     "data": {
      "text/plain": [
       "'this\\n         is a string\\n             that is created over multiple'"
      ]
     },
     "execution_count": 26,
     "metadata": {},
     "output_type": "execute_result"
    }
   ],
   "source": [
    "a"
   ]
  },
  {
   "cell_type": "code",
   "execution_count": 27,
   "id": "40a8ad60-cf0c-4f37-98de-f81b1c577f64",
   "metadata": {},
   "outputs": [
    {
     "name": "stdout",
     "output_type": "stream",
     "text": [
      "this\n",
      "         is a string\n",
      "             that is created over multiple\n"
     ]
    }
   ],
   "source": [
    "print(a)"
   ]
  },
  {
   "cell_type": "code",
   "execution_count": 28,
   "id": "47535fba-5634-49eb-bceb-abbf41b15816",
   "metadata": {},
   "outputs": [],
   "source": [
    "a='''some items:\n",
    "        1.item 1\n",
    "        2.item 2'''"
   ]
  },
  {
   "cell_type": "code",
   "execution_count": 29,
   "id": "15200d10-46bc-47df-bd03-8e0cde8a3ac4",
   "metadata": {},
   "outputs": [
    {
     "name": "stdout",
     "output_type": "stream",
     "text": [
      "some items:\n",
      "        1.item 1\n",
      "        2.item 2\n"
     ]
    }
   ],
   "source": [
    "print(a)"
   ]
  },
  {
   "cell_type": "code",
   "execution_count": 31,
   "id": "bb32b3ca-b873-4bc2-a821-4a955e131f64",
   "metadata": {},
   "outputs": [],
   "source": [
    "def my_func():\n",
    "    a='''a multi-line string\n",
    "    that is indented in second line'''\n",
    "    return a"
   ]
  },
  {
   "cell_type": "code",
   "execution_count": 32,
   "id": "d9470c6a-4bb9-44d8-b698-305221e5086f",
   "metadata": {},
   "outputs": [
    {
     "name": "stdout",
     "output_type": "stream",
     "text": [
      "a multi-line string\n",
      "    that is indented in second line\n"
     ]
    }
   ],
   "source": [
    "print(my_func())"
   ]
  },
  {
   "cell_type": "markdown",
   "id": "1bcb87a6-970e-4ea2-8cc8-5e3da27a9e27",
   "metadata": {},
   "source": [
    "# Variable Names"
   ]
  },
  {
   "cell_type": "code",
   "execution_count": null,
   "id": "ad3dae37-92d3-4bd1-af02-c51633e8d5e8",
   "metadata": {},
   "outputs": [],
   "source": [
    "# _ underscpre as first character indicate that this is for 'internal use' or 'private object'\n",
    "# Example: _my_var"
   ]
  }
 ],
 "metadata": {
  "kernelspec": {
   "display_name": "Python 3 (ipykernel)",
   "language": "python",
   "name": "python3"
  },
  "language_info": {
   "codemirror_mode": {
    "name": "ipython",
    "version": 3
   },
   "file_extension": ".py",
   "mimetype": "text/x-python",
   "name": "python",
   "nbconvert_exporter": "python",
   "pygments_lexer": "ipython3",
   "version": "3.10.0"
  }
 },
 "nbformat": 4,
 "nbformat_minor": 5
}
